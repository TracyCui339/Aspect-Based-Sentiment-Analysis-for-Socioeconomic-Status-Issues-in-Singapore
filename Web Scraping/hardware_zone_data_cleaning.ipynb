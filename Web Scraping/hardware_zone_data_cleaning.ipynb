{
 "cells": [
  {
   "cell_type": "code",
   "execution_count": 2,
   "metadata": {},
   "outputs": [
    {
     "name": "stdout",
     "output_type": "stream",
     "text": [
      "Requirement already satisfied: swifter in c:\\users\\chuan wu\\anaconda3\\lib\\site-packages (1.3.4)\n",
      "Requirement already satisfied: bleach>=3.1.1 in c:\\users\\chuan wu\\anaconda3\\lib\\site-packages (from swifter) (4.1.0)\n",
      "Requirement already satisfied: pandas>=1.0.0 in c:\\users\\chuan wu\\anaconda3\\lib\\site-packages (from swifter) (1.4.4)\n",
      "Requirement already satisfied: psutil>=5.6.6 in c:\\users\\chuan wu\\anaconda3\\lib\\site-packages (from swifter) (5.9.0)\n",
      "Requirement already satisfied: dask[dataframe]>=2.10.0 in c:\\users\\chuan wu\\anaconda3\\lib\\site-packages (from swifter) (2022.7.0)\n",
      "Requirement already satisfied: ipywidgets>=7.0.0 in c:\\users\\chuan wu\\anaconda3\\lib\\site-packages (from swifter) (7.6.5)\n",
      "Requirement already satisfied: cloudpickle>=0.2.2 in c:\\users\\chuan wu\\anaconda3\\lib\\site-packages (from swifter) (2.0.0)\n",
      "Requirement already satisfied: parso>0.4.0 in c:\\users\\chuan wu\\anaconda3\\lib\\site-packages (from swifter) (0.8.3)\n",
      "Requirement already satisfied: tqdm>=4.33.0 in c:\\users\\chuan wu\\anaconda3\\lib\\site-packages (from swifter) (4.64.1)\n",
      "Requirement already satisfied: webencodings in c:\\users\\chuan wu\\anaconda3\\lib\\site-packages (from bleach>=3.1.1->swifter) (0.5.1)\n",
      "Requirement already satisfied: six>=1.9.0 in c:\\users\\chuan wu\\anaconda3\\lib\\site-packages (from bleach>=3.1.1->swifter) (1.16.0)\n",
      "Requirement already satisfied: packaging in c:\\users\\chuan wu\\anaconda3\\lib\\site-packages (from bleach>=3.1.1->swifter) (21.3)\n",
      "Requirement already satisfied: pyyaml>=5.3.1 in c:\\users\\chuan wu\\anaconda3\\lib\\site-packages (from dask[dataframe]>=2.10.0->swifter) (6.0)\n",
      "Requirement already satisfied: fsspec>=0.6.0 in c:\\users\\chuan wu\\anaconda3\\lib\\site-packages (from dask[dataframe]>=2.10.0->swifter) (2022.7.1)\n",
      "Requirement already satisfied: partd>=0.3.10 in c:\\users\\chuan wu\\anaconda3\\lib\\site-packages (from dask[dataframe]>=2.10.0->swifter) (1.2.0)\n",
      "Requirement already satisfied: toolz>=0.8.2 in c:\\users\\chuan wu\\anaconda3\\lib\\site-packages (from dask[dataframe]>=2.10.0->swifter) (0.11.2)\n",
      "Requirement already satisfied: numpy>=1.18 in c:\\users\\chuan wu\\anaconda3\\lib\\site-packages (from dask[dataframe]>=2.10.0->swifter) (1.24.2)\n",
      "Requirement already satisfied: ipython-genutils~=0.2.0 in c:\\users\\chuan wu\\anaconda3\\lib\\site-packages (from ipywidgets>=7.0.0->swifter) (0.2.0)\n",
      "Requirement already satisfied: widgetsnbextension~=3.5.0 in c:\\users\\chuan wu\\anaconda3\\lib\\site-packages (from ipywidgets>=7.0.0->swifter) (3.5.2)\n",
      "Requirement already satisfied: ipykernel>=4.5.1 in c:\\users\\chuan wu\\anaconda3\\lib\\site-packages (from ipywidgets>=7.0.0->swifter) (6.15.2)\n",
      "Requirement already satisfied: jupyterlab-widgets>=1.0.0 in c:\\users\\chuan wu\\anaconda3\\lib\\site-packages (from ipywidgets>=7.0.0->swifter) (1.0.0)\n",
      "Requirement already satisfied: nbformat>=4.2.0 in c:\\users\\chuan wu\\anaconda3\\lib\\site-packages (from ipywidgets>=7.0.0->swifter) (5.5.0)\n",
      "Requirement already satisfied: ipython>=4.0.0 in c:\\users\\chuan wu\\anaconda3\\lib\\site-packages (from ipywidgets>=7.0.0->swifter) (7.31.1)\n",
      "Requirement already satisfied: traitlets>=4.3.1 in c:\\users\\chuan wu\\anaconda3\\lib\\site-packages (from ipywidgets>=7.0.0->swifter) (5.1.1)\n",
      "Requirement already satisfied: pytz>=2020.1 in c:\\users\\chuan wu\\anaconda3\\lib\\site-packages (from pandas>=1.0.0->swifter) (2022.1)\n",
      "Requirement already satisfied: python-dateutil>=2.8.1 in c:\\users\\chuan wu\\anaconda3\\lib\\site-packages (from pandas>=1.0.0->swifter) (2.8.2)\n",
      "Requirement already satisfied: colorama in c:\\users\\chuan wu\\anaconda3\\lib\\site-packages (from tqdm>=4.33.0->swifter) (0.4.5)\n",
      "Requirement already satisfied: jupyter-client>=6.1.12 in c:\\users\\chuan wu\\anaconda3\\lib\\site-packages (from ipykernel>=4.5.1->ipywidgets>=7.0.0->swifter) (7.3.4)\n",
      "Requirement already satisfied: pyzmq>=17 in c:\\users\\chuan wu\\anaconda3\\lib\\site-packages (from ipykernel>=4.5.1->ipywidgets>=7.0.0->swifter) (23.2.0)\n",
      "Requirement already satisfied: debugpy>=1.0 in c:\\users\\chuan wu\\anaconda3\\lib\\site-packages (from ipykernel>=4.5.1->ipywidgets>=7.0.0->swifter) (1.5.1)\n",
      "Requirement already satisfied: nest-asyncio in c:\\users\\chuan wu\\anaconda3\\lib\\site-packages (from ipykernel>=4.5.1->ipywidgets>=7.0.0->swifter) (1.5.5)\n",
      "Requirement already satisfied: tornado>=6.1 in c:\\users\\chuan wu\\anaconda3\\lib\\site-packages (from ipykernel>=4.5.1->ipywidgets>=7.0.0->swifter) (6.1)\n",
      "Requirement already satisfied: matplotlib-inline>=0.1 in c:\\users\\chuan wu\\anaconda3\\lib\\site-packages (from ipykernel>=4.5.1->ipywidgets>=7.0.0->swifter) (0.1.6)\n",
      "Requirement already satisfied: pygments in c:\\users\\chuan wu\\anaconda3\\lib\\site-packages (from ipython>=4.0.0->ipywidgets>=7.0.0->swifter) (2.11.2)\n",
      "Requirement already satisfied: pickleshare in c:\\users\\chuan wu\\anaconda3\\lib\\site-packages (from ipython>=4.0.0->ipywidgets>=7.0.0->swifter) (0.7.5)\n",
      "Requirement already satisfied: jedi>=0.16 in c:\\users\\chuan wu\\anaconda3\\lib\\site-packages (from ipython>=4.0.0->ipywidgets>=7.0.0->swifter) (0.18.1)\n",
      "Requirement already satisfied: setuptools>=18.5 in c:\\users\\chuan wu\\anaconda3\\lib\\site-packages (from ipython>=4.0.0->ipywidgets>=7.0.0->swifter) (63.4.1)\n",
      "Requirement already satisfied: prompt-toolkit!=3.0.0,!=3.0.1,<3.1.0,>=2.0.0 in c:\\users\\chuan wu\\anaconda3\\lib\\site-packages (from ipython>=4.0.0->ipywidgets>=7.0.0->swifter) (3.0.20)\n",
      "Requirement already satisfied: backcall in c:\\users\\chuan wu\\anaconda3\\lib\\site-packages (from ipython>=4.0.0->ipywidgets>=7.0.0->swifter) (0.2.0)\n",
      "Requirement already satisfied: decorator in c:\\users\\chuan wu\\anaconda3\\lib\\site-packages (from ipython>=4.0.0->ipywidgets>=7.0.0->swifter) (5.1.1)\n",
      "Requirement already satisfied: jsonschema>=2.6 in c:\\users\\chuan wu\\anaconda3\\lib\\site-packages (from nbformat>=4.2.0->ipywidgets>=7.0.0->swifter) (4.16.0)\n",
      "Requirement already satisfied: fastjsonschema in c:\\users\\chuan wu\\anaconda3\\lib\\site-packages (from nbformat>=4.2.0->ipywidgets>=7.0.0->swifter) (2.16.2)\n",
      "Requirement already satisfied: jupyter_core in c:\\users\\chuan wu\\anaconda3\\lib\\site-packages (from nbformat>=4.2.0->ipywidgets>=7.0.0->swifter) (4.11.1)\n",
      "Requirement already satisfied: pyparsing!=3.0.5,>=2.0.2 in c:\\users\\chuan wu\\anaconda3\\lib\\site-packages (from packaging->bleach>=3.1.1->swifter) (3.0.9)\n",
      "Requirement already satisfied: locket in c:\\users\\chuan wu\\anaconda3\\lib\\site-packages (from partd>=0.3.10->dask[dataframe]>=2.10.0->swifter) (1.0.0)\n",
      "Requirement already satisfied: notebook>=4.4.1 in c:\\users\\chuan wu\\anaconda3\\lib\\site-packages (from widgetsnbextension~=3.5.0->ipywidgets>=7.0.0->swifter) (6.4.12)\n",
      "Requirement already satisfied: attrs>=17.4.0 in c:\\users\\chuan wu\\anaconda3\\lib\\site-packages (from jsonschema>=2.6->nbformat>=4.2.0->ipywidgets>=7.0.0->swifter) (21.4.0)\n",
      "Requirement already satisfied: pyrsistent!=0.17.0,!=0.17.1,!=0.17.2,>=0.14.0 in c:\\users\\chuan wu\\anaconda3\\lib\\site-packages (from jsonschema>=2.6->nbformat>=4.2.0->ipywidgets>=7.0.0->swifter) (0.18.0)\n",
      "Requirement already satisfied: entrypoints in c:\\users\\chuan wu\\anaconda3\\lib\\site-packages (from jupyter-client>=6.1.12->ipykernel>=4.5.1->ipywidgets>=7.0.0->swifter) (0.4)\n",
      "Requirement already satisfied: pywin32>=1.0 in c:\\users\\chuan wu\\anaconda3\\lib\\site-packages (from jupyter_core->nbformat>=4.2.0->ipywidgets>=7.0.0->swifter) (302)\n",
      "Requirement already satisfied: prometheus-client in c:\\users\\chuan wu\\anaconda3\\lib\\site-packages (from notebook>=4.4.1->widgetsnbextension~=3.5.0->ipywidgets>=7.0.0->swifter) (0.14.1)\n",
      "Requirement already satisfied: nbconvert>=5 in c:\\users\\chuan wu\\anaconda3\\lib\\site-packages (from notebook>=4.4.1->widgetsnbextension~=3.5.0->ipywidgets>=7.0.0->swifter) (6.4.4)\n",
      "Requirement already satisfied: argon2-cffi in c:\\users\\chuan wu\\anaconda3\\lib\\site-packages (from notebook>=4.4.1->widgetsnbextension~=3.5.0->ipywidgets>=7.0.0->swifter) (21.3.0)\n",
      "Requirement already satisfied: terminado>=0.8.3 in c:\\users\\chuan wu\\anaconda3\\lib\\site-packages (from notebook>=4.4.1->widgetsnbextension~=3.5.0->ipywidgets>=7.0.0->swifter) (0.13.1)\n",
      "Requirement already satisfied: jinja2 in c:\\users\\chuan wu\\anaconda3\\lib\\site-packages (from notebook>=4.4.1->widgetsnbextension~=3.5.0->ipywidgets>=7.0.0->swifter) (2.11.3)\n",
      "Requirement already satisfied: Send2Trash>=1.8.0 in c:\\users\\chuan wu\\anaconda3\\lib\\site-packages (from notebook>=4.4.1->widgetsnbextension~=3.5.0->ipywidgets>=7.0.0->swifter) (1.8.0)\n",
      "Requirement already satisfied: wcwidth in c:\\users\\chuan wu\\anaconda3\\lib\\site-packages (from prompt-toolkit!=3.0.0,!=3.0.1,<3.1.0,>=2.0.0->ipython>=4.0.0->ipywidgets>=7.0.0->swifter) (0.2.5)\n",
      "Requirement already satisfied: nbclient<0.6.0,>=0.5.0 in c:\\users\\chuan wu\\anaconda3\\lib\\site-packages (from nbconvert>=5->notebook>=4.4.1->widgetsnbextension~=3.5.0->ipywidgets>=7.0.0->swifter) (0.5.13)\n",
      "Requirement already satisfied: beautifulsoup4 in c:\\users\\chuan wu\\anaconda3\\lib\\site-packages (from nbconvert>=5->notebook>=4.4.1->widgetsnbextension~=3.5.0->ipywidgets>=7.0.0->swifter) (4.11.1)\n",
      "Requirement already satisfied: testpath in c:\\users\\chuan wu\\anaconda3\\lib\\site-packages (from nbconvert>=5->notebook>=4.4.1->widgetsnbextension~=3.5.0->ipywidgets>=7.0.0->swifter) (0.6.0)\n",
      "Requirement already satisfied: defusedxml in c:\\users\\chuan wu\\anaconda3\\lib\\site-packages (from nbconvert>=5->notebook>=4.4.1->widgetsnbextension~=3.5.0->ipywidgets>=7.0.0->swifter) (0.7.1)\n",
      "Requirement already satisfied: mistune<2,>=0.8.1 in c:\\users\\chuan wu\\anaconda3\\lib\\site-packages (from nbconvert>=5->notebook>=4.4.1->widgetsnbextension~=3.5.0->ipywidgets>=7.0.0->swifter) (0.8.4)\n",
      "Requirement already satisfied: pandocfilters>=1.4.1 in c:\\users\\chuan wu\\anaconda3\\lib\\site-packages (from nbconvert>=5->notebook>=4.4.1->widgetsnbextension~=3.5.0->ipywidgets>=7.0.0->swifter) (1.5.0)\n",
      "Requirement already satisfied: jupyterlab-pygments in c:\\users\\chuan wu\\anaconda3\\lib\\site-packages (from nbconvert>=5->notebook>=4.4.1->widgetsnbextension~=3.5.0->ipywidgets>=7.0.0->swifter) (0.1.2)\n",
      "Requirement already satisfied: MarkupSafe>=0.23 in c:\\users\\chuan wu\\anaconda3\\lib\\site-packages (from jinja2->notebook>=4.4.1->widgetsnbextension~=3.5.0->ipywidgets>=7.0.0->swifter) (2.0.1)\n",
      "Requirement already satisfied: pywinpty>=1.1.0 in c:\\users\\chuan wu\\anaconda3\\lib\\site-packages (from terminado>=0.8.3->notebook>=4.4.1->widgetsnbextension~=3.5.0->ipywidgets>=7.0.0->swifter) (2.0.2)\n",
      "Requirement already satisfied: argon2-cffi-bindings in c:\\users\\chuan wu\\anaconda3\\lib\\site-packages (from argon2-cffi->notebook>=4.4.1->widgetsnbextension~=3.5.0->ipywidgets>=7.0.0->swifter) (21.2.0)\n",
      "Requirement already satisfied: cffi>=1.0.1 in c:\\users\\chuan wu\\anaconda3\\lib\\site-packages (from argon2-cffi-bindings->argon2-cffi->notebook>=4.4.1->widgetsnbextension~=3.5.0->ipywidgets>=7.0.0->swifter) (1.15.1)\n",
      "Requirement already satisfied: soupsieve>1.2 in c:\\users\\chuan wu\\anaconda3\\lib\\site-packages (from beautifulsoup4->nbconvert>=5->notebook>=4.4.1->widgetsnbextension~=3.5.0->ipywidgets>=7.0.0->swifter) (2.3.1)\n",
      "Requirement already satisfied: pycparser in c:\\users\\chuan wu\\anaconda3\\lib\\site-packages (from cffi>=1.0.1->argon2-cffi-bindings->argon2-cffi->notebook>=4.4.1->widgetsnbextension~=3.5.0->ipywidgets>=7.0.0->swifter) (2.21)\n"
     ]
    },
    {
     "name": "stdout",
     "output_type": "stream",
     "text": [
      "Requirement already satisfied: swifter in c:\\users\\chuan wu\\anaconda3\\lib\\site-packages (1.3.4)\n",
      "Requirement already satisfied: bleach>=3.1.1 in c:\\users\\chuan wu\\anaconda3\\lib\\site-packages (from swifter) (4.1.0)\n",
      "Requirement already satisfied: pandas>=1.0.0 in c:\\users\\chuan wu\\anaconda3\\lib\\site-packages (from swifter) (1.4.4)\n",
      "Requirement already satisfied: psutil>=5.6.6 in c:\\users\\chuan wu\\anaconda3\\lib\\site-packages (from swifter) (5.9.0)\n",
      "Requirement already satisfied: dask[dataframe]>=2.10.0 in c:\\users\\chuan wu\\anaconda3\\lib\\site-packages (from swifter) (2022.7.0)\n",
      "Requirement already satisfied: ipywidgets>=7.0.0 in c:\\users\\chuan wu\\anaconda3\\lib\\site-packages (from swifter) (7.6.5)\n",
      "Requirement already satisfied: cloudpickle>=0.2.2 in c:\\users\\chuan wu\\anaconda3\\lib\\site-packages (from swifter) (2.0.0)\n",
      "Requirement already satisfied: parso>0.4.0 in c:\\users\\chuan wu\\anaconda3\\lib\\site-packages (from swifter) (0.8.3)\n",
      "Requirement already satisfied: tqdm>=4.33.0 in c:\\users\\chuan wu\\anaconda3\\lib\\site-packages (from swifter) (4.64.1)\n",
      "Requirement already satisfied: webencodings in c:\\users\\chuan wu\\anaconda3\\lib\\site-packages (from bleach>=3.1.1->swifter) (0.5.1)\n",
      "Requirement already satisfied: six>=1.9.0 in c:\\users\\chuan wu\\anaconda3\\lib\\site-packages (from bleach>=3.1.1->swifter) (1.16.0)\n",
      "Requirement already satisfied: packaging in c:\\users\\chuan wu\\anaconda3\\lib\\site-packages (from bleach>=3.1.1->swifter) (21.3)\n",
      "Requirement already satisfied: pyyaml>=5.3.1 in c:\\users\\chuan wu\\anaconda3\\lib\\site-packages (from dask[dataframe]>=2.10.0->swifter) (6.0)\n",
      "Requirement already satisfied: fsspec>=0.6.0 in c:\\users\\chuan wu\\anaconda3\\lib\\site-packages (from dask[dataframe]>=2.10.0->swifter) (2022.7.1)\n",
      "Requirement already satisfied: partd>=0.3.10 in c:\\users\\chuan wu\\anaconda3\\lib\\site-packages (from dask[dataframe]>=2.10.0->swifter) (1.2.0)\n",
      "Requirement already satisfied: toolz>=0.8.2 in c:\\users\\chuan wu\\anaconda3\\lib\\site-packages (from dask[dataframe]>=2.10.0->swifter) (0.11.2)\n",
      "Requirement already satisfied: numpy>=1.18 in c:\\users\\chuan wu\\anaconda3\\lib\\site-packages (from dask[dataframe]>=2.10.0->swifter) (1.24.2)\n",
      "Requirement already satisfied: ipython-genutils~=0.2.0 in c:\\users\\chuan wu\\anaconda3\\lib\\site-packages (from ipywidgets>=7.0.0->swifter) (0.2.0)\n",
      "Requirement already satisfied: widgetsnbextension~=3.5.0 in c:\\users\\chuan wu\\anaconda3\\lib\\site-packages (from ipywidgets>=7.0.0->swifter) (3.5.2)\n",
      "Requirement already satisfied: ipykernel>=4.5.1 in c:\\users\\chuan wu\\anaconda3\\lib\\site-packages (from ipywidgets>=7.0.0->swifter) (6.15.2)\n",
      "Requirement already satisfied: jupyterlab-widgets>=1.0.0 in c:\\users\\chuan wu\\anaconda3\\lib\\site-packages (from ipywidgets>=7.0.0->swifter) (1.0.0)\n",
      "Requirement already satisfied: nbformat>=4.2.0 in c:\\users\\chuan wu\\anaconda3\\lib\\site-packages (from ipywidgets>=7.0.0->swifter) (5.5.0)\n",
      "Requirement already satisfied: ipython>=4.0.0 in c:\\users\\chuan wu\\anaconda3\\lib\\site-packages (from ipywidgets>=7.0.0->swifter) (7.31.1)\n",
      "Requirement already satisfied: traitlets>=4.3.1 in c:\\users\\chuan wu\\anaconda3\\lib\\site-packages (from ipywidgets>=7.0.0->swifter) (5.1.1)\n",
      "Requirement already satisfied: pytz>=2020.1 in c:\\users\\chuan wu\\anaconda3\\lib\\site-packages (from pandas>=1.0.0->swifter) (2022.1)\n",
      "Requirement already satisfied: python-dateutil>=2.8.1 in c:\\users\\chuan wu\\anaconda3\\lib\\site-packages (from pandas>=1.0.0->swifter) (2.8.2)\n",
      "Requirement already satisfied: colorama in c:\\users\\chuan wu\\anaconda3\\lib\\site-packages (from tqdm>=4.33.0->swifter) (0.4.5)\n",
      "Requirement already satisfied: jupyter-client>=6.1.12 in c:\\users\\chuan wu\\anaconda3\\lib\\site-packages (from ipykernel>=4.5.1->ipywidgets>=7.0.0->swifter) (7.3.4)\n",
      "Requirement already satisfied: pyzmq>=17 in c:\\users\\chuan wu\\anaconda3\\lib\\site-packages (from ipykernel>=4.5.1->ipywidgets>=7.0.0->swifter) (23.2.0)\n",
      "Requirement already satisfied: debugpy>=1.0 in c:\\users\\chuan wu\\anaconda3\\lib\\site-packages (from ipykernel>=4.5.1->ipywidgets>=7.0.0->swifter) (1.5.1)\n",
      "Requirement already satisfied: nest-asyncio in c:\\users\\chuan wu\\anaconda3\\lib\\site-packages (from ipykernel>=4.5.1->ipywidgets>=7.0.0->swifter) (1.5.5)\n",
      "Requirement already satisfied: tornado>=6.1 in c:\\users\\chuan wu\\anaconda3\\lib\\site-packages (from ipykernel>=4.5.1->ipywidgets>=7.0.0->swifter) (6.1)\n",
      "Requirement already satisfied: matplotlib-inline>=0.1 in c:\\users\\chuan wu\\anaconda3\\lib\\site-packages (from ipykernel>=4.5.1->ipywidgets>=7.0.0->swifter) (0.1.6)\n",
      "Requirement already satisfied: pygments in c:\\users\\chuan wu\\anaconda3\\lib\\site-packages (from ipython>=4.0.0->ipywidgets>=7.0.0->swifter) (2.11.2)\n",
      "Requirement already satisfied: pickleshare in c:\\users\\chuan wu\\anaconda3\\lib\\site-packages (from ipython>=4.0.0->ipywidgets>=7.0.0->swifter) (0.7.5)\n",
      "Requirement already satisfied: jedi>=0.16 in c:\\users\\chuan wu\\anaconda3\\lib\\site-packages (from ipython>=4.0.0->ipywidgets>=7.0.0->swifter) (0.18.1)\n",
      "Requirement already satisfied: setuptools>=18.5 in c:\\users\\chuan wu\\anaconda3\\lib\\site-packages (from ipython>=4.0.0->ipywidgets>=7.0.0->swifter) (63.4.1)\n",
      "Requirement already satisfied: prompt-toolkit!=3.0.0,!=3.0.1,<3.1.0,>=2.0.0 in c:\\users\\chuan wu\\anaconda3\\lib\\site-packages (from ipython>=4.0.0->ipywidgets>=7.0.0->swifter) (3.0.20)\n",
      "Requirement already satisfied: backcall in c:\\users\\chuan wu\\anaconda3\\lib\\site-packages (from ipython>=4.0.0->ipywidgets>=7.0.0->swifter) (0.2.0)\n",
      "Requirement already satisfied: decorator in c:\\users\\chuan wu\\anaconda3\\lib\\site-packages (from ipython>=4.0.0->ipywidgets>=7.0.0->swifter) (5.1.1)\n",
      "Requirement already satisfied: jsonschema>=2.6 in c:\\users\\chuan wu\\anaconda3\\lib\\site-packages (from nbformat>=4.2.0->ipywidgets>=7.0.0->swifter) (4.16.0)\n",
      "Requirement already satisfied: fastjsonschema in c:\\users\\chuan wu\\anaconda3\\lib\\site-packages (from nbformat>=4.2.0->ipywidgets>=7.0.0->swifter) (2.16.2)\n",
      "Requirement already satisfied: jupyter_core in c:\\users\\chuan wu\\anaconda3\\lib\\site-packages (from nbformat>=4.2.0->ipywidgets>=7.0.0->swifter) (4.11.1)\n",
      "Requirement already satisfied: pyparsing!=3.0.5,>=2.0.2 in c:\\users\\chuan wu\\anaconda3\\lib\\site-packages (from packaging->bleach>=3.1.1->swifter) (3.0.9)\n",
      "Requirement already satisfied: locket in c:\\users\\chuan wu\\anaconda3\\lib\\site-packages (from partd>=0.3.10->dask[dataframe]>=2.10.0->swifter) (1.0.0)\n",
      "Requirement already satisfied: notebook>=4.4.1 in c:\\users\\chuan wu\\anaconda3\\lib\\site-packages (from widgetsnbextension~=3.5.0->ipywidgets>=7.0.0->swifter) (6.4.12)\n",
      "Requirement already satisfied: attrs>=17.4.0 in c:\\users\\chuan wu\\anaconda3\\lib\\site-packages (from jsonschema>=2.6->nbformat>=4.2.0->ipywidgets>=7.0.0->swifter) (21.4.0)\n",
      "Requirement already satisfied: pyrsistent!=0.17.0,!=0.17.1,!=0.17.2,>=0.14.0 in c:\\users\\chuan wu\\anaconda3\\lib\\site-packages (from jsonschema>=2.6->nbformat>=4.2.0->ipywidgets>=7.0.0->swifter) (0.18.0)\n",
      "Requirement already satisfied: entrypoints in c:\\users\\chuan wu\\anaconda3\\lib\\site-packages (from jupyter-client>=6.1.12->ipykernel>=4.5.1->ipywidgets>=7.0.0->swifter) (0.4)\n",
      "Requirement already satisfied: pywin32>=1.0 in c:\\users\\chuan wu\\anaconda3\\lib\\site-packages (from jupyter_core->nbformat>=4.2.0->ipywidgets>=7.0.0->swifter) (302)\n",
      "Requirement already satisfied: prometheus-client in c:\\users\\chuan wu\\anaconda3\\lib\\site-packages (from notebook>=4.4.1->widgetsnbextension~=3.5.0->ipywidgets>=7.0.0->swifter) (0.14.1)\n",
      "Requirement already satisfied: nbconvert>=5 in c:\\users\\chuan wu\\anaconda3\\lib\\site-packages (from notebook>=4.4.1->widgetsnbextension~=3.5.0->ipywidgets>=7.0.0->swifter) (6.4.4)\n",
      "Requirement already satisfied: argon2-cffi in c:\\users\\chuan wu\\anaconda3\\lib\\site-packages (from notebook>=4.4.1->widgetsnbextension~=3.5.0->ipywidgets>=7.0.0->swifter) (21.3.0)\n",
      "Requirement already satisfied: terminado>=0.8.3 in c:\\users\\chuan wu\\anaconda3\\lib\\site-packages (from notebook>=4.4.1->widgetsnbextension~=3.5.0->ipywidgets>=7.0.0->swifter) (0.13.1)\n",
      "Requirement already satisfied: jinja2 in c:\\users\\chuan wu\\anaconda3\\lib\\site-packages (from notebook>=4.4.1->widgetsnbextension~=3.5.0->ipywidgets>=7.0.0->swifter) (2.11.3)\n",
      "Requirement already satisfied: Send2Trash>=1.8.0 in c:\\users\\chuan wu\\anaconda3\\lib\\site-packages (from notebook>=4.4.1->widgetsnbextension~=3.5.0->ipywidgets>=7.0.0->swifter) (1.8.0)\n",
      "Requirement already satisfied: wcwidth in c:\\users\\chuan wu\\anaconda3\\lib\\site-packages (from prompt-toolkit!=3.0.0,!=3.0.1,<3.1.0,>=2.0.0->ipython>=4.0.0->ipywidgets>=7.0.0->swifter) (0.2.5)\n",
      "Requirement already satisfied: nbclient<0.6.0,>=0.5.0 in c:\\users\\chuan wu\\anaconda3\\lib\\site-packages (from nbconvert>=5->notebook>=4.4.1->widgetsnbextension~=3.5.0->ipywidgets>=7.0.0->swifter) (0.5.13)\n",
      "Requirement already satisfied: beautifulsoup4 in c:\\users\\chuan wu\\anaconda3\\lib\\site-packages (from nbconvert>=5->notebook>=4.4.1->widgetsnbextension~=3.5.0->ipywidgets>=7.0.0->swifter) (4.11.1)\n",
      "Requirement already satisfied: testpath in c:\\users\\chuan wu\\anaconda3\\lib\\site-packages (from nbconvert>=5->notebook>=4.4.1->widgetsnbextension~=3.5.0->ipywidgets>=7.0.0->swifter) (0.6.0)\n",
      "Requirement already satisfied: defusedxml in c:\\users\\chuan wu\\anaconda3\\lib\\site-packages (from nbconvert>=5->notebook>=4.4.1->widgetsnbextension~=3.5.0->ipywidgets>=7.0.0->swifter) (0.7.1)\n",
      "Requirement already satisfied: mistune<2,>=0.8.1 in c:\\users\\chuan wu\\anaconda3\\lib\\site-packages (from nbconvert>=5->notebook>=4.4.1->widgetsnbextension~=3.5.0->ipywidgets>=7.0.0->swifter) (0.8.4)\n",
      "Requirement already satisfied: pandocfilters>=1.4.1 in c:\\users\\chuan wu\\anaconda3\\lib\\site-packages (from nbconvert>=5->notebook>=4.4.1->widgetsnbextension~=3.5.0->ipywidgets>=7.0.0->swifter) (1.5.0)\n",
      "Requirement already satisfied: jupyterlab-pygments in c:\\users\\chuan wu\\anaconda3\\lib\\site-packages (from nbconvert>=5->notebook>=4.4.1->widgetsnbextension~=3.5.0->ipywidgets>=7.0.0->swifter) (0.1.2)\n",
      "Requirement already satisfied: MarkupSafe>=0.23 in c:\\users\\chuan wu\\anaconda3\\lib\\site-packages (from jinja2->notebook>=4.4.1->widgetsnbextension~=3.5.0->ipywidgets>=7.0.0->swifter) (2.0.1)\n",
      "Requirement already satisfied: pywinpty>=1.1.0 in c:\\users\\chuan wu\\anaconda3\\lib\\site-packages (from terminado>=0.8.3->notebook>=4.4.1->widgetsnbextension~=3.5.0->ipywidgets>=7.0.0->swifter) (2.0.2)\n",
      "Requirement already satisfied: argon2-cffi-bindings in c:\\users\\chuan wu\\anaconda3\\lib\\site-packages (from argon2-cffi->notebook>=4.4.1->widgetsnbextension~=3.5.0->ipywidgets>=7.0.0->swifter) (21.2.0)\n",
      "Requirement already satisfied: cffi>=1.0.1 in c:\\users\\chuan wu\\anaconda3\\lib\\site-packages (from argon2-cffi-bindings->argon2-cffi->notebook>=4.4.1->widgetsnbextension~=3.5.0->ipywidgets>=7.0.0->swifter) (1.15.1)\n",
      "Requirement already satisfied: soupsieve>1.2 in c:\\users\\chuan wu\\anaconda3\\lib\\site-packages (from beautifulsoup4->nbconvert>=5->notebook>=4.4.1->widgetsnbextension~=3.5.0->ipywidgets>=7.0.0->swifter) (2.3.1)\n",
      "Requirement already satisfied: pycparser in c:\\users\\chuan wu\\anaconda3\\lib\\site-packages (from cffi>=1.0.1->argon2-cffi-bindings->argon2-cffi->notebook>=4.4.1->widgetsnbextension~=3.5.0->ipywidgets>=7.0.0->swifter) (2.21)\n"
     ]
    }
   ],
   "source": [
    "import pandas as pd\n",
    "import numpy as np\n",
    "import re\n",
    "import time\n",
    "import swifter\n",
    "source_data = pd.read_csv(\"hardware_zone_raw_data_with_detail_multithread.csv\")"
   ]
  },
  {
   "cell_type": "code",
   "execution_count": 3,
   "metadata": {},
   "outputs": [
    {
     "name": "stdout",
     "output_type": "stream",
     "text": [
      "(1140, 12)\n",
      "(1065, 12)\n",
      "(1140, 12)\n",
      "(1065, 12)\n"
     ]
    }
   ],
   "source": [
    "print(source_data.shape)\n",
    "source_data['Timestamp'] = pd.to_datetime(source_data['Timestamp'])\n",
    "source_data = source_data[(source_data['Timestamp'] > '2017-01-01 00:00:00')]\n",
    "source_data['Search_Term'] = source_data['Search_Term'].astype(str)\n",
    "source_data['Content'] =  source_data['Content'].astype(str)\n",
    "print(source_data.shape)\n"
   ]
  },
  {
   "cell_type": "code",
   "execution_count": 4,
   "metadata": {},
   "outputs": [
    {
     "name": "stdout",
     "output_type": "stream",
     "text": [
      "Start cleaning at Tue Apr  4 13:38:40 2023\n",
      "Start cleaning at Tue Apr  4 13:38:40 2023\n"
     ]
    },
    {
     "data": {
      "application/vnd.jupyter.widget-view+json": {
       "model_id": "34079f5e944b4ae0b9382af636dc007e",
       "version_major": 2,
       "version_minor": 0
      },
      "text/plain": [
       "Pandas Apply:   0%|          | 0/1065 [00:00<?, ?it/s]"
      ]
     },
     "metadata": {},
     "output_type": "display_data"
    },
    {
     "data": {
      "application/vnd.jupyter.widget-view+json": {
       "model_id": "34079f5e944b4ae0b9382af636dc007e",
       "version_major": 2,
       "version_minor": 0
      },
      "text/plain": [
       "Pandas Apply:   0%|          | 0/1065 [00:00<?, ?it/s]"
      ]
     },
     "metadata": {},
     "output_type": "display_data"
    }
   ],
   "source": [
    "quote_string = \"Click to expand...\"\n",
    "def content_cleaning(row):\n",
    "    final_string = \"\"\n",
    "    quote_index = str(row.Content).find(quote_string)\n",
    "    if quote_index > 0:\n",
    "        final_string = row.Content[quote_index + len(quote_string):]\n",
    "    else:\n",
    "        final_string = row.Content\n",
    "    \n",
    "    #Weird thing have to do this to convert to unicode then removed by ascii\n",
    "    pattern = r\"\\\\u.{4}\"\n",
    "    mod_string = re.sub(pattern, ' ', final_string)\n",
    "\n",
    "    #encode() method\n",
    "    strencode = str(mod_string).encode(\"ascii\", \"ignore\")\n",
    "    #decode() method\n",
    "    strdecode = strencode.decode()\n",
    "\n",
    "    return strdecode\n",
    "print(\"Start cleaning at \" + time.ctime())\n",
    "source_data.loc[:,\"Content\"] = source_data.swifter.apply(content_cleaning, axis=1)"
   ]
  },
  {
   "cell_type": "code",
   "execution_count": 5,
   "metadata": {},
   "outputs": [
    {
     "name": "stdout",
     "output_type": "stream",
     "text": [
      "Start Case Fold at Tue Apr  4 13:38:43 2023\n",
      "End Case Fold at Tue Apr  4 13:38:43 2023\n",
      "(1065, 12)\n",
      "Start Case Fold at Tue Apr  4 13:38:43 2023\n",
      "End Case Fold at Tue Apr  4 13:38:43 2023\n",
      "(1065, 12)\n"
     ]
    }
   ],
   "source": [
    "\n",
    "print(\"Start Case Fold at \" + time.ctime())\n",
    "source_data.loc[:,\"Search_Term\"] = source_data[\"Search_Term\"].str.lower()\n",
    "source_data.loc[:,\"Content\"] = source_data[\"Content\"].str.lower()\n",
    "\n",
    "print(\"End Case Fold at \" + time.ctime())\n",
    "print(source_data.shape)"
   ]
  },
  {
   "cell_type": "code",
   "execution_count": 6,
   "metadata": {},
   "outputs": [],
   "source": [
    "# Find exact match no split\n",
    "\n",
    "def find_exact_match_no_split(row):\n",
    "    search_token = row.Search_Term\n",
    "    matched = True\n",
    "    search_token = r'\\b' + re.escape(search_token) + r'\\b'\n",
    "    found = re.search(search_token, row.Content)\n",
    "    if not found:\n",
    "        matched = False\n",
    "            \n",
    "    return matched\n",
    "\n"
   ]
  },
  {
   "cell_type": "code",
   "execution_count": 7,
   "metadata": {},
   "outputs": [
    {
     "name": "stdout",
     "output_type": "stream",
     "text": [
      "Finding Matching Word Start at Tue Apr  4 13:38:44 2023\n",
      "Finding Matching Word Start at Tue Apr  4 13:38:44 2023\n"
     ]
    },
    {
     "data": {
      "application/vnd.jupyter.widget-view+json": {
       "model_id": "ecbc4176efee40f6a19dcfe7597107ad",
       "version_major": 2,
       "version_minor": 0
      },
      "text/plain": [
       "Pandas Apply:   0%|          | 0/1065 [00:00<?, ?it/s]"
      ]
     },
     "metadata": {},
     "output_type": "display_data"
    },
    {
     "data": {
      "application/vnd.jupyter.widget-view+json": {
       "model_id": "ecbc4176efee40f6a19dcfe7597107ad",
       "version_major": 2,
       "version_minor": 0
      },
      "text/plain": [
       "Pandas Apply:   0%|          | 0/1065 [00:00<?, ?it/s]"
      ]
     },
     "metadata": {},
     "output_type": "display_data"
    },
    {
     "name": "stdout",
     "output_type": "stream",
     "text": [
      "Finding Matching Word End at Tue Apr  4 13:38:44 2023\n",
      "Finding Matching Word End at Tue Apr  4 13:38:44 2023\n"
     ]
    }
   ],
   "source": [
    "print(\"Finding Matching Word Start at \" + time.ctime())\n",
    "\n",
    "source_data.loc[:,\"Matching_Word\"] = source_data.swifter.apply(find_exact_match_no_split, axis=1)\n",
    "print(\"Finding Matching Word End at \" + time.ctime())"
   ]
  },
  {
   "cell_type": "code",
   "execution_count": 8,
   "metadata": {},
   "outputs": [
    {
     "data": {
      "text/html": [
       "<div>\n",
       "<style scoped>\n",
       "    .dataframe tbody tr th:only-of-type {\n",
       "        vertical-align: middle;\n",
       "    }\n",
       "\n",
       "    .dataframe tbody tr th {\n",
       "        vertical-align: top;\n",
       "    }\n",
       "\n",
       "    .dataframe thead th {\n",
       "        text-align: right;\n",
       "    }\n",
       "</style>\n",
       "<table border=\"1\" class=\"dataframe\">\n",
       "  <thead>\n",
       "    <tr style=\"text-align: right;\">\n",
       "      <th></th>\n",
       "      <th>Unnamed: 0</th>\n",
       "      <th>User_id</th>\n",
       "      <th>Type</th>\n",
       "      <th>Content_id</th>\n",
       "      <th>Url</th>\n",
       "      <th>Reply_to_content_id</th>\n",
       "      <th>Thread_id</th>\n",
       "      <th>Subforum</th>\n",
       "      <th>Title</th>\n",
       "      <th>Content</th>\n",
       "      <th>Timestamp</th>\n",
       "      <th>Search_Term</th>\n",
       "      <th>Matching_Word</th>\n",
       "    </tr>\n",
       "  </thead>\n",
       "  <tbody>\n",
       "    <tr>\n",
       "      <th>1</th>\n",
       "      <td>1</td>\n",
       "      <td>204542</td>\n",
       "      <td>Post</td>\n",
       "      <td>['146188473']</td>\n",
       "      <td>https://forums.hardwarezone.com.sg/threads/hou...</td>\n",
       "      <td>NaN</td>\n",
       "      <td>6870671.0</td>\n",
       "      <td>Forums</td>\n",
       "      <td>Household incomes rose in 2022, income inequal...</td>\n",
       "      <td>singapore - median household income grew in 20...</td>\n",
       "      <td>2023-02-09 10:21:12</td>\n",
       "      <td>income inequality</td>\n",
       "      <td>True</td>\n",
       "    </tr>\n",
       "    <tr>\n",
       "      <th>2</th>\n",
       "      <td>2</td>\n",
       "      <td>474880</td>\n",
       "      <td>Post</td>\n",
       "      <td>['115313181']</td>\n",
       "      <td>https://forums.hardwarezone.com.sg/threads/bac...</td>\n",
       "      <td>NaN</td>\n",
       "      <td>NaN</td>\n",
       "      <td>Forums</td>\n",
       "      <td>NaN</td>\n",
       "      <td>hi, want to get views from you all. what does ...</td>\n",
       "      <td>2018-07-05 15:55:32</td>\n",
       "      <td>upper class</td>\n",
       "      <td>True</td>\n",
       "    </tr>\n",
       "    <tr>\n",
       "      <th>10</th>\n",
       "      <td>10</td>\n",
       "      <td>664200</td>\n",
       "      <td>Post</td>\n",
       "      <td>['113150442']</td>\n",
       "      <td>https://forums.hardwarezone.com.sg/threads/cpf...</td>\n",
       "      <td>NaN</td>\n",
       "      <td>5787403.0</td>\n",
       "      <td>Forums</td>\n",
       "      <td>CPF questions : Medisave after 55 &amp; RA Topup</td>\n",
       "      <td>1. medisave after 55 as i understand excess in...</td>\n",
       "      <td>2018-03-06 23:26:17</td>\n",
       "      <td>medisave</td>\n",
       "      <td>True</td>\n",
       "    </tr>\n",
       "    <tr>\n",
       "      <th>16</th>\n",
       "      <td>16</td>\n",
       "      <td>815074</td>\n",
       "      <td>Post</td>\n",
       "      <td>['145992640']</td>\n",
       "      <td>https://forums.hardwarezone.com.sg/threads/can...</td>\n",
       "      <td>NaN</td>\n",
       "      <td>6866152.0</td>\n",
       "      <td>Forums</td>\n",
       "      <td>Can CDAC directors OYK, Sun XL, Koh PK, Chee H...</td>\n",
       "      <td>cdac audited report fy 2021 read cdac audited ...</td>\n",
       "      <td>2023-01-27 00:43:39</td>\n",
       "      <td>cdac</td>\n",
       "      <td>True</td>\n",
       "    </tr>\n",
       "    <tr>\n",
       "      <th>24</th>\n",
       "      <td>24</td>\n",
       "      <td>789529</td>\n",
       "      <td>Post</td>\n",
       "      <td>['146795555']</td>\n",
       "      <td>https://forums.hardwarezone.com.sg/threads/new...</td>\n",
       "      <td>NaN</td>\n",
       "      <td>NaN</td>\n",
       "      <td>Forums</td>\n",
       "      <td>NaN</td>\n",
       "      <td>accident victim can claim govt medical subsidi...</td>\n",
       "      <td>2023-03-22 11:59:32</td>\n",
       "      <td>medical expenses</td>\n",
       "      <td>True</td>\n",
       "    </tr>\n",
       "  </tbody>\n",
       "</table>\n",
       "</div>"
      ],
      "text/plain": [
       "    Unnamed: 0  User_id  Type     Content_id  \\\n",
       "1            1   204542  Post  ['146188473']   \n",
       "2            2   474880  Post  ['115313181']   \n",
       "10          10   664200  Post  ['113150442']   \n",
       "16          16   815074  Post  ['145992640']   \n",
       "24          24   789529  Post  ['146795555']   \n",
       "\n",
       "                                                  Url  Reply_to_content_id  \\\n",
       "1   https://forums.hardwarezone.com.sg/threads/hou...                  NaN   \n",
       "2   https://forums.hardwarezone.com.sg/threads/bac...                  NaN   \n",
       "10  https://forums.hardwarezone.com.sg/threads/cpf...                  NaN   \n",
       "16  https://forums.hardwarezone.com.sg/threads/can...                  NaN   \n",
       "24  https://forums.hardwarezone.com.sg/threads/new...                  NaN   \n",
       "\n",
       "    Thread_id Subforum                                              Title  \\\n",
       "1   6870671.0   Forums  Household incomes rose in 2022, income inequal...   \n",
       "2         NaN   Forums                                                NaN   \n",
       "10  5787403.0   Forums       CPF questions : Medisave after 55 & RA Topup   \n",
       "16  6866152.0   Forums  Can CDAC directors OYK, Sun XL, Koh PK, Chee H...   \n",
       "24        NaN   Forums                                                NaN   \n",
       "\n",
       "                                              Content           Timestamp  \\\n",
       "1   singapore - median household income grew in 20... 2023-02-09 10:21:12   \n",
       "2   hi, want to get views from you all. what does ... 2018-07-05 15:55:32   \n",
       "10  1. medisave after 55 as i understand excess in... 2018-03-06 23:26:17   \n",
       "16  cdac audited report fy 2021 read cdac audited ... 2023-01-27 00:43:39   \n",
       "24  accident victim can claim govt medical subsidi... 2023-03-22 11:59:32   \n",
       "\n",
       "          Search_Term  Matching_Word  \n",
       "1   income inequality           True  \n",
       "2         upper class           True  \n",
       "10           medisave           True  \n",
       "16               cdac           True  \n",
       "24   medical expenses           True  "
      ]
     },
     "execution_count": 8,
     "metadata": {},
     "output_type": "execute_result"
    },
    {
     "data": {
      "text/html": [
       "<div>\n",
       "<style scoped>\n",
       "    .dataframe tbody tr th:only-of-type {\n",
       "        vertical-align: middle;\n",
       "    }\n",
       "\n",
       "    .dataframe tbody tr th {\n",
       "        vertical-align: top;\n",
       "    }\n",
       "\n",
       "    .dataframe thead th {\n",
       "        text-align: right;\n",
       "    }\n",
       "</style>\n",
       "<table border=\"1\" class=\"dataframe\">\n",
       "  <thead>\n",
       "    <tr style=\"text-align: right;\">\n",
       "      <th></th>\n",
       "      <th>Unnamed: 0</th>\n",
       "      <th>User_id</th>\n",
       "      <th>Type</th>\n",
       "      <th>Content_id</th>\n",
       "      <th>Url</th>\n",
       "      <th>Reply_to_content_id</th>\n",
       "      <th>Thread_id</th>\n",
       "      <th>Subforum</th>\n",
       "      <th>Title</th>\n",
       "      <th>Content</th>\n",
       "      <th>Timestamp</th>\n",
       "      <th>Search_Term</th>\n",
       "      <th>Matching_Word</th>\n",
       "    </tr>\n",
       "  </thead>\n",
       "  <tbody>\n",
       "    <tr>\n",
       "      <th>1</th>\n",
       "      <td>1</td>\n",
       "      <td>204542</td>\n",
       "      <td>Post</td>\n",
       "      <td>['146188473']</td>\n",
       "      <td>https://forums.hardwarezone.com.sg/threads/hou...</td>\n",
       "      <td>NaN</td>\n",
       "      <td>6870671.0</td>\n",
       "      <td>Forums</td>\n",
       "      <td>Household incomes rose in 2022, income inequal...</td>\n",
       "      <td>singapore - median household income grew in 20...</td>\n",
       "      <td>2023-02-09 10:21:12</td>\n",
       "      <td>income inequality</td>\n",
       "      <td>True</td>\n",
       "    </tr>\n",
       "    <tr>\n",
       "      <th>2</th>\n",
       "      <td>2</td>\n",
       "      <td>474880</td>\n",
       "      <td>Post</td>\n",
       "      <td>['115313181']</td>\n",
       "      <td>https://forums.hardwarezone.com.sg/threads/bac...</td>\n",
       "      <td>NaN</td>\n",
       "      <td>NaN</td>\n",
       "      <td>Forums</td>\n",
       "      <td>NaN</td>\n",
       "      <td>hi, want to get views from you all. what does ...</td>\n",
       "      <td>2018-07-05 15:55:32</td>\n",
       "      <td>upper class</td>\n",
       "      <td>True</td>\n",
       "    </tr>\n",
       "    <tr>\n",
       "      <th>10</th>\n",
       "      <td>10</td>\n",
       "      <td>664200</td>\n",
       "      <td>Post</td>\n",
       "      <td>['113150442']</td>\n",
       "      <td>https://forums.hardwarezone.com.sg/threads/cpf...</td>\n",
       "      <td>NaN</td>\n",
       "      <td>5787403.0</td>\n",
       "      <td>Forums</td>\n",
       "      <td>CPF questions : Medisave after 55 &amp; RA Topup</td>\n",
       "      <td>1. medisave after 55 as i understand excess in...</td>\n",
       "      <td>2018-03-06 23:26:17</td>\n",
       "      <td>medisave</td>\n",
       "      <td>True</td>\n",
       "    </tr>\n",
       "    <tr>\n",
       "      <th>16</th>\n",
       "      <td>16</td>\n",
       "      <td>815074</td>\n",
       "      <td>Post</td>\n",
       "      <td>['145992640']</td>\n",
       "      <td>https://forums.hardwarezone.com.sg/threads/can...</td>\n",
       "      <td>NaN</td>\n",
       "      <td>6866152.0</td>\n",
       "      <td>Forums</td>\n",
       "      <td>Can CDAC directors OYK, Sun XL, Koh PK, Chee H...</td>\n",
       "      <td>cdac audited report fy 2021 read cdac audited ...</td>\n",
       "      <td>2023-01-27 00:43:39</td>\n",
       "      <td>cdac</td>\n",
       "      <td>True</td>\n",
       "    </tr>\n",
       "    <tr>\n",
       "      <th>24</th>\n",
       "      <td>24</td>\n",
       "      <td>789529</td>\n",
       "      <td>Post</td>\n",
       "      <td>['146795555']</td>\n",
       "      <td>https://forums.hardwarezone.com.sg/threads/new...</td>\n",
       "      <td>NaN</td>\n",
       "      <td>NaN</td>\n",
       "      <td>Forums</td>\n",
       "      <td>NaN</td>\n",
       "      <td>accident victim can claim govt medical subsidi...</td>\n",
       "      <td>2023-03-22 11:59:32</td>\n",
       "      <td>medical expenses</td>\n",
       "      <td>True</td>\n",
       "    </tr>\n",
       "  </tbody>\n",
       "</table>\n",
       "</div>"
      ],
      "text/plain": [
       "    Unnamed: 0  User_id  Type     Content_id  \\\n",
       "1            1   204542  Post  ['146188473']   \n",
       "2            2   474880  Post  ['115313181']   \n",
       "10          10   664200  Post  ['113150442']   \n",
       "16          16   815074  Post  ['145992640']   \n",
       "24          24   789529  Post  ['146795555']   \n",
       "\n",
       "                                                  Url  Reply_to_content_id  \\\n",
       "1   https://forums.hardwarezone.com.sg/threads/hou...                  NaN   \n",
       "2   https://forums.hardwarezone.com.sg/threads/bac...                  NaN   \n",
       "10  https://forums.hardwarezone.com.sg/threads/cpf...                  NaN   \n",
       "16  https://forums.hardwarezone.com.sg/threads/can...                  NaN   \n",
       "24  https://forums.hardwarezone.com.sg/threads/new...                  NaN   \n",
       "\n",
       "    Thread_id Subforum                                              Title  \\\n",
       "1   6870671.0   Forums  Household incomes rose in 2022, income inequal...   \n",
       "2         NaN   Forums                                                NaN   \n",
       "10  5787403.0   Forums       CPF questions : Medisave after 55 & RA Topup   \n",
       "16  6866152.0   Forums  Can CDAC directors OYK, Sun XL, Koh PK, Chee H...   \n",
       "24        NaN   Forums                                                NaN   \n",
       "\n",
       "                                              Content           Timestamp  \\\n",
       "1   singapore - median household income grew in 20... 2023-02-09 10:21:12   \n",
       "2   hi, want to get views from you all. what does ... 2018-07-05 15:55:32   \n",
       "10  1. medisave after 55 as i understand excess in... 2018-03-06 23:26:17   \n",
       "16  cdac audited report fy 2021 read cdac audited ... 2023-01-27 00:43:39   \n",
       "24  accident victim can claim govt medical subsidi... 2023-03-22 11:59:32   \n",
       "\n",
       "          Search_Term  Matching_Word  \n",
       "1   income inequality           True  \n",
       "2         upper class           True  \n",
       "10           medisave           True  \n",
       "16               cdac           True  \n",
       "24   medical expenses           True  "
      ]
     },
     "execution_count": 8,
     "metadata": {},
     "output_type": "execute_result"
    }
   ],
   "source": [
    "source_data = source_data[source_data['Matching_Word'] == True]\n",
    "source_data.head()"
   ]
  },
  {
   "cell_type": "code",
   "execution_count": 9,
   "metadata": {},
   "outputs": [
    {
     "name": "stdout",
     "output_type": "stream",
     "text": [
      "(110, 13)\n",
      "(110, 13)\n"
     ]
    }
   ],
   "source": [
    "print(source_data.shape)\n"
   ]
  },
  {
   "cell_type": "code",
   "execution_count": 10,
   "metadata": {},
   "outputs": [],
   "source": [
    "keywords = ['middle income', 'high income', 'low income', 'income inequality', 'disposable income', 'household annual income',\n",
    "            'wealth tax', 'unemployment insurance', 'meritocracy', 'occupation mobility', 'elite education', 'education subsidies', 'Mendaki',\n",
    "            'CDAC', 'less educated', 'health insurance', 'medical expenses', 'medical resources', 'upper class', 'lower class',\n",
    "           'middle class', 'central provident fund', 'CPF']\n",
    "\n",
    "keywords = set([x.lower() for x in keywords])\n"
   ]
  },
  {
   "cell_type": "code",
   "execution_count": 11,
   "metadata": {},
   "outputs": [
    {
     "name": "stdout",
     "output_type": "stream",
     "text": [
      "{'meritocracy', 'medical expenses', 'income inequality', 'cpf', 'middle income', 'wealth tax', 'mendaki', 'elite education', 'high income', 'middle class', 'health insurance', 'low income', 'upper class', 'less educated', 'education subsidies', 'disposable income', 'occupation mobility', 'central provident fund', 'medical resources', 'household annual income', 'cdac', 'unemployment insurance', 'lower class'}\n",
      "{'meritocracy', 'medical expenses', 'income inequality', 'cpf', 'middle income', 'wealth tax', 'mendaki', 'elite education', 'high income', 'middle class', 'health insurance', 'low income', 'upper class', 'less educated', 'education subsidies', 'disposable income', 'occupation mobility', 'central provident fund', 'medical resources', 'household annual income', 'cdac', 'unemployment insurance', 'lower class'}\n"
     ]
    }
   ],
   "source": [
    "print(keywords)\n",
    "\n",
    "def hasOtherSentiment(row, keyword):\n",
    "    if row.Search_Term != keyword and keyword in row.Content:\n",
    "        return True\n",
    "    else:\n",
    "        return False\n",
    "\n",
    "\n",
    "\n",
    "\n",
    "\n"
   ]
  },
  {
   "cell_type": "code",
   "execution_count": 12,
   "metadata": {},
   "outputs": [
    {
     "data": {
      "application/vnd.jupyter.widget-view+json": {
       "model_id": "0421a69d8afe4baa999c150cf2e162c7",
       "version_major": 2,
       "version_minor": 0
      },
      "text/plain": [
       "Pandas Apply:   0%|          | 0/110 [00:00<?, ?it/s]"
      ]
     },
     "metadata": {},
     "output_type": "display_data"
    },
    {
     "data": {
      "application/vnd.jupyter.widget-view+json": {
       "model_id": "0421a69d8afe4baa999c150cf2e162c7",
       "version_major": 2,
       "version_minor": 0
      },
      "text/plain": [
       "Pandas Apply:   0%|          | 0/110 [00:00<?, ?it/s]"
      ]
     },
     "metadata": {},
     "output_type": "display_data"
    },
    {
     "name": "stdout",
     "output_type": "stream",
     "text": [
      "No additional search term meritocracy\n",
      "No additional search term meritocracy\n"
     ]
    },
    {
     "name": "stderr",
     "output_type": "stream",
     "text": [
      "C:\\Users\\Chuan Wu\\AppData\\Local\\Temp\\ipykernel_64928\\1100374070.py:7: SettingWithCopyWarning: \n",
      "A value is trying to be set on a copy of a slice from a DataFrame.\n",
      "Try using .loc[row_indexer,col_indexer] = value instead\n",
      "\n",
      "See the caveats in the documentation: https://pandas.pydata.org/pandas-docs/stable/user_guide/indexing.html#returning-a-view-versus-a-copy\n",
      "  source_data.loc[:,\"Has_Other_Sentiment\"] = source_data.swifter.apply(hasOtherSentiment, keyword=keyword, axis=1)\n",
      "C:\\Users\\Chuan Wu\\AppData\\Local\\Temp\\ipykernel_64928\\1100374070.py:7: SettingWithCopyWarning: \n",
      "A value is trying to be set on a copy of a slice from a DataFrame.\n",
      "Try using .loc[row_indexer,col_indexer] = value instead\n",
      "\n",
      "See the caveats in the documentation: https://pandas.pydata.org/pandas-docs/stable/user_guide/indexing.html#returning-a-view-versus-a-copy\n",
      "  source_data.loc[:,\"Has_Other_Sentiment\"] = source_data.swifter.apply(hasOtherSentiment, keyword=keyword, axis=1)\n"
     ]
    },
    {
     "data": {
      "application/vnd.jupyter.widget-view+json": {
       "model_id": "629a28552f8841cb99101d145243d21b",
       "version_major": 2,
       "version_minor": 0
      },
      "text/plain": [
       "Pandas Apply:   0%|          | 0/110 [00:00<?, ?it/s]"
      ]
     },
     "metadata": {},
     "output_type": "display_data"
    },
    {
     "data": {
      "application/vnd.jupyter.widget-view+json": {
       "model_id": "629a28552f8841cb99101d145243d21b",
       "version_major": 2,
       "version_minor": 0
      },
      "text/plain": [
       "Pandas Apply:   0%|          | 0/110 [00:00<?, ?it/s]"
      ]
     },
     "metadata": {},
     "output_type": "display_data"
    },
    {
     "name": "stdout",
     "output_type": "stream",
     "text": [
      "Found additional search term medical expenses\n",
      "Found additional search term medical expenses\n"
     ]
    },
    {
     "name": "stderr",
     "output_type": "stream",
     "text": [
      "C:\\Users\\Chuan Wu\\AppData\\Local\\Temp\\ipykernel_64928\\1100374070.py:7: SettingWithCopyWarning: \n",
      "A value is trying to be set on a copy of a slice from a DataFrame.\n",
      "Try using .loc[row_indexer,col_indexer] = value instead\n",
      "\n",
      "See the caveats in the documentation: https://pandas.pydata.org/pandas-docs/stable/user_guide/indexing.html#returning-a-view-versus-a-copy\n",
      "  source_data.loc[:,\"Has_Other_Sentiment\"] = source_data.swifter.apply(hasOtherSentiment, keyword=keyword, axis=1)\n",
      "C:\\Users\\Chuan Wu\\AppData\\Local\\Temp\\ipykernel_64928\\1100374070.py:10: SettingWithCopyWarning: \n",
      "A value is trying to be set on a copy of a slice from a DataFrame.\n",
      "Try using .loc[row_indexer,col_indexer] = value instead\n",
      "\n",
      "See the caveats in the documentation: https://pandas.pydata.org/pandas-docs/stable/user_guide/indexing.html#returning-a-view-versus-a-copy\n",
      "  other_df.loc[:,\"Search_Term\"] = keyword\n",
      "C:\\Users\\Chuan Wu\\AppData\\Local\\Temp\\ipykernel_64928\\1100374070.py:7: SettingWithCopyWarning: \n",
      "A value is trying to be set on a copy of a slice from a DataFrame.\n",
      "Try using .loc[row_indexer,col_indexer] = value instead\n",
      "\n",
      "See the caveats in the documentation: https://pandas.pydata.org/pandas-docs/stable/user_guide/indexing.html#returning-a-view-versus-a-copy\n",
      "  source_data.loc[:,\"Has_Other_Sentiment\"] = source_data.swifter.apply(hasOtherSentiment, keyword=keyword, axis=1)\n",
      "C:\\Users\\Chuan Wu\\AppData\\Local\\Temp\\ipykernel_64928\\1100374070.py:10: SettingWithCopyWarning: \n",
      "A value is trying to be set on a copy of a slice from a DataFrame.\n",
      "Try using .loc[row_indexer,col_indexer] = value instead\n",
      "\n",
      "See the caveats in the documentation: https://pandas.pydata.org/pandas-docs/stable/user_guide/indexing.html#returning-a-view-versus-a-copy\n",
      "  other_df.loc[:,\"Search_Term\"] = keyword\n"
     ]
    },
    {
     "data": {
      "application/vnd.jupyter.widget-view+json": {
       "model_id": "d95ba3dd985a42f597b8c1b688ba501d",
       "version_major": 2,
       "version_minor": 0
      },
      "text/plain": [
       "Pandas Apply:   0%|          | 0/110 [00:00<?, ?it/s]"
      ]
     },
     "metadata": {},
     "output_type": "display_data"
    },
    {
     "data": {
      "application/vnd.jupyter.widget-view+json": {
       "model_id": "d95ba3dd985a42f597b8c1b688ba501d",
       "version_major": 2,
       "version_minor": 0
      },
      "text/plain": [
       "Pandas Apply:   0%|          | 0/110 [00:00<?, ?it/s]"
      ]
     },
     "metadata": {},
     "output_type": "display_data"
    },
    {
     "name": "stdout",
     "output_type": "stream",
     "text": [
      "No additional search term income inequality\n",
      "No additional search term income inequality\n"
     ]
    },
    {
     "name": "stderr",
     "output_type": "stream",
     "text": [
      "C:\\Users\\Chuan Wu\\AppData\\Local\\Temp\\ipykernel_64928\\1100374070.py:7: SettingWithCopyWarning: \n",
      "A value is trying to be set on a copy of a slice from a DataFrame.\n",
      "Try using .loc[row_indexer,col_indexer] = value instead\n",
      "\n",
      "See the caveats in the documentation: https://pandas.pydata.org/pandas-docs/stable/user_guide/indexing.html#returning-a-view-versus-a-copy\n",
      "  source_data.loc[:,\"Has_Other_Sentiment\"] = source_data.swifter.apply(hasOtherSentiment, keyword=keyword, axis=1)\n",
      "C:\\Users\\Chuan Wu\\AppData\\Local\\Temp\\ipykernel_64928\\1100374070.py:7: SettingWithCopyWarning: \n",
      "A value is trying to be set on a copy of a slice from a DataFrame.\n",
      "Try using .loc[row_indexer,col_indexer] = value instead\n",
      "\n",
      "See the caveats in the documentation: https://pandas.pydata.org/pandas-docs/stable/user_guide/indexing.html#returning-a-view-versus-a-copy\n",
      "  source_data.loc[:,\"Has_Other_Sentiment\"] = source_data.swifter.apply(hasOtherSentiment, keyword=keyword, axis=1)\n"
     ]
    },
    {
     "data": {
      "application/vnd.jupyter.widget-view+json": {
       "model_id": "d8bac7ad82314dbcab6ba760a338c113",
       "version_major": 2,
       "version_minor": 0
      },
      "text/plain": [
       "Pandas Apply:   0%|          | 0/110 [00:00<?, ?it/s]"
      ]
     },
     "metadata": {},
     "output_type": "display_data"
    },
    {
     "data": {
      "application/vnd.jupyter.widget-view+json": {
       "model_id": "d8bac7ad82314dbcab6ba760a338c113",
       "version_major": 2,
       "version_minor": 0
      },
      "text/plain": [
       "Pandas Apply:   0%|          | 0/110 [00:00<?, ?it/s]"
      ]
     },
     "metadata": {},
     "output_type": "display_data"
    },
    {
     "name": "stderr",
     "output_type": "stream",
     "text": [
      "C:\\Users\\Chuan Wu\\AppData\\Local\\Temp\\ipykernel_64928\\1100374070.py:7: SettingWithCopyWarning: \n",
      "A value is trying to be set on a copy of a slice from a DataFrame.\n",
      "Try using .loc[row_indexer,col_indexer] = value instead\n",
      "\n",
      "See the caveats in the documentation: https://pandas.pydata.org/pandas-docs/stable/user_guide/indexing.html#returning-a-view-versus-a-copy\n",
      "  source_data.loc[:,\"Has_Other_Sentiment\"] = source_data.swifter.apply(hasOtherSentiment, keyword=keyword, axis=1)\n",
      "C:\\Users\\Chuan Wu\\AppData\\Local\\Temp\\ipykernel_64928\\1100374070.py:10: SettingWithCopyWarning: \n",
      "A value is trying to be set on a copy of a slice from a DataFrame.\n",
      "Try using .loc[row_indexer,col_indexer] = value instead\n",
      "\n",
      "See the caveats in the documentation: https://pandas.pydata.org/pandas-docs/stable/user_guide/indexing.html#returning-a-view-versus-a-copy\n",
      "  other_df.loc[:,\"Search_Term\"] = keyword\n",
      "C:\\Users\\Chuan Wu\\AppData\\Local\\Temp\\ipykernel_64928\\1100374070.py:7: SettingWithCopyWarning: \n",
      "A value is trying to be set on a copy of a slice from a DataFrame.\n",
      "Try using .loc[row_indexer,col_indexer] = value instead\n",
      "\n",
      "See the caveats in the documentation: https://pandas.pydata.org/pandas-docs/stable/user_guide/indexing.html#returning-a-view-versus-a-copy\n",
      "  source_data.loc[:,\"Has_Other_Sentiment\"] = source_data.swifter.apply(hasOtherSentiment, keyword=keyword, axis=1)\n",
      "C:\\Users\\Chuan Wu\\AppData\\Local\\Temp\\ipykernel_64928\\1100374070.py:10: SettingWithCopyWarning: \n",
      "A value is trying to be set on a copy of a slice from a DataFrame.\n",
      "Try using .loc[row_indexer,col_indexer] = value instead\n",
      "\n",
      "See the caveats in the documentation: https://pandas.pydata.org/pandas-docs/stable/user_guide/indexing.html#returning-a-view-versus-a-copy\n",
      "  other_df.loc[:,\"Search_Term\"] = keyword\n"
     ]
    },
    {
     "name": "stdout",
     "output_type": "stream",
     "text": [
      "Found additional search term cpf\n",
      "Found additional search term cpf\n"
     ]
    },
    {
     "data": {
      "application/vnd.jupyter.widget-view+json": {
       "model_id": "bb180c0d37d540438790ac3194a41b69",
       "version_major": 2,
       "version_minor": 0
      },
      "text/plain": [
       "Pandas Apply:   0%|          | 0/110 [00:00<?, ?it/s]"
      ]
     },
     "metadata": {},
     "output_type": "display_data"
    },
    {
     "data": {
      "application/vnd.jupyter.widget-view+json": {
       "model_id": "bb180c0d37d540438790ac3194a41b69",
       "version_major": 2,
       "version_minor": 0
      },
      "text/plain": [
       "Pandas Apply:   0%|          | 0/110 [00:00<?, ?it/s]"
      ]
     },
     "metadata": {},
     "output_type": "display_data"
    },
    {
     "name": "stdout",
     "output_type": "stream",
     "text": [
      "Found additional search term middle income\n",
      "Found additional search term middle income\n"
     ]
    },
    {
     "name": "stderr",
     "output_type": "stream",
     "text": [
      "C:\\Users\\Chuan Wu\\AppData\\Local\\Temp\\ipykernel_64928\\1100374070.py:7: SettingWithCopyWarning: \n",
      "A value is trying to be set on a copy of a slice from a DataFrame.\n",
      "Try using .loc[row_indexer,col_indexer] = value instead\n",
      "\n",
      "See the caveats in the documentation: https://pandas.pydata.org/pandas-docs/stable/user_guide/indexing.html#returning-a-view-versus-a-copy\n",
      "  source_data.loc[:,\"Has_Other_Sentiment\"] = source_data.swifter.apply(hasOtherSentiment, keyword=keyword, axis=1)\n",
      "C:\\Users\\Chuan Wu\\AppData\\Local\\Temp\\ipykernel_64928\\1100374070.py:10: SettingWithCopyWarning: \n",
      "A value is trying to be set on a copy of a slice from a DataFrame.\n",
      "Try using .loc[row_indexer,col_indexer] = value instead\n",
      "\n",
      "See the caveats in the documentation: https://pandas.pydata.org/pandas-docs/stable/user_guide/indexing.html#returning-a-view-versus-a-copy\n",
      "  other_df.loc[:,\"Search_Term\"] = keyword\n",
      "C:\\Users\\Chuan Wu\\AppData\\Local\\Temp\\ipykernel_64928\\1100374070.py:7: SettingWithCopyWarning: \n",
      "A value is trying to be set on a copy of a slice from a DataFrame.\n",
      "Try using .loc[row_indexer,col_indexer] = value instead\n",
      "\n",
      "See the caveats in the documentation: https://pandas.pydata.org/pandas-docs/stable/user_guide/indexing.html#returning-a-view-versus-a-copy\n",
      "  source_data.loc[:,\"Has_Other_Sentiment\"] = source_data.swifter.apply(hasOtherSentiment, keyword=keyword, axis=1)\n",
      "C:\\Users\\Chuan Wu\\AppData\\Local\\Temp\\ipykernel_64928\\1100374070.py:10: SettingWithCopyWarning: \n",
      "A value is trying to be set on a copy of a slice from a DataFrame.\n",
      "Try using .loc[row_indexer,col_indexer] = value instead\n",
      "\n",
      "See the caveats in the documentation: https://pandas.pydata.org/pandas-docs/stable/user_guide/indexing.html#returning-a-view-versus-a-copy\n",
      "  other_df.loc[:,\"Search_Term\"] = keyword\n"
     ]
    },
    {
     "data": {
      "application/vnd.jupyter.widget-view+json": {
       "model_id": "7e4774113cc84fbbb2c5f51f6c2756b5",
       "version_major": 2,
       "version_minor": 0
      },
      "text/plain": [
       "Pandas Apply:   0%|          | 0/110 [00:00<?, ?it/s]"
      ]
     },
     "metadata": {},
     "output_type": "display_data"
    },
    {
     "data": {
      "application/vnd.jupyter.widget-view+json": {
       "model_id": "7e4774113cc84fbbb2c5f51f6c2756b5",
       "version_major": 2,
       "version_minor": 0
      },
      "text/plain": [
       "Pandas Apply:   0%|          | 0/110 [00:00<?, ?it/s]"
      ]
     },
     "metadata": {},
     "output_type": "display_data"
    },
    {
     "name": "stderr",
     "output_type": "stream",
     "text": [
      "C:\\Users\\Chuan Wu\\AppData\\Local\\Temp\\ipykernel_64928\\1100374070.py:7: SettingWithCopyWarning: \n",
      "A value is trying to be set on a copy of a slice from a DataFrame.\n",
      "Try using .loc[row_indexer,col_indexer] = value instead\n",
      "\n",
      "See the caveats in the documentation: https://pandas.pydata.org/pandas-docs/stable/user_guide/indexing.html#returning-a-view-versus-a-copy\n",
      "  source_data.loc[:,\"Has_Other_Sentiment\"] = source_data.swifter.apply(hasOtherSentiment, keyword=keyword, axis=1)\n",
      "C:\\Users\\Chuan Wu\\AppData\\Local\\Temp\\ipykernel_64928\\1100374070.py:7: SettingWithCopyWarning: \n",
      "A value is trying to be set on a copy of a slice from a DataFrame.\n",
      "Try using .loc[row_indexer,col_indexer] = value instead\n",
      "\n",
      "See the caveats in the documentation: https://pandas.pydata.org/pandas-docs/stable/user_guide/indexing.html#returning-a-view-versus-a-copy\n",
      "  source_data.loc[:,\"Has_Other_Sentiment\"] = source_data.swifter.apply(hasOtherSentiment, keyword=keyword, axis=1)\n"
     ]
    },
    {
     "name": "stdout",
     "output_type": "stream",
     "text": [
      "No additional search term wealth tax\n",
      "No additional search term wealth tax\n"
     ]
    },
    {
     "data": {
      "application/vnd.jupyter.widget-view+json": {
       "model_id": "9e204fe492f34a8f8aae4d3f48d34ec9",
       "version_major": 2,
       "version_minor": 0
      },
      "text/plain": [
       "Pandas Apply:   0%|          | 0/110 [00:00<?, ?it/s]"
      ]
     },
     "metadata": {},
     "output_type": "display_data"
    },
    {
     "data": {
      "application/vnd.jupyter.widget-view+json": {
       "model_id": "9e204fe492f34a8f8aae4d3f48d34ec9",
       "version_major": 2,
       "version_minor": 0
      },
      "text/plain": [
       "Pandas Apply:   0%|          | 0/110 [00:00<?, ?it/s]"
      ]
     },
     "metadata": {},
     "output_type": "display_data"
    },
    {
     "name": "stdout",
     "output_type": "stream",
     "text": [
      "No additional search term mendaki\n",
      "No additional search term mendaki\n"
     ]
    },
    {
     "data": {
      "application/vnd.jupyter.widget-view+json": {
       "model_id": "8e7542b221b74d49a32f802630c12028",
       "version_major": 2,
       "version_minor": 0
      },
      "text/plain": [
       "Pandas Apply:   0%|          | 0/110 [00:00<?, ?it/s]"
      ]
     },
     "metadata": {},
     "output_type": "display_data"
    },
    {
     "data": {
      "application/vnd.jupyter.widget-view+json": {
       "model_id": "8e7542b221b74d49a32f802630c12028",
       "version_major": 2,
       "version_minor": 0
      },
      "text/plain": [
       "Pandas Apply:   0%|          | 0/110 [00:00<?, ?it/s]"
      ]
     },
     "metadata": {},
     "output_type": "display_data"
    },
    {
     "name": "stdout",
     "output_type": "stream",
     "text": [
      "Found additional search term elite education\n",
      "Found additional search term elite education\n"
     ]
    },
    {
     "name": "stderr",
     "output_type": "stream",
     "text": [
      "C:\\Users\\Chuan Wu\\AppData\\Local\\Temp\\ipykernel_64928\\1100374070.py:10: SettingWithCopyWarning: \n",
      "A value is trying to be set on a copy of a slice from a DataFrame.\n",
      "Try using .loc[row_indexer,col_indexer] = value instead\n",
      "\n",
      "See the caveats in the documentation: https://pandas.pydata.org/pandas-docs/stable/user_guide/indexing.html#returning-a-view-versus-a-copy\n",
      "  other_df.loc[:,\"Search_Term\"] = keyword\n",
      "C:\\Users\\Chuan Wu\\AppData\\Local\\Temp\\ipykernel_64928\\1100374070.py:10: SettingWithCopyWarning: \n",
      "A value is trying to be set on a copy of a slice from a DataFrame.\n",
      "Try using .loc[row_indexer,col_indexer] = value instead\n",
      "\n",
      "See the caveats in the documentation: https://pandas.pydata.org/pandas-docs/stable/user_guide/indexing.html#returning-a-view-versus-a-copy\n",
      "  other_df.loc[:,\"Search_Term\"] = keyword\n"
     ]
    },
    {
     "data": {
      "application/vnd.jupyter.widget-view+json": {
       "model_id": "fa2a9933b3b144398d2dbb156f18624b",
       "version_major": 2,
       "version_minor": 0
      },
      "text/plain": [
       "Pandas Apply:   0%|          | 0/110 [00:00<?, ?it/s]"
      ]
     },
     "metadata": {},
     "output_type": "display_data"
    },
    {
     "data": {
      "application/vnd.jupyter.widget-view+json": {
       "model_id": "fa2a9933b3b144398d2dbb156f18624b",
       "version_major": 2,
       "version_minor": 0
      },
      "text/plain": [
       "Pandas Apply:   0%|          | 0/110 [00:00<?, ?it/s]"
      ]
     },
     "metadata": {},
     "output_type": "display_data"
    },
    {
     "name": "stderr",
     "output_type": "stream",
     "text": [
      "C:\\Users\\Chuan Wu\\AppData\\Local\\Temp\\ipykernel_64928\\1100374070.py:10: SettingWithCopyWarning: \n",
      "A value is trying to be set on a copy of a slice from a DataFrame.\n",
      "Try using .loc[row_indexer,col_indexer] = value instead\n",
      "\n",
      "See the caveats in the documentation: https://pandas.pydata.org/pandas-docs/stable/user_guide/indexing.html#returning-a-view-versus-a-copy\n",
      "  other_df.loc[:,\"Search_Term\"] = keyword\n",
      "C:\\Users\\Chuan Wu\\AppData\\Local\\Temp\\ipykernel_64928\\1100374070.py:10: SettingWithCopyWarning: \n",
      "A value is trying to be set on a copy of a slice from a DataFrame.\n",
      "Try using .loc[row_indexer,col_indexer] = value instead\n",
      "\n",
      "See the caveats in the documentation: https://pandas.pydata.org/pandas-docs/stable/user_guide/indexing.html#returning-a-view-versus-a-copy\n",
      "  other_df.loc[:,\"Search_Term\"] = keyword\n"
     ]
    },
    {
     "name": "stdout",
     "output_type": "stream",
     "text": [
      "Found additional search term high income\n",
      "Found additional search term high income\n"
     ]
    },
    {
     "data": {
      "application/vnd.jupyter.widget-view+json": {
       "model_id": "55d85d7862d64c8a9d7f4b8593969a81",
       "version_major": 2,
       "version_minor": 0
      },
      "text/plain": [
       "Pandas Apply:   0%|          | 0/110 [00:00<?, ?it/s]"
      ]
     },
     "metadata": {},
     "output_type": "display_data"
    },
    {
     "data": {
      "application/vnd.jupyter.widget-view+json": {
       "model_id": "55d85d7862d64c8a9d7f4b8593969a81",
       "version_major": 2,
       "version_minor": 0
      },
      "text/plain": [
       "Pandas Apply:   0%|          | 0/110 [00:00<?, ?it/s]"
      ]
     },
     "metadata": {},
     "output_type": "display_data"
    },
    {
     "name": "stdout",
     "output_type": "stream",
     "text": [
      "No additional search term middle class\n",
      "No additional search term middle class\n"
     ]
    },
    {
     "data": {
      "application/vnd.jupyter.widget-view+json": {
       "model_id": "513a55c9c771426f89868c087bb4cc6f",
       "version_major": 2,
       "version_minor": 0
      },
      "text/plain": [
       "Pandas Apply:   0%|          | 0/110 [00:00<?, ?it/s]"
      ]
     },
     "metadata": {},
     "output_type": "display_data"
    },
    {
     "data": {
      "application/vnd.jupyter.widget-view+json": {
       "model_id": "513a55c9c771426f89868c087bb4cc6f",
       "version_major": 2,
       "version_minor": 0
      },
      "text/plain": [
       "Pandas Apply:   0%|          | 0/110 [00:00<?, ?it/s]"
      ]
     },
     "metadata": {},
     "output_type": "display_data"
    },
    {
     "name": "stdout",
     "output_type": "stream",
     "text": [
      "Found additional search term health insurance\n",
      "Found additional search term health insurance\n"
     ]
    },
    {
     "name": "stderr",
     "output_type": "stream",
     "text": [
      "C:\\Users\\Chuan Wu\\AppData\\Local\\Temp\\ipykernel_64928\\1100374070.py:10: SettingWithCopyWarning: \n",
      "A value is trying to be set on a copy of a slice from a DataFrame.\n",
      "Try using .loc[row_indexer,col_indexer] = value instead\n",
      "\n",
      "See the caveats in the documentation: https://pandas.pydata.org/pandas-docs/stable/user_guide/indexing.html#returning-a-view-versus-a-copy\n",
      "  other_df.loc[:,\"Search_Term\"] = keyword\n",
      "C:\\Users\\Chuan Wu\\AppData\\Local\\Temp\\ipykernel_64928\\1100374070.py:10: SettingWithCopyWarning: \n",
      "A value is trying to be set on a copy of a slice from a DataFrame.\n",
      "Try using .loc[row_indexer,col_indexer] = value instead\n",
      "\n",
      "See the caveats in the documentation: https://pandas.pydata.org/pandas-docs/stable/user_guide/indexing.html#returning-a-view-versus-a-copy\n",
      "  other_df.loc[:,\"Search_Term\"] = keyword\n"
     ]
    },
    {
     "data": {
      "application/vnd.jupyter.widget-view+json": {
       "model_id": "c7761a7a289e46b8adeb75923a5ec143",
       "version_major": 2,
       "version_minor": 0
      },
      "text/plain": [
       "Pandas Apply:   0%|          | 0/110 [00:00<?, ?it/s]"
      ]
     },
     "metadata": {},
     "output_type": "display_data"
    },
    {
     "data": {
      "application/vnd.jupyter.widget-view+json": {
       "model_id": "c7761a7a289e46b8adeb75923a5ec143",
       "version_major": 2,
       "version_minor": 0
      },
      "text/plain": [
       "Pandas Apply:   0%|          | 0/110 [00:00<?, ?it/s]"
      ]
     },
     "metadata": {},
     "output_type": "display_data"
    },
    {
     "name": "stdout",
     "output_type": "stream",
     "text": [
      "Found additional search term low income\n",
      "Found additional search term low income\n"
     ]
    },
    {
     "name": "stderr",
     "output_type": "stream",
     "text": [
      "C:\\Users\\Chuan Wu\\AppData\\Local\\Temp\\ipykernel_64928\\1100374070.py:10: SettingWithCopyWarning: \n",
      "A value is trying to be set on a copy of a slice from a DataFrame.\n",
      "Try using .loc[row_indexer,col_indexer] = value instead\n",
      "\n",
      "See the caveats in the documentation: https://pandas.pydata.org/pandas-docs/stable/user_guide/indexing.html#returning-a-view-versus-a-copy\n",
      "  other_df.loc[:,\"Search_Term\"] = keyword\n",
      "C:\\Users\\Chuan Wu\\AppData\\Local\\Temp\\ipykernel_64928\\1100374070.py:10: SettingWithCopyWarning: \n",
      "A value is trying to be set on a copy of a slice from a DataFrame.\n",
      "Try using .loc[row_indexer,col_indexer] = value instead\n",
      "\n",
      "See the caveats in the documentation: https://pandas.pydata.org/pandas-docs/stable/user_guide/indexing.html#returning-a-view-versus-a-copy\n",
      "  other_df.loc[:,\"Search_Term\"] = keyword\n"
     ]
    },
    {
     "data": {
      "application/vnd.jupyter.widget-view+json": {
       "model_id": "85deedfd7f1d481cb05224e66e24930d",
       "version_major": 2,
       "version_minor": 0
      },
      "text/plain": [
       "Pandas Apply:   0%|          | 0/110 [00:00<?, ?it/s]"
      ]
     },
     "metadata": {},
     "output_type": "display_data"
    },
    {
     "data": {
      "application/vnd.jupyter.widget-view+json": {
       "model_id": "85deedfd7f1d481cb05224e66e24930d",
       "version_major": 2,
       "version_minor": 0
      },
      "text/plain": [
       "Pandas Apply:   0%|          | 0/110 [00:00<?, ?it/s]"
      ]
     },
     "metadata": {},
     "output_type": "display_data"
    },
    {
     "name": "stdout",
     "output_type": "stream",
     "text": [
      "No additional search term upper class\n",
      "No additional search term upper class\n"
     ]
    },
    {
     "data": {
      "application/vnd.jupyter.widget-view+json": {
       "model_id": "706c81d3328849d8893e01b9b0af1f69",
       "version_major": 2,
       "version_minor": 0
      },
      "text/plain": [
       "Pandas Apply:   0%|          | 0/110 [00:00<?, ?it/s]"
      ]
     },
     "metadata": {},
     "output_type": "display_data"
    },
    {
     "data": {
      "application/vnd.jupyter.widget-view+json": {
       "model_id": "706c81d3328849d8893e01b9b0af1f69",
       "version_major": 2,
       "version_minor": 0
      },
      "text/plain": [
       "Pandas Apply:   0%|          | 0/110 [00:00<?, ?it/s]"
      ]
     },
     "metadata": {},
     "output_type": "display_data"
    },
    {
     "name": "stdout",
     "output_type": "stream",
     "text": [
      "No additional search term less educated\n",
      "No additional search term less educated\n"
     ]
    },
    {
     "data": {
      "application/vnd.jupyter.widget-view+json": {
       "model_id": "b9723215e44143a7a305c1a54119d18d",
       "version_major": 2,
       "version_minor": 0
      },
      "text/plain": [
       "Pandas Apply:   0%|          | 0/110 [00:00<?, ?it/s]"
      ]
     },
     "metadata": {},
     "output_type": "display_data"
    },
    {
     "data": {
      "application/vnd.jupyter.widget-view+json": {
       "model_id": "b9723215e44143a7a305c1a54119d18d",
       "version_major": 2,
       "version_minor": 0
      },
      "text/plain": [
       "Pandas Apply:   0%|          | 0/110 [00:00<?, ?it/s]"
      ]
     },
     "metadata": {},
     "output_type": "display_data"
    },
    {
     "name": "stdout",
     "output_type": "stream",
     "text": [
      "No additional search term education subsidies\n",
      "No additional search term education subsidies\n"
     ]
    },
    {
     "data": {
      "application/vnd.jupyter.widget-view+json": {
       "model_id": "3a8209840e634c4a84d57de150f92232",
       "version_major": 2,
       "version_minor": 0
      },
      "text/plain": [
       "Pandas Apply:   0%|          | 0/110 [00:00<?, ?it/s]"
      ]
     },
     "metadata": {},
     "output_type": "display_data"
    },
    {
     "data": {
      "application/vnd.jupyter.widget-view+json": {
       "model_id": "3a8209840e634c4a84d57de150f92232",
       "version_major": 2,
       "version_minor": 0
      },
      "text/plain": [
       "Pandas Apply:   0%|          | 0/110 [00:00<?, ?it/s]"
      ]
     },
     "metadata": {},
     "output_type": "display_data"
    },
    {
     "name": "stdout",
     "output_type": "stream",
     "text": [
      "No additional search term disposable income\n",
      "No additional search term disposable income\n"
     ]
    },
    {
     "data": {
      "application/vnd.jupyter.widget-view+json": {
       "model_id": "90f549b05bfd45fc8abfb4e1d28df24d",
       "version_major": 2,
       "version_minor": 0
      },
      "text/plain": [
       "Pandas Apply:   0%|          | 0/110 [00:00<?, ?it/s]"
      ]
     },
     "metadata": {},
     "output_type": "display_data"
    },
    {
     "data": {
      "application/vnd.jupyter.widget-view+json": {
       "model_id": "90f549b05bfd45fc8abfb4e1d28df24d",
       "version_major": 2,
       "version_minor": 0
      },
      "text/plain": [
       "Pandas Apply:   0%|          | 0/110 [00:00<?, ?it/s]"
      ]
     },
     "metadata": {},
     "output_type": "display_data"
    },
    {
     "name": "stdout",
     "output_type": "stream",
     "text": [
      "No additional search term occupation mobility\n",
      "No additional search term occupation mobility\n"
     ]
    },
    {
     "data": {
      "application/vnd.jupyter.widget-view+json": {
       "model_id": "c1a1842f5d1e4bac98d3d4c28175ed2a",
       "version_major": 2,
       "version_minor": 0
      },
      "text/plain": [
       "Pandas Apply:   0%|          | 0/110 [00:00<?, ?it/s]"
      ]
     },
     "metadata": {},
     "output_type": "display_data"
    },
    {
     "data": {
      "application/vnd.jupyter.widget-view+json": {
       "model_id": "c1a1842f5d1e4bac98d3d4c28175ed2a",
       "version_major": 2,
       "version_minor": 0
      },
      "text/plain": [
       "Pandas Apply:   0%|          | 0/110 [00:00<?, ?it/s]"
      ]
     },
     "metadata": {},
     "output_type": "display_data"
    },
    {
     "name": "stdout",
     "output_type": "stream",
     "text": [
      "Found additional search term central provident fund\n",
      "Found additional search term central provident fund\n"
     ]
    },
    {
     "name": "stderr",
     "output_type": "stream",
     "text": [
      "C:\\Users\\Chuan Wu\\AppData\\Local\\Temp\\ipykernel_64928\\1100374070.py:10: SettingWithCopyWarning: \n",
      "A value is trying to be set on a copy of a slice from a DataFrame.\n",
      "Try using .loc[row_indexer,col_indexer] = value instead\n",
      "\n",
      "See the caveats in the documentation: https://pandas.pydata.org/pandas-docs/stable/user_guide/indexing.html#returning-a-view-versus-a-copy\n",
      "  other_df.loc[:,\"Search_Term\"] = keyword\n",
      "C:\\Users\\Chuan Wu\\AppData\\Local\\Temp\\ipykernel_64928\\1100374070.py:10: SettingWithCopyWarning: \n",
      "A value is trying to be set on a copy of a slice from a DataFrame.\n",
      "Try using .loc[row_indexer,col_indexer] = value instead\n",
      "\n",
      "See the caveats in the documentation: https://pandas.pydata.org/pandas-docs/stable/user_guide/indexing.html#returning-a-view-versus-a-copy\n",
      "  other_df.loc[:,\"Search_Term\"] = keyword\n"
     ]
    },
    {
     "data": {
      "application/vnd.jupyter.widget-view+json": {
       "model_id": "6d52a869b4fc4aa18df2af19eaefbf24",
       "version_major": 2,
       "version_minor": 0
      },
      "text/plain": [
       "Pandas Apply:   0%|          | 0/110 [00:00<?, ?it/s]"
      ]
     },
     "metadata": {},
     "output_type": "display_data"
    },
    {
     "data": {
      "application/vnd.jupyter.widget-view+json": {
       "model_id": "6d52a869b4fc4aa18df2af19eaefbf24",
       "version_major": 2,
       "version_minor": 0
      },
      "text/plain": [
       "Pandas Apply:   0%|          | 0/110 [00:00<?, ?it/s]"
      ]
     },
     "metadata": {},
     "output_type": "display_data"
    },
    {
     "name": "stdout",
     "output_type": "stream",
     "text": [
      "No additional search term medical resources\n",
      "No additional search term medical resources\n"
     ]
    },
    {
     "data": {
      "application/vnd.jupyter.widget-view+json": {
       "model_id": "7c6b1e7ac7d340748da7d822852fe214",
       "version_major": 2,
       "version_minor": 0
      },
      "text/plain": [
       "Pandas Apply:   0%|          | 0/110 [00:00<?, ?it/s]"
      ]
     },
     "metadata": {},
     "output_type": "display_data"
    },
    {
     "data": {
      "application/vnd.jupyter.widget-view+json": {
       "model_id": "7c6b1e7ac7d340748da7d822852fe214",
       "version_major": 2,
       "version_minor": 0
      },
      "text/plain": [
       "Pandas Apply:   0%|          | 0/110 [00:00<?, ?it/s]"
      ]
     },
     "metadata": {},
     "output_type": "display_data"
    },
    {
     "name": "stdout",
     "output_type": "stream",
     "text": [
      "No additional search term household annual income\n",
      "No additional search term household annual income\n"
     ]
    },
    {
     "data": {
      "application/vnd.jupyter.widget-view+json": {
       "model_id": "a393307b791048808a81a35bafe3675f",
       "version_major": 2,
       "version_minor": 0
      },
      "text/plain": [
       "Pandas Apply:   0%|          | 0/110 [00:00<?, ?it/s]"
      ]
     },
     "metadata": {},
     "output_type": "display_data"
    },
    {
     "data": {
      "application/vnd.jupyter.widget-view+json": {
       "model_id": "a393307b791048808a81a35bafe3675f",
       "version_major": 2,
       "version_minor": 0
      },
      "text/plain": [
       "Pandas Apply:   0%|          | 0/110 [00:00<?, ?it/s]"
      ]
     },
     "metadata": {},
     "output_type": "display_data"
    },
    {
     "name": "stdout",
     "output_type": "stream",
     "text": [
      "No additional search term cdac\n",
      "No additional search term cdac\n"
     ]
    },
    {
     "data": {
      "application/vnd.jupyter.widget-view+json": {
       "model_id": "9db56fbaf2604ab483a1f0431d25f62a",
       "version_major": 2,
       "version_minor": 0
      },
      "text/plain": [
       "Pandas Apply:   0%|          | 0/110 [00:00<?, ?it/s]"
      ]
     },
     "metadata": {},
     "output_type": "display_data"
    },
    {
     "data": {
      "application/vnd.jupyter.widget-view+json": {
       "model_id": "9db56fbaf2604ab483a1f0431d25f62a",
       "version_major": 2,
       "version_minor": 0
      },
      "text/plain": [
       "Pandas Apply:   0%|          | 0/110 [00:00<?, ?it/s]"
      ]
     },
     "metadata": {},
     "output_type": "display_data"
    },
    {
     "name": "stdout",
     "output_type": "stream",
     "text": [
      "No additional search term unemployment insurance\n",
      "No additional search term unemployment insurance\n"
     ]
    },
    {
     "data": {
      "application/vnd.jupyter.widget-view+json": {
       "model_id": "438efb3b471646cd9d7b5d88ac96820b",
       "version_major": 2,
       "version_minor": 0
      },
      "text/plain": [
       "Pandas Apply:   0%|          | 0/110 [00:00<?, ?it/s]"
      ]
     },
     "metadata": {},
     "output_type": "display_data"
    },
    {
     "data": {
      "application/vnd.jupyter.widget-view+json": {
       "model_id": "438efb3b471646cd9d7b5d88ac96820b",
       "version_major": 2,
       "version_minor": 0
      },
      "text/plain": [
       "Pandas Apply:   0%|          | 0/110 [00:00<?, ?it/s]"
      ]
     },
     "metadata": {},
     "output_type": "display_data"
    },
    {
     "name": "stdout",
     "output_type": "stream",
     "text": [
      "No additional search term lower class\n",
      "No additional search term lower class\n"
     ]
    }
   ],
   "source": [
    "frames = []\n",
    "frames.append(source_data)\n",
    "backup = source_data\n",
    "\n",
    "for keyword in keywords:\n",
    "    source_date = backup\n",
    "    source_data.loc[:,\"Has_Other_Sentiment\"] = source_data.swifter.apply(hasOtherSentiment, keyword=keyword, axis=1)\n",
    "    other_df = source_data[source_data['Has_Other_Sentiment'] == True]\n",
    "    if not other_df.empty:\n",
    "        other_df.loc[:,\"Search_Term\"] = keyword\n",
    "        other_df.head()\n",
    "        frames.append(other_df)\n",
    "        print(\"Found additional search term \" + keyword)\n",
    "    else:\n",
    "        print(\"No additional search term \" + keyword)\n"
   ]
  },
  {
   "cell_type": "code",
   "execution_count": 13,
   "metadata": {},
   "outputs": [
    {
     "name": "stdout",
     "output_type": "stream",
     "text": [
      "(139, 14)\n"
     ]
    },
    {
     "data": {
      "text/html": [
       "<div>\n",
       "<style scoped>\n",
       "    .dataframe tbody tr th:only-of-type {\n",
       "        vertical-align: middle;\n",
       "    }\n",
       "\n",
       "    .dataframe tbody tr th {\n",
       "        vertical-align: top;\n",
       "    }\n",
       "\n",
       "    .dataframe thead th {\n",
       "        text-align: right;\n",
       "    }\n",
       "</style>\n",
       "<table border=\"1\" class=\"dataframe\">\n",
       "  <thead>\n",
       "    <tr style=\"text-align: right;\">\n",
       "      <th></th>\n",
       "      <th>Unnamed: 0</th>\n",
       "      <th>User_id</th>\n",
       "      <th>Type</th>\n",
       "      <th>Content_id</th>\n",
       "      <th>Url</th>\n",
       "      <th>Reply_to_content_id</th>\n",
       "      <th>Thread_id</th>\n",
       "      <th>Subforum</th>\n",
       "      <th>Title</th>\n",
       "      <th>Content</th>\n",
       "      <th>Timestamp</th>\n",
       "      <th>Search_Term</th>\n",
       "      <th>Matching_Word</th>\n",
       "      <th>Has_Other_Sentiment</th>\n",
       "    </tr>\n",
       "  </thead>\n",
       "  <tbody>\n",
       "    <tr>\n",
       "      <th>1</th>\n",
       "      <td>1</td>\n",
       "      <td>204542</td>\n",
       "      <td>Post</td>\n",
       "      <td>['146188473']</td>\n",
       "      <td>https://forums.hardwarezone.com.sg/threads/hou...</td>\n",
       "      <td>NaN</td>\n",
       "      <td>6870671.0</td>\n",
       "      <td>Forums</td>\n",
       "      <td>Household incomes rose in 2022, income inequal...</td>\n",
       "      <td>singapore - median household income grew in 20...</td>\n",
       "      <td>2023-02-09 10:21:12</td>\n",
       "      <td>income inequality</td>\n",
       "      <td>True</td>\n",
       "      <td>False</td>\n",
       "    </tr>\n",
       "    <tr>\n",
       "      <th>2</th>\n",
       "      <td>2</td>\n",
       "      <td>474880</td>\n",
       "      <td>Post</td>\n",
       "      <td>['115313181']</td>\n",
       "      <td>https://forums.hardwarezone.com.sg/threads/bac...</td>\n",
       "      <td>NaN</td>\n",
       "      <td>NaN</td>\n",
       "      <td>Forums</td>\n",
       "      <td>NaN</td>\n",
       "      <td>hi, want to get views from you all. what does ...</td>\n",
       "      <td>2018-07-05 15:55:32</td>\n",
       "      <td>upper class</td>\n",
       "      <td>True</td>\n",
       "      <td>False</td>\n",
       "    </tr>\n",
       "    <tr>\n",
       "      <th>10</th>\n",
       "      <td>10</td>\n",
       "      <td>664200</td>\n",
       "      <td>Post</td>\n",
       "      <td>['113150442']</td>\n",
       "      <td>https://forums.hardwarezone.com.sg/threads/cpf...</td>\n",
       "      <td>NaN</td>\n",
       "      <td>5787403.0</td>\n",
       "      <td>Forums</td>\n",
       "      <td>CPF questions : Medisave after 55 &amp; RA Topup</td>\n",
       "      <td>1. medisave after 55 as i understand excess in...</td>\n",
       "      <td>2018-03-06 23:26:17</td>\n",
       "      <td>medisave</td>\n",
       "      <td>True</td>\n",
       "      <td>False</td>\n",
       "    </tr>\n",
       "    <tr>\n",
       "      <th>16</th>\n",
       "      <td>16</td>\n",
       "      <td>815074</td>\n",
       "      <td>Post</td>\n",
       "      <td>['145992640']</td>\n",
       "      <td>https://forums.hardwarezone.com.sg/threads/can...</td>\n",
       "      <td>NaN</td>\n",
       "      <td>6866152.0</td>\n",
       "      <td>Forums</td>\n",
       "      <td>Can CDAC directors OYK, Sun XL, Koh PK, Chee H...</td>\n",
       "      <td>cdac audited report fy 2021 read cdac audited ...</td>\n",
       "      <td>2023-01-27 00:43:39</td>\n",
       "      <td>cdac</td>\n",
       "      <td>True</td>\n",
       "      <td>False</td>\n",
       "    </tr>\n",
       "    <tr>\n",
       "      <th>24</th>\n",
       "      <td>24</td>\n",
       "      <td>789529</td>\n",
       "      <td>Post</td>\n",
       "      <td>['146795555']</td>\n",
       "      <td>https://forums.hardwarezone.com.sg/threads/new...</td>\n",
       "      <td>NaN</td>\n",
       "      <td>NaN</td>\n",
       "      <td>Forums</td>\n",
       "      <td>NaN</td>\n",
       "      <td>accident victim can claim govt medical subsidi...</td>\n",
       "      <td>2023-03-22 11:59:32</td>\n",
       "      <td>medical expenses</td>\n",
       "      <td>True</td>\n",
       "      <td>False</td>\n",
       "    </tr>\n",
       "  </tbody>\n",
       "</table>\n",
       "</div>"
      ],
      "text/plain": [
       "    Unnamed: 0  User_id  Type     Content_id  \\\n",
       "1            1   204542  Post  ['146188473']   \n",
       "2            2   474880  Post  ['115313181']   \n",
       "10          10   664200  Post  ['113150442']   \n",
       "16          16   815074  Post  ['145992640']   \n",
       "24          24   789529  Post  ['146795555']   \n",
       "\n",
       "                                                  Url  Reply_to_content_id  \\\n",
       "1   https://forums.hardwarezone.com.sg/threads/hou...                  NaN   \n",
       "2   https://forums.hardwarezone.com.sg/threads/bac...                  NaN   \n",
       "10  https://forums.hardwarezone.com.sg/threads/cpf...                  NaN   \n",
       "16  https://forums.hardwarezone.com.sg/threads/can...                  NaN   \n",
       "24  https://forums.hardwarezone.com.sg/threads/new...                  NaN   \n",
       "\n",
       "    Thread_id Subforum                                              Title  \\\n",
       "1   6870671.0   Forums  Household incomes rose in 2022, income inequal...   \n",
       "2         NaN   Forums                                                NaN   \n",
       "10  5787403.0   Forums       CPF questions : Medisave after 55 & RA Topup   \n",
       "16  6866152.0   Forums  Can CDAC directors OYK, Sun XL, Koh PK, Chee H...   \n",
       "24        NaN   Forums                                                NaN   \n",
       "\n",
       "                                              Content           Timestamp  \\\n",
       "1   singapore - median household income grew in 20... 2023-02-09 10:21:12   \n",
       "2   hi, want to get views from you all. what does ... 2018-07-05 15:55:32   \n",
       "10  1. medisave after 55 as i understand excess in... 2018-03-06 23:26:17   \n",
       "16  cdac audited report fy 2021 read cdac audited ... 2023-01-27 00:43:39   \n",
       "24  accident victim can claim govt medical subsidi... 2023-03-22 11:59:32   \n",
       "\n",
       "          Search_Term  Matching_Word  Has_Other_Sentiment  \n",
       "1   income inequality           True                False  \n",
       "2         upper class           True                False  \n",
       "10           medisave           True                False  \n",
       "16               cdac           True                False  \n",
       "24   medical expenses           True                False  "
      ]
     },
     "execution_count": 13,
     "metadata": {},
     "output_type": "execute_result"
    },
    {
     "name": "stdout",
     "output_type": "stream",
     "text": [
      "(139, 14)\n"
     ]
    },
    {
     "data": {
      "text/html": [
       "<div>\n",
       "<style scoped>\n",
       "    .dataframe tbody tr th:only-of-type {\n",
       "        vertical-align: middle;\n",
       "    }\n",
       "\n",
       "    .dataframe tbody tr th {\n",
       "        vertical-align: top;\n",
       "    }\n",
       "\n",
       "    .dataframe thead th {\n",
       "        text-align: right;\n",
       "    }\n",
       "</style>\n",
       "<table border=\"1\" class=\"dataframe\">\n",
       "  <thead>\n",
       "    <tr style=\"text-align: right;\">\n",
       "      <th></th>\n",
       "      <th>Unnamed: 0</th>\n",
       "      <th>User_id</th>\n",
       "      <th>Type</th>\n",
       "      <th>Content_id</th>\n",
       "      <th>Url</th>\n",
       "      <th>Reply_to_content_id</th>\n",
       "      <th>Thread_id</th>\n",
       "      <th>Subforum</th>\n",
       "      <th>Title</th>\n",
       "      <th>Content</th>\n",
       "      <th>Timestamp</th>\n",
       "      <th>Search_Term</th>\n",
       "      <th>Matching_Word</th>\n",
       "      <th>Has_Other_Sentiment</th>\n",
       "    </tr>\n",
       "  </thead>\n",
       "  <tbody>\n",
       "    <tr>\n",
       "      <th>1</th>\n",
       "      <td>1</td>\n",
       "      <td>204542</td>\n",
       "      <td>Post</td>\n",
       "      <td>['146188473']</td>\n",
       "      <td>https://forums.hardwarezone.com.sg/threads/hou...</td>\n",
       "      <td>NaN</td>\n",
       "      <td>6870671.0</td>\n",
       "      <td>Forums</td>\n",
       "      <td>Household incomes rose in 2022, income inequal...</td>\n",
       "      <td>singapore - median household income grew in 20...</td>\n",
       "      <td>2023-02-09 10:21:12</td>\n",
       "      <td>income inequality</td>\n",
       "      <td>True</td>\n",
       "      <td>False</td>\n",
       "    </tr>\n",
       "    <tr>\n",
       "      <th>2</th>\n",
       "      <td>2</td>\n",
       "      <td>474880</td>\n",
       "      <td>Post</td>\n",
       "      <td>['115313181']</td>\n",
       "      <td>https://forums.hardwarezone.com.sg/threads/bac...</td>\n",
       "      <td>NaN</td>\n",
       "      <td>NaN</td>\n",
       "      <td>Forums</td>\n",
       "      <td>NaN</td>\n",
       "      <td>hi, want to get views from you all. what does ...</td>\n",
       "      <td>2018-07-05 15:55:32</td>\n",
       "      <td>upper class</td>\n",
       "      <td>True</td>\n",
       "      <td>False</td>\n",
       "    </tr>\n",
       "    <tr>\n",
       "      <th>10</th>\n",
       "      <td>10</td>\n",
       "      <td>664200</td>\n",
       "      <td>Post</td>\n",
       "      <td>['113150442']</td>\n",
       "      <td>https://forums.hardwarezone.com.sg/threads/cpf...</td>\n",
       "      <td>NaN</td>\n",
       "      <td>5787403.0</td>\n",
       "      <td>Forums</td>\n",
       "      <td>CPF questions : Medisave after 55 &amp; RA Topup</td>\n",
       "      <td>1. medisave after 55 as i understand excess in...</td>\n",
       "      <td>2018-03-06 23:26:17</td>\n",
       "      <td>medisave</td>\n",
       "      <td>True</td>\n",
       "      <td>False</td>\n",
       "    </tr>\n",
       "    <tr>\n",
       "      <th>16</th>\n",
       "      <td>16</td>\n",
       "      <td>815074</td>\n",
       "      <td>Post</td>\n",
       "      <td>['145992640']</td>\n",
       "      <td>https://forums.hardwarezone.com.sg/threads/can...</td>\n",
       "      <td>NaN</td>\n",
       "      <td>6866152.0</td>\n",
       "      <td>Forums</td>\n",
       "      <td>Can CDAC directors OYK, Sun XL, Koh PK, Chee H...</td>\n",
       "      <td>cdac audited report fy 2021 read cdac audited ...</td>\n",
       "      <td>2023-01-27 00:43:39</td>\n",
       "      <td>cdac</td>\n",
       "      <td>True</td>\n",
       "      <td>False</td>\n",
       "    </tr>\n",
       "    <tr>\n",
       "      <th>24</th>\n",
       "      <td>24</td>\n",
       "      <td>789529</td>\n",
       "      <td>Post</td>\n",
       "      <td>['146795555']</td>\n",
       "      <td>https://forums.hardwarezone.com.sg/threads/new...</td>\n",
       "      <td>NaN</td>\n",
       "      <td>NaN</td>\n",
       "      <td>Forums</td>\n",
       "      <td>NaN</td>\n",
       "      <td>accident victim can claim govt medical subsidi...</td>\n",
       "      <td>2023-03-22 11:59:32</td>\n",
       "      <td>medical expenses</td>\n",
       "      <td>True</td>\n",
       "      <td>False</td>\n",
       "    </tr>\n",
       "  </tbody>\n",
       "</table>\n",
       "</div>"
      ],
      "text/plain": [
       "    Unnamed: 0  User_id  Type     Content_id  \\\n",
       "1            1   204542  Post  ['146188473']   \n",
       "2            2   474880  Post  ['115313181']   \n",
       "10          10   664200  Post  ['113150442']   \n",
       "16          16   815074  Post  ['145992640']   \n",
       "24          24   789529  Post  ['146795555']   \n",
       "\n",
       "                                                  Url  Reply_to_content_id  \\\n",
       "1   https://forums.hardwarezone.com.sg/threads/hou...                  NaN   \n",
       "2   https://forums.hardwarezone.com.sg/threads/bac...                  NaN   \n",
       "10  https://forums.hardwarezone.com.sg/threads/cpf...                  NaN   \n",
       "16  https://forums.hardwarezone.com.sg/threads/can...                  NaN   \n",
       "24  https://forums.hardwarezone.com.sg/threads/new...                  NaN   \n",
       "\n",
       "    Thread_id Subforum                                              Title  \\\n",
       "1   6870671.0   Forums  Household incomes rose in 2022, income inequal...   \n",
       "2         NaN   Forums                                                NaN   \n",
       "10  5787403.0   Forums       CPF questions : Medisave after 55 & RA Topup   \n",
       "16  6866152.0   Forums  Can CDAC directors OYK, Sun XL, Koh PK, Chee H...   \n",
       "24        NaN   Forums                                                NaN   \n",
       "\n",
       "                                              Content           Timestamp  \\\n",
       "1   singapore - median household income grew in 20... 2023-02-09 10:21:12   \n",
       "2   hi, want to get views from you all. what does ... 2018-07-05 15:55:32   \n",
       "10  1. medisave after 55 as i understand excess in... 2018-03-06 23:26:17   \n",
       "16  cdac audited report fy 2021 read cdac audited ... 2023-01-27 00:43:39   \n",
       "24  accident victim can claim govt medical subsidi... 2023-03-22 11:59:32   \n",
       "\n",
       "          Search_Term  Matching_Word  Has_Other_Sentiment  \n",
       "1   income inequality           True                False  \n",
       "2         upper class           True                False  \n",
       "10           medisave           True                False  \n",
       "16               cdac           True                False  \n",
       "24   medical expenses           True                False  "
      ]
     },
     "execution_count": 13,
     "metadata": {},
     "output_type": "execute_result"
    }
   ],
   "source": [
    "result = pd.concat(frames)\n",
    "print(result.shape)\n",
    "result.head()"
   ]
  },
  {
   "cell_type": "code",
   "execution_count": 14,
   "metadata": {},
   "outputs": [],
   "source": [
    "result.to_csv(\"hardware_zone_clean_data_with_detail.csv\", index=False)"
   ]
  },
  {
   "cell_type": "code",
   "execution_count": null,
   "metadata": {},
   "outputs": [],
   "source": []
  },
  {
   "cell_type": "code",
   "execution_count": null,
   "metadata": {},
   "outputs": [],
   "source": []
  },
  {
   "cell_type": "code",
   "execution_count": null,
   "metadata": {},
   "outputs": [],
   "source": []
  }
 ],
 "metadata": {
  "kernelspec": {
   "display_name": "Python 3 (ipykernel)",
   "language": "python",
   "name": "python3"
  },
  "language_info": {
   "codemirror_mode": {
    "name": "ipython",
    "version": 3
   },
   "file_extension": ".py",
   "mimetype": "text/x-python",
   "name": "python",
   "nbconvert_exporter": "python",
   "pygments_lexer": "ipython3",
   "version": "3.9.13"
  }
 },
 "nbformat": 4,
 "nbformat_minor": 4
}

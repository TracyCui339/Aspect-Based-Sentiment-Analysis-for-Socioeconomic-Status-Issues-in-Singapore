{
 "cells": [
  {
   "cell_type": "code",
   "execution_count": 15,
   "metadata": {},
   "outputs": [],
   "source": [
    "import pandas as pd\n",
    "import numpy as np\n",
    "source_data = pd.read_csv(\"hwz_train_data.csv\")\n"
   ]
  },
  {
   "cell_type": "code",
   "execution_count": 16,
   "metadata": {
    "scrolled": true
   },
   "outputs": [
    {
     "name": "stdout",
     "output_type": "stream",
     "text": [
      "(70, 17)\n",
      "<bound method NDFrame.head of     Unnamed: 0.1  Unnamed: 0  User_id  Type     Content_id  \\\n",
      "0             60         428   757328  Post  ['146474207']   \n",
      "1              5          16   815074  Post  ['145992640']   \n",
      "2             57         428   757328  Post  ['146474207']   \n",
      "3             13          63   204542  Post  ['146298050']   \n",
      "4             22         198   338874  Post  ['146597589']   \n",
      "..           ...         ...      ...   ...            ...   \n",
      "65            12          60   338874  Post  ['146228849']   \n",
      "66            66         473   678323  Post  ['136590891']   \n",
      "67            68         473   678323  Post  ['136590891']   \n",
      "68            28         224   501260  Post  ['139774203']   \n",
      "69            81         555   560301  Post  ['138033258']   \n",
      "\n",
      "                                                  Url  Reply_to_content_id  \\\n",
      "0   https://forums.hardwarezone.com.sg/threads/ser...                  NaN   \n",
      "1   https://forums.hardwarezone.com.sg/threads/can...                  NaN   \n",
      "2   https://forums.hardwarezone.com.sg/threads/ser...                  NaN   \n",
      "3   https://forums.hardwarezone.com.sg/threads/a-f...                  NaN   \n",
      "4   https://forums.hardwarezone.com.sg/threads/cpf...                  NaN   \n",
      "..                                                ...                  ...   \n",
      "65  https://forums.hardwarezone.com.sg/threads/gov...                  NaN   \n",
      "66  https://forums.hardwarezone.com.sg/threads/tim...                  NaN   \n",
      "67  https://forums.hardwarezone.com.sg/threads/tim...                  NaN   \n",
      "68  https://forums.hardwarezone.com.sg/threads/bud...                  NaN   \n",
      "69  https://forums.hardwarezone.com.sg/threads/sin...                  NaN   \n",
      "\n",
      "    Thread_id Subforum                                              Title  \\\n",
      "0   6877437.0   Forums  [Serious] - Anyone got judged before for cance...   \n",
      "1   6866152.0   Forums  Can CDAC directors OYK, Sun XL, Koh PK, Chee H...   \n",
      "2   6877437.0   Forums  [Serious] - Anyone got judged before for cance...   \n",
      "3         NaN   Forums                                                NaN   \n",
      "4   6880253.0   Forums  CPF to close 300,000 accounts of non-citizens,...   \n",
      "..        ...      ...                                                ...   \n",
      "65  6871644.0   Forums  Government to get policy-making ideas from cit...   \n",
      "66  6598384.0   Forums        Time to consider a wealth tax for Singapore   \n",
      "67  6598384.0   Forums        Time to consider a wealth tax for Singapore   \n",
      "68        NaN   Forums                                                NaN   \n",
      "69  6643183.0   Forums  Singapore wealth tax ‘not so easy,’ Prime Mini...   \n",
      "\n",
      "                                              Content         Timestamp  \\\n",
      "0   feel like cancelling, $3 every month can buy o...   2023/2/27 22:04   \n",
      "1   cdac audited report fy 2021 read cdac audited ...    2023/1/27 0:43   \n",
      "2   feel like cancelling, $3 every month can buy o...   2023/2/27 22:04   \n",
      "3   singapore: the raising of the central providen...   2023/2/16 10:42   \n",
      "4   cpf to close 300,000 accounts of non-citizens,...    2023/3/8 12:29   \n",
      "..                                                ...               ...   \n",
      "65  government to get policy-making ideas from cit...   2023/2/11 21:06   \n",
      "66  time to consider a wealth tax for singapore  f...    2021/9/14 8:25   \n",
      "67  time to consider a wealth tax for singapore  f...    2021/9/14 8:25   \n",
      "68  singapore - additional means to tax wealth cou...   2022/2/12 11:58   \n",
      "69  singapore wealth tax  not so easy,  prime mini...  2021/11/18 12:22   \n",
      "\n",
      "               Search_Term  Matching_Word  Has_Other_Sentiment  \\\n",
      "0                     cdac           True                False   \n",
      "1                     cdac           True                False   \n",
      "2                     cdac           True                False   \n",
      "3   central provident fund           True                False   \n",
      "4   central provident fund           True                False   \n",
      "..                     ...            ...                  ...   \n",
      "65  unemployment insurance           True                False   \n",
      "66              wealth tax           True                False   \n",
      "67              wealth tax           True                False   \n",
      "68              wealth tax           True                False   \n",
      "69              wealth tax           True                False   \n",
      "\n",
      "                                      Target_Sentence  Sentiment  \n",
      "0    what does edmw think? according to $T$ latest...          0  \n",
      "1   cdac audited report fy 2021 read $T$ audited r...          0  \n",
      "2    what does edmw think? according to $T$ latest...          0  \n",
      "3   singapore: the raising of the $T$ (cpf) monthl...         -1  \n",
      "4   sg/singapore/cpf-close-300000-accounts-non-cit...          0  \n",
      "..                                                ...        ...  \n",
      "65   he said:  for the employer, when you have a w...          1  \n",
      "66   although singapore already imposes various st...          0  \n",
      "67   unlike a general $T$, inheritance and estate ...          0  \n",
      "68   a property-related tax would be easiest to im...          0  \n",
      "69  singapore $T$  not so easy,  prime minister le...         -1  \n",
      "\n",
      "[70 rows x 17 columns]>\n"
     ]
    }
   ],
   "source": [
    "print(source_data.shape)\n",
    "print(source_data.head)"
   ]
  },
  {
   "cell_type": "code",
   "execution_count": 17,
   "metadata": {},
   "outputs": [
    {
     "name": "stdout",
     "output_type": "stream",
     "text": [
      "(70, 17)\n"
     ]
    }
   ],
   "source": [
    "result = source_data\n",
    "print(result.shape)"
   ]
  },
  {
   "cell_type": "code",
   "execution_count": 18,
   "metadata": {},
   "outputs": [],
   "source": [
    "def trainTestSplit(source_data):\n",
    "    training_data = source_data.sample(n = 16, replace = False, random_state = 1)\n",
    "    test_data = source_data.drop(training_data.index)\n",
    "    return training_data, test_data"
   ]
  },
  {
   "cell_type": "code",
   "execution_count": 19,
   "metadata": {},
   "outputs": [],
   "source": [
    "def transformToTrainingFormat(training_data):\n",
    "    res = []\n",
    "\n",
    "    for index, row in training_data.iterrows():\n",
    "        search_term = row.Search_Term\n",
    "        content = row.Target_Sentence\n",
    "        score = row.Sentiment\n",
    "        if (len(content) > 750):\n",
    "            continue\n",
    "        res.append(content)\n",
    "        res.append(search_term)\n",
    "        res.append(score)\n",
    "\n",
    "    return res"
   ]
  },
  {
   "cell_type": "code",
   "execution_count": 20,
   "metadata": {},
   "outputs": [],
   "source": [
    "\n",
    "# training_data, test_data = trainTestSplit(result)\n",
    "res = transformToTrainingFormat(result)\n"
   ]
  },
  {
   "cell_type": "code",
   "execution_count": 21,
   "metadata": {},
   "outputs": [],
   "source": [
    "target_data = pd.DataFrame(res)\n",
    "target_data.to_csv(\"hardware_zone_training_data.csv\", header = False, index = False)\n"
   ]
  },
  {
   "cell_type": "code",
   "execution_count": null,
   "metadata": {},
   "outputs": [],
   "source": []
  },
  {
   "cell_type": "code",
   "execution_count": null,
   "metadata": {},
   "outputs": [],
   "source": []
  }
 ],
 "metadata": {
  "kernelspec": {
   "display_name": "Python 3 (ipykernel)",
   "language": "python",
   "name": "python3"
  },
  "language_info": {
   "codemirror_mode": {
    "name": "ipython",
    "version": 3
   },
   "file_extension": ".py",
   "mimetype": "text/x-python",
   "name": "python",
   "nbconvert_exporter": "python",
   "pygments_lexer": "ipython3",
   "version": "3.9.13"
  }
 },
 "nbformat": 4,
 "nbformat_minor": 4
}

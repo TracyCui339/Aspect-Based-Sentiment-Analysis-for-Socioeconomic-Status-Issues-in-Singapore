{
 "cells": [
  {
   "cell_type": "code",
   "execution_count": 2,
   "metadata": {},
   "outputs": [
    {
     "name": "stdout",
     "output_type": "stream",
     "text": [
      "Requirement already satisfied: swifter in c:\\users\\chuan wu\\anaconda3\\lib\\site-packages (1.3.4)\n",
      "Requirement already satisfied: tqdm>=4.33.0 in c:\\users\\chuan wu\\anaconda3\\lib\\site-packages (from swifter) (4.64.1)\n",
      "Requirement already satisfied: psutil>=5.6.6 in c:\\users\\chuan wu\\anaconda3\\lib\\site-packages (from swifter) (5.9.0)\n",
      "Requirement already satisfied: pandas>=1.0.0 in c:\\users\\chuan wu\\anaconda3\\lib\\site-packages (from swifter) (1.4.4)\n",
      "Requirement already satisfied: cloudpickle>=0.2.2 in c:\\users\\chuan wu\\anaconda3\\lib\\site-packages (from swifter) (2.0.0)\n",
      "Requirement already satisfied: parso>0.4.0 in c:\\users\\chuan wu\\anaconda3\\lib\\site-packages (from swifter) (0.8.3)\n",
      "Requirement already satisfied: dask[dataframe]>=2.10.0 in c:\\users\\chuan wu\\anaconda3\\lib\\site-packages (from swifter) (2022.7.0)\n",
      "Requirement already satisfied: bleach>=3.1.1 in c:\\users\\chuan wu\\anaconda3\\lib\\site-packages (from swifter) (4.1.0)\n",
      "Requirement already satisfied: ipywidgets>=7.0.0 in c:\\users\\chuan wu\\anaconda3\\lib\\site-packages (from swifter) (7.6.5)\n",
      "Requirement already satisfied: six>=1.9.0 in c:\\users\\chuan wu\\anaconda3\\lib\\site-packages (from bleach>=3.1.1->swifter) (1.16.0)\n",
      "Requirement already satisfied: webencodings in c:\\users\\chuan wu\\anaconda3\\lib\\site-packages (from bleach>=3.1.1->swifter) (0.5.1)\n",
      "Requirement already satisfied: packaging in c:\\users\\chuan wu\\anaconda3\\lib\\site-packages (from bleach>=3.1.1->swifter) (21.3)\n",
      "Requirement already satisfied: fsspec>=0.6.0 in c:\\users\\chuan wu\\anaconda3\\lib\\site-packages (from dask[dataframe]>=2.10.0->swifter) (2022.7.1)\n",
      "Requirement already satisfied: pyyaml>=5.3.1 in c:\\users\\chuan wu\\anaconda3\\lib\\site-packages (from dask[dataframe]>=2.10.0->swifter) (6.0)\n",
      "Requirement already satisfied: toolz>=0.8.2 in c:\\users\\chuan wu\\anaconda3\\lib\\site-packages (from dask[dataframe]>=2.10.0->swifter) (0.11.2)\n",
      "Requirement already satisfied: partd>=0.3.10 in c:\\users\\chuan wu\\anaconda3\\lib\\site-packages (from dask[dataframe]>=2.10.0->swifter) (1.2.0)\n",
      "Requirement already satisfied: numpy>=1.18 in c:\\users\\chuan wu\\anaconda3\\lib\\site-packages (from dask[dataframe]>=2.10.0->swifter) (1.24.2)\n",
      "Requirement already satisfied: jupyterlab-widgets>=1.0.0 in c:\\users\\chuan wu\\anaconda3\\lib\\site-packages (from ipywidgets>=7.0.0->swifter) (1.0.0)\n",
      "Requirement already satisfied: ipython-genutils~=0.2.0 in c:\\users\\chuan wu\\anaconda3\\lib\\site-packages (from ipywidgets>=7.0.0->swifter) (0.2.0)\n",
      "Requirement already satisfied: nbformat>=4.2.0 in c:\\users\\chuan wu\\anaconda3\\lib\\site-packages (from ipywidgets>=7.0.0->swifter) (5.5.0)\n",
      "Requirement already satisfied: ipykernel>=4.5.1 in c:\\users\\chuan wu\\anaconda3\\lib\\site-packages (from ipywidgets>=7.0.0->swifter) (6.15.2)\n",
      "Requirement already satisfied: widgetsnbextension~=3.5.0 in c:\\users\\chuan wu\\anaconda3\\lib\\site-packages (from ipywidgets>=7.0.0->swifter) (3.5.2)\n",
      "Requirement already satisfied: traitlets>=4.3.1 in c:\\users\\chuan wu\\anaconda3\\lib\\site-packages (from ipywidgets>=7.0.0->swifter) (5.1.1)\n",
      "Requirement already satisfied: ipython>=4.0.0 in c:\\users\\chuan wu\\anaconda3\\lib\\site-packages (from ipywidgets>=7.0.0->swifter) (7.31.1)\n",
      "Requirement already satisfied: python-dateutil>=2.8.1 in c:\\users\\chuan wu\\anaconda3\\lib\\site-packages (from pandas>=1.0.0->swifter) (2.8.2)\n",
      "Requirement already satisfied: pytz>=2020.1 in c:\\users\\chuan wu\\anaconda3\\lib\\site-packages (from pandas>=1.0.0->swifter) (2022.1)\n",
      "Requirement already satisfied: colorama in c:\\users\\chuan wu\\anaconda3\\lib\\site-packages (from tqdm>=4.33.0->swifter) (0.4.5)\n",
      "Requirement already satisfied: tornado>=6.1 in c:\\users\\chuan wu\\anaconda3\\lib\\site-packages (from ipykernel>=4.5.1->ipywidgets>=7.0.0->swifter) (6.1)\n",
      "Requirement already satisfied: matplotlib-inline>=0.1 in c:\\users\\chuan wu\\anaconda3\\lib\\site-packages (from ipykernel>=4.5.1->ipywidgets>=7.0.0->swifter) (0.1.6)\n",
      "Requirement already satisfied: jupyter-client>=6.1.12 in c:\\users\\chuan wu\\anaconda3\\lib\\site-packages (from ipykernel>=4.5.1->ipywidgets>=7.0.0->swifter) (7.3.4)\n",
      "Requirement already satisfied: nest-asyncio in c:\\users\\chuan wu\\anaconda3\\lib\\site-packages (from ipykernel>=4.5.1->ipywidgets>=7.0.0->swifter) (1.5.5)\n",
      "Requirement already satisfied: debugpy>=1.0 in c:\\users\\chuan wu\\anaconda3\\lib\\site-packages (from ipykernel>=4.5.1->ipywidgets>=7.0.0->swifter) (1.5.1)\n",
      "Requirement already satisfied: pyzmq>=17 in c:\\users\\chuan wu\\anaconda3\\lib\\site-packages (from ipykernel>=4.5.1->ipywidgets>=7.0.0->swifter) (23.2.0)\n",
      "Requirement already satisfied: prompt-toolkit!=3.0.0,!=3.0.1,<3.1.0,>=2.0.0 in c:\\users\\chuan wu\\anaconda3\\lib\\site-packages (from ipython>=4.0.0->ipywidgets>=7.0.0->swifter) (3.0.20)\n",
      "Requirement already satisfied: jedi>=0.16 in c:\\users\\chuan wu\\anaconda3\\lib\\site-packages (from ipython>=4.0.0->ipywidgets>=7.0.0->swifter) (0.18.1)\n",
      "Requirement already satisfied: pygments in c:\\users\\chuan wu\\anaconda3\\lib\\site-packages (from ipython>=4.0.0->ipywidgets>=7.0.0->swifter) (2.11.2)\n",
      "Requirement already satisfied: setuptools>=18.5 in c:\\users\\chuan wu\\anaconda3\\lib\\site-packages (from ipython>=4.0.0->ipywidgets>=7.0.0->swifter) (63.4.1)\n",
      "Requirement already satisfied: decorator in c:\\users\\chuan wu\\anaconda3\\lib\\site-packages (from ipython>=4.0.0->ipywidgets>=7.0.0->swifter) (5.1.1)\n",
      "Requirement already satisfied: pickleshare in c:\\users\\chuan wu\\anaconda3\\lib\\site-packages (from ipython>=4.0.0->ipywidgets>=7.0.0->swifter) (0.7.5)\n",
      "Requirement already satisfied: backcall in c:\\users\\chuan wu\\anaconda3\\lib\\site-packages (from ipython>=4.0.0->ipywidgets>=7.0.0->swifter) (0.2.0)\n",
      "Requirement already satisfied: jupyter_core in c:\\users\\chuan wu\\anaconda3\\lib\\site-packages (from nbformat>=4.2.0->ipywidgets>=7.0.0->swifter) (4.11.1)\n",
      "Requirement already satisfied: jsonschema>=2.6 in c:\\users\\chuan wu\\anaconda3\\lib\\site-packages (from nbformat>=4.2.0->ipywidgets>=7.0.0->swifter) (4.16.0)\n",
      "Requirement already satisfied: fastjsonschema in c:\\users\\chuan wu\\anaconda3\\lib\\site-packages (from nbformat>=4.2.0->ipywidgets>=7.0.0->swifter) (2.16.2)\n",
      "Requirement already satisfied: pyparsing!=3.0.5,>=2.0.2 in c:\\users\\chuan wu\\anaconda3\\lib\\site-packages (from packaging->bleach>=3.1.1->swifter) (3.0.9)\n",
      "Requirement already satisfied: locket in c:\\users\\chuan wu\\anaconda3\\lib\\site-packages (from partd>=0.3.10->dask[dataframe]>=2.10.0->swifter) (1.0.0)\n",
      "Requirement already satisfied: notebook>=4.4.1 in c:\\users\\chuan wu\\anaconda3\\lib\\site-packages (from widgetsnbextension~=3.5.0->ipywidgets>=7.0.0->swifter) (6.4.12)\n",
      "Requirement already satisfied: pyrsistent!=0.17.0,!=0.17.1,!=0.17.2,>=0.14.0 in c:\\users\\chuan wu\\anaconda3\\lib\\site-packages (from jsonschema>=2.6->nbformat>=4.2.0->ipywidgets>=7.0.0->swifter) (0.18.0)\n",
      "Requirement already satisfied: attrs>=17.4.0 in c:\\users\\chuan wu\\anaconda3\\lib\\site-packages (from jsonschema>=2.6->nbformat>=4.2.0->ipywidgets>=7.0.0->swifter) (21.4.0)\n",
      "Requirement already satisfied: entrypoints in c:\\users\\chuan wu\\anaconda3\\lib\\site-packages (from jupyter-client>=6.1.12->ipykernel>=4.5.1->ipywidgets>=7.0.0->swifter) (0.4)\n",
      "Requirement already satisfied: pywin32>=1.0 in c:\\users\\chuan wu\\anaconda3\\lib\\site-packages (from jupyter_core->nbformat>=4.2.0->ipywidgets>=7.0.0->swifter) (302)\n",
      "Requirement already satisfied: jinja2 in c:\\users\\chuan wu\\anaconda3\\lib\\site-packages (from notebook>=4.4.1->widgetsnbextension~=3.5.0->ipywidgets>=7.0.0->swifter) (2.11.3)\n",
      "Requirement already satisfied: nbconvert>=5 in c:\\users\\chuan wu\\anaconda3\\lib\\site-packages (from notebook>=4.4.1->widgetsnbextension~=3.5.0->ipywidgets>=7.0.0->swifter) (6.4.4)\n",
      "Requirement already satisfied: argon2-cffi in c:\\users\\chuan wu\\anaconda3\\lib\\site-packages (from notebook>=4.4.1->widgetsnbextension~=3.5.0->ipywidgets>=7.0.0->swifter) (21.3.0)\n",
      "Requirement already satisfied: Send2Trash>=1.8.0 in c:\\users\\chuan wu\\anaconda3\\lib\\site-packages (from notebook>=4.4.1->widgetsnbextension~=3.5.0->ipywidgets>=7.0.0->swifter) (1.8.0)\n",
      "Requirement already satisfied: prometheus-client in c:\\users\\chuan wu\\anaconda3\\lib\\site-packages (from notebook>=4.4.1->widgetsnbextension~=3.5.0->ipywidgets>=7.0.0->swifter) (0.14.1)\n",
      "Requirement already satisfied: terminado>=0.8.3 in c:\\users\\chuan wu\\anaconda3\\lib\\site-packages (from notebook>=4.4.1->widgetsnbextension~=3.5.0->ipywidgets>=7.0.0->swifter) (0.13.1)\n",
      "Requirement already satisfied: wcwidth in c:\\users\\chuan wu\\anaconda3\\lib\\site-packages (from prompt-toolkit!=3.0.0,!=3.0.1,<3.1.0,>=2.0.0->ipython>=4.0.0->ipywidgets>=7.0.0->swifter) (0.2.5)\n",
      "Requirement already satisfied: nbclient<0.6.0,>=0.5.0 in c:\\users\\chuan wu\\anaconda3\\lib\\site-packages (from nbconvert>=5->notebook>=4.4.1->widgetsnbextension~=3.5.0->ipywidgets>=7.0.0->swifter) (0.5.13)\n",
      "Requirement already satisfied: jupyterlab-pygments in c:\\users\\chuan wu\\anaconda3\\lib\\site-packages (from nbconvert>=5->notebook>=4.4.1->widgetsnbextension~=3.5.0->ipywidgets>=7.0.0->swifter) (0.1.2)\n",
      "Requirement already satisfied: defusedxml in c:\\users\\chuan wu\\anaconda3\\lib\\site-packages (from nbconvert>=5->notebook>=4.4.1->widgetsnbextension~=3.5.0->ipywidgets>=7.0.0->swifter) (0.7.1)\n",
      "Requirement already satisfied: testpath in c:\\users\\chuan wu\\anaconda3\\lib\\site-packages (from nbconvert>=5->notebook>=4.4.1->widgetsnbextension~=3.5.0->ipywidgets>=7.0.0->swifter) (0.6.0)\n",
      "Requirement already satisfied: pandocfilters>=1.4.1 in c:\\users\\chuan wu\\anaconda3\\lib\\site-packages (from nbconvert>=5->notebook>=4.4.1->widgetsnbextension~=3.5.0->ipywidgets>=7.0.0->swifter) (1.5.0)\n",
      "Requirement already satisfied: beautifulsoup4 in c:\\users\\chuan wu\\anaconda3\\lib\\site-packages (from nbconvert>=5->notebook>=4.4.1->widgetsnbextension~=3.5.0->ipywidgets>=7.0.0->swifter) (4.11.1)\n",
      "Requirement already satisfied: mistune<2,>=0.8.1 in c:\\users\\chuan wu\\anaconda3\\lib\\site-packages (from nbconvert>=5->notebook>=4.4.1->widgetsnbextension~=3.5.0->ipywidgets>=7.0.0->swifter) (0.8.4)\n",
      "Requirement already satisfied: MarkupSafe>=0.23 in c:\\users\\chuan wu\\anaconda3\\lib\\site-packages (from jinja2->notebook>=4.4.1->widgetsnbextension~=3.5.0->ipywidgets>=7.0.0->swifter) (2.0.1)\n",
      "Requirement already satisfied: pywinpty>=1.1.0 in c:\\users\\chuan wu\\anaconda3\\lib\\site-packages (from terminado>=0.8.3->notebook>=4.4.1->widgetsnbextension~=3.5.0->ipywidgets>=7.0.0->swifter) (2.0.2)\n",
      "Requirement already satisfied: argon2-cffi-bindings in c:\\users\\chuan wu\\anaconda3\\lib\\site-packages (from argon2-cffi->notebook>=4.4.1->widgetsnbextension~=3.5.0->ipywidgets>=7.0.0->swifter) (21.2.0)\n",
      "Requirement already satisfied: cffi>=1.0.1 in c:\\users\\chuan wu\\anaconda3\\lib\\site-packages (from argon2-cffi-bindings->argon2-cffi->notebook>=4.4.1->widgetsnbextension~=3.5.0->ipywidgets>=7.0.0->swifter) (1.15.1)\n",
      "Requirement already satisfied: soupsieve>1.2 in c:\\users\\chuan wu\\anaconda3\\lib\\site-packages (from beautifulsoup4->nbconvert>=5->notebook>=4.4.1->widgetsnbextension~=3.5.0->ipywidgets>=7.0.0->swifter) (2.3.1)\n",
      "Requirement already satisfied: pycparser in c:\\users\\chuan wu\\anaconda3\\lib\\site-packages (from cffi>=1.0.1->argon2-cffi-bindings->argon2-cffi->notebook>=4.4.1->widgetsnbextension~=3.5.0->ipywidgets>=7.0.0->swifter) (2.21)\n"
     ]
    }
   ],
   "source": [
    "import pandas as pd\n",
    "import numpy as np\n",
    "import re\n",
    "import time\n",
    "import swifter\n",
    "source_data = pd.read_csv(\"reddit_raw_data.csv\")"
   ]
  },
  {
   "cell_type": "code",
   "execution_count": 3,
   "metadata": {},
   "outputs": [
    {
     "name": "stdout",
     "output_type": "stream",
     "text": [
      "(115180, 12)\n",
      "(113026, 12)\n"
     ]
    }
   ],
   "source": [
    "print(source_data.shape)\n",
    "source_data['Timestamp'] = pd.to_datetime(source_data['Timestamp'])\n",
    "source_data = source_data[(source_data['Timestamp'] > '2017-01-01 00:00:00')]\n",
    "source_data['Search_Term'] = source_data['Search_Term'].astype(str)\n",
    "source_data['Content'] =  source_data['Content'].astype(str)\n",
    "print(source_data.shape)"
   ]
  },
  {
   "cell_type": "code",
   "execution_count": 4,
   "metadata": {},
   "outputs": [
    {
     "name": "stdout",
     "output_type": "stream",
     "text": [
      "Start cleaning at Tue Apr  4 16:36:19 2023\n"
     ]
    },
    {
     "data": {
      "application/vnd.jupyter.widget-view+json": {
       "model_id": "af02b33461114827a45b7deb8c6a7205",
       "version_major": 2,
       "version_minor": 0
      },
      "text/plain": [
       "Pandas Apply:   0%|          | 0/113026 [00:00<?, ?it/s]"
      ]
     },
     "metadata": {},
     "output_type": "display_data"
    }
   ],
   "source": [
    "def content_cleaning(row):\n",
    "    final_string = row.Content\n",
    "    final_string = re.sub(r'\\n\\s*\\n', '\\n', final_string, flags=re.MULTILINE)\n",
    "    final_string = final_string.replace(\"\\n\", \"\")\n",
    "#     #Weird thing have to do this to convert to unicode then removed by ascii\n",
    "#     pattern = r\"\\\\u.{4}\"\n",
    "#     mod_string = re.sub(pattern, ' ', final_string)\n",
    "\n",
    "    #encode() method\n",
    "    strencode = str(final_string).encode(\"ascii\", \"ignore\")\n",
    "    #decode() method\n",
    "    strdecode = strencode.decode()\n",
    "\n",
    "    return strdecode\n",
    "print(\"Start cleaning at \" + time.ctime())\n",
    "source_data.loc[:,\"Content\"] = source_data.swifter.apply(content_cleaning, axis=1)"
   ]
  },
  {
   "cell_type": "code",
   "execution_count": 5,
   "metadata": {},
   "outputs": [
    {
     "name": "stdout",
     "output_type": "stream",
     "text": [
      "Start Case Fold at Tue Apr  4 16:36:22 2023\n",
      "End Case Fold at Tue Apr  4 16:36:22 2023\n",
      "(113026, 12)\n"
     ]
    }
   ],
   "source": [
    "\n",
    "print(\"Start Case Fold at \" + time.ctime())\n",
    "source_data.loc[:,\"Search_Term\"] = source_data[\"Search_Term\"].str.lower()\n",
    "source_data.loc[:,\"Content\"] = source_data[\"Content\"].str.lower()\n",
    "\n",
    "print(\"End Case Fold at \" + time.ctime())\n",
    "print(source_data.shape)"
   ]
  },
  {
   "cell_type": "code",
   "execution_count": 6,
   "metadata": {},
   "outputs": [],
   "source": [
    "\n",
    "def find_exact_match_no_split(row):\n",
    "    search_token = row.Search_Term\n",
    "    matched = True\n",
    "    search_token = r'\\b' + re.escape(search_token) + r'\\b'\n",
    "    found = re.search(search_token, row.Content)\n",
    "    if not found:\n",
    "        matched = False\n",
    "            \n",
    "    return matched\n",
    "\n",
    "\n",
    "\n",
    "\n"
   ]
  },
  {
   "cell_type": "code",
   "execution_count": 7,
   "metadata": {},
   "outputs": [
    {
     "name": "stdout",
     "output_type": "stream",
     "text": [
      "Finding Matching Word Start at Tue Apr  4 16:36:25 2023\n"
     ]
    },
    {
     "data": {
      "application/vnd.jupyter.widget-view+json": {
       "model_id": "88f471ff524243af919fdee99b855be0",
       "version_major": 2,
       "version_minor": 0
      },
      "text/plain": [
       "Pandas Apply:   0%|          | 0/113026 [00:00<?, ?it/s]"
      ]
     },
     "metadata": {},
     "output_type": "display_data"
    },
    {
     "name": "stdout",
     "output_type": "stream",
     "text": [
      "Finding Matching Word End at Tue Apr  4 16:36:30 2023\n"
     ]
    }
   ],
   "source": [
    "print(\"Finding Matching Word Start at \" + time.ctime())\n",
    "\n",
    "source_data.loc[:,\"Matching_Word\"] = source_data.swifter.apply(find_exact_match_no_split, axis=1)\n",
    "print(\"Finding Matching Word End at \" + time.ctime())"
   ]
  },
  {
   "cell_type": "code",
   "execution_count": 8,
   "metadata": {},
   "outputs": [
    {
     "data": {
      "text/html": [
       "<div>\n",
       "<style scoped>\n",
       "    .dataframe tbody tr th:only-of-type {\n",
       "        vertical-align: middle;\n",
       "    }\n",
       "\n",
       "    .dataframe tbody tr th {\n",
       "        vertical-align: top;\n",
       "    }\n",
       "\n",
       "    .dataframe thead th {\n",
       "        text-align: right;\n",
       "    }\n",
       "</style>\n",
       "<table border=\"1\" class=\"dataframe\">\n",
       "  <thead>\n",
       "    <tr style=\"text-align: right;\">\n",
       "      <th></th>\n",
       "      <th>User ID</th>\n",
       "      <th>Type</th>\n",
       "      <th>Content ID</th>\n",
       "      <th>URL</th>\n",
       "      <th>Reply to Content ID</th>\n",
       "      <th>Thread Selftext</th>\n",
       "      <th>Subreddit</th>\n",
       "      <th>Title</th>\n",
       "      <th>Content</th>\n",
       "      <th>Timestamp</th>\n",
       "      <th>Score</th>\n",
       "      <th>Search_Term</th>\n",
       "      <th>Matching_Word</th>\n",
       "    </tr>\n",
       "  </thead>\n",
       "  <tbody>\n",
       "    <tr>\n",
       "      <th>176</th>\n",
       "      <td>SG_wormsblink</td>\n",
       "      <td>Thread</td>\n",
       "      <td>11apg1h</td>\n",
       "      <td>/r/singapore/comments/11apg1h/claims_that_midd...</td>\n",
       "      <td>j9tbfx6</td>\n",
       "      <td>NaN</td>\n",
       "      <td>all</td>\n",
       "      <td>Claims that middle-income Singaporeans are ove...</td>\n",
       "      <td>looking at this article literally, i think leo...</td>\n",
       "      <td>2023-02-24 11:42:53</td>\n",
       "      <td>2023-02-24 12:22:53</td>\n",
       "      <td>middle income</td>\n",
       "      <td>True</td>\n",
       "    </tr>\n",
       "    <tr>\n",
       "      <th>188</th>\n",
       "      <td>SG_wormsblink</td>\n",
       "      <td>Thread</td>\n",
       "      <td>11apg1h</td>\n",
       "      <td>/r/singapore/comments/11apg1h/claims_that_midd...</td>\n",
       "      <td>j9uc9rw</td>\n",
       "      <td>NaN</td>\n",
       "      <td>all</td>\n",
       "      <td>Claims that middle-income Singaporeans are ove...</td>\n",
       "      <td>look at it this way.your cpf savings grow at a...</td>\n",
       "      <td>2023-02-24 11:42:53</td>\n",
       "      <td>2023-02-24 16:53:29</td>\n",
       "      <td>middle income</td>\n",
       "      <td>True</td>\n",
       "    </tr>\n",
       "    <tr>\n",
       "      <th>208</th>\n",
       "      <td>RecetasEmpanadas</td>\n",
       "      <td>Thread</td>\n",
       "      <td>11e84d9</td>\n",
       "      <td>/r/asklatinamerica/comments/11e84d9/what_do_yo...</td>\n",
       "      <td>jad3386</td>\n",
       "      <td>Hi! Recently, I've been interested in the econ...</td>\n",
       "      <td>all</td>\n",
       "      <td>What do you think of the middle-income trap in...</td>\n",
       "      <td>i saw people saying that brazil cant escape th...</td>\n",
       "      <td>2023-02-28 14:26:58</td>\n",
       "      <td>2023-02-28 15:57:13</td>\n",
       "      <td>middle income</td>\n",
       "      <td>True</td>\n",
       "    </tr>\n",
       "    <tr>\n",
       "      <th>216</th>\n",
       "      <td>RecetasEmpanadas</td>\n",
       "      <td>Thread</td>\n",
       "      <td>11e84d9</td>\n",
       "      <td>/r/asklatinamerica/comments/11e84d9/what_do_yo...</td>\n",
       "      <td>jagvs5z</td>\n",
       "      <td>Hi! Recently, I've been interested in the econ...</td>\n",
       "      <td>all</td>\n",
       "      <td>What do you think of the middle-income trap in...</td>\n",
       "      <td>how 200 usd monthly average income can be cons...</td>\n",
       "      <td>2023-02-28 14:26:58</td>\n",
       "      <td>2023-03-01 10:04:37</td>\n",
       "      <td>middle income</td>\n",
       "      <td>True</td>\n",
       "    </tr>\n",
       "    <tr>\n",
       "      <th>219</th>\n",
       "      <td>RecetasEmpanadas</td>\n",
       "      <td>Thread</td>\n",
       "      <td>11e84d9</td>\n",
       "      <td>/r/asklatinamerica/comments/11e84d9/what_do_yo...</td>\n",
       "      <td>jae1niy</td>\n",
       "      <td>Hi! Recently, I've been interested in the econ...</td>\n",
       "      <td>all</td>\n",
       "      <td>What do you think of the middle-income trap in...</td>\n",
       "      <td>- i do belive in the middle income trap, parti...</td>\n",
       "      <td>2023-02-28 14:26:58</td>\n",
       "      <td>2023-02-28 19:36:40</td>\n",
       "      <td>middle income</td>\n",
       "      <td>True</td>\n",
       "    </tr>\n",
       "  </tbody>\n",
       "</table>\n",
       "</div>"
      ],
      "text/plain": [
       "              User ID    Type Content ID  \\\n",
       "176     SG_wormsblink  Thread    11apg1h   \n",
       "188     SG_wormsblink  Thread    11apg1h   \n",
       "208  RecetasEmpanadas  Thread    11e84d9   \n",
       "216  RecetasEmpanadas  Thread    11e84d9   \n",
       "219  RecetasEmpanadas  Thread    11e84d9   \n",
       "\n",
       "                                                   URL Reply to Content ID  \\\n",
       "176  /r/singapore/comments/11apg1h/claims_that_midd...             j9tbfx6   \n",
       "188  /r/singapore/comments/11apg1h/claims_that_midd...             j9uc9rw   \n",
       "208  /r/asklatinamerica/comments/11e84d9/what_do_yo...             jad3386   \n",
       "216  /r/asklatinamerica/comments/11e84d9/what_do_yo...             jagvs5z   \n",
       "219  /r/asklatinamerica/comments/11e84d9/what_do_yo...             jae1niy   \n",
       "\n",
       "                                       Thread Selftext Subreddit  \\\n",
       "176                                                NaN       all   \n",
       "188                                                NaN       all   \n",
       "208  Hi! Recently, I've been interested in the econ...       all   \n",
       "216  Hi! Recently, I've been interested in the econ...       all   \n",
       "219  Hi! Recently, I've been interested in the econ...       all   \n",
       "\n",
       "                                                 Title  \\\n",
       "176  Claims that middle-income Singaporeans are ove...   \n",
       "188  Claims that middle-income Singaporeans are ove...   \n",
       "208  What do you think of the middle-income trap in...   \n",
       "216  What do you think of the middle-income trap in...   \n",
       "219  What do you think of the middle-income trap in...   \n",
       "\n",
       "                                               Content           Timestamp  \\\n",
       "176  looking at this article literally, i think leo... 2023-02-24 11:42:53   \n",
       "188  look at it this way.your cpf savings grow at a... 2023-02-24 11:42:53   \n",
       "208  i saw people saying that brazil cant escape th... 2023-02-28 14:26:58   \n",
       "216  how 200 usd monthly average income can be cons... 2023-02-28 14:26:58   \n",
       "219  - i do belive in the middle income trap, parti... 2023-02-28 14:26:58   \n",
       "\n",
       "                   Score    Search_Term  Matching_Word  \n",
       "176  2023-02-24 12:22:53  middle income           True  \n",
       "188  2023-02-24 16:53:29  middle income           True  \n",
       "208  2023-02-28 15:57:13  middle income           True  \n",
       "216  2023-03-01 10:04:37  middle income           True  \n",
       "219  2023-02-28 19:36:40  middle income           True  "
      ]
     },
     "execution_count": 8,
     "metadata": {},
     "output_type": "execute_result"
    }
   ],
   "source": [
    "source_data = source_data[source_data['Matching_Word'] == True]\n",
    "source_data.head()\n"
   ]
  },
  {
   "cell_type": "code",
   "execution_count": 9,
   "metadata": {
    "scrolled": true
   },
   "outputs": [
    {
     "name": "stdout",
     "output_type": "stream",
     "text": [
      "(7261, 13)\n"
     ]
    }
   ],
   "source": [
    "print(source_data.shape)\n"
   ]
  },
  {
   "cell_type": "code",
   "execution_count": 10,
   "metadata": {},
   "outputs": [],
   "source": [
    "source_data.to_csv(\"reddit_clean_data.csv\")"
   ]
  },
  {
   "cell_type": "code",
   "execution_count": null,
   "metadata": {},
   "outputs": [],
   "source": []
  },
  {
   "cell_type": "code",
   "execution_count": null,
   "metadata": {},
   "outputs": [],
   "source": []
  }
 ],
 "metadata": {
  "kernelspec": {
   "display_name": "Python 3 (ipykernel)",
   "language": "python",
   "name": "python3"
  },
  "language_info": {
   "codemirror_mode": {
    "name": "ipython",
    "version": 3
   },
   "file_extension": ".py",
   "mimetype": "text/x-python",
   "name": "python",
   "nbconvert_exporter": "python",
   "pygments_lexer": "ipython3",
   "version": "3.9.13"
  }
 },
 "nbformat": 4,
 "nbformat_minor": 4
}

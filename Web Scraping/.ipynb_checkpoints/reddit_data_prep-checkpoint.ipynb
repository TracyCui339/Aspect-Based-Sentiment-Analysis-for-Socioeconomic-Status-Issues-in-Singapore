{
 "cells": [
  {
   "cell_type": "code",
   "execution_count": 1,
   "metadata": {},
   "outputs": [],
   "source": [
    "import pandas as pd\n",
    "import numpy as np\n",
    "source_data = pd.read_csv(\"Reddit_Filtered_Processed_DataV3.csv\")\n"
   ]
  },
  {
   "cell_type": "code",
   "execution_count": 2,
   "metadata": {},
   "outputs": [
    {
     "name": "stdout",
     "output_type": "stream",
     "text": [
      "(1135, 21)\n",
      "<bound method NDFrame.head of       Unnamed: 0           User ID    Type Content ID  \\\n",
      "0        33548.0  hotgarbagecomics  Thread     d9wj0q   \n",
      "1        33666.0       LightBluely  Thread     h822dt   \n",
      "2        33773.0  hotgarbagecomics  Thread     dnb3yi   \n",
      "3        33782.0  hotgarbagecomics  Thread     dnb3yi   \n",
      "4        37920.0         dravidan7  Thread     o64szr   \n",
      "...          ...               ...     ...        ...   \n",
      "1130         NaN               NaN     NaN        NaN   \n",
      "1131         NaN               NaN     NaN        NaN   \n",
      "1132         NaN               NaN     NaN        NaN   \n",
      "1133         NaN               NaN     NaN        NaN   \n",
      "1134         NaN               NaN     NaN        NaN   \n",
      "\n",
      "                                                    URL Reply to Content ID  \\\n",
      "0     /r/singapore/comments/d9wj0q/are_the_stories_o...             f1mbpk0   \n",
      "1     /r/singapore/comments/h822dt/mediacorp_stop_ai...             fuscorv   \n",
      "2     /r/singapore/comments/dnb3yi/debunking_the_myt...             f59xflk   \n",
      "3     /r/singapore/comments/dnb3yi/debunking_the_myt...             f5ddpyg   \n",
      "4     /r/singapore/comments/o64szr/how_structural_ra...             h2qg1wt   \n",
      "...                                                 ...                 ...   \n",
      "1130                                                NaN                 NaN   \n",
      "1131                                                NaN                 NaN   \n",
      "1132                                                NaN                 NaN   \n",
      "1133                                                NaN                 NaN   \n",
      "1134                                                NaN                 NaN   \n",
      "\n",
      "                                        Thread Selftext Subreddit  \\\n",
      "0     [This thread got me thinking:](https://www.red...       all   \n",
      "1     After hearing my parents complain, they should...       all   \n",
      "2                                                   NaN       all   \n",
      "3                                                   NaN       all   \n",
      "4                                                   NaN       all   \n",
      "...                                                 ...       ...   \n",
      "1130                                                NaN       NaN   \n",
      "1131                                                NaN       NaN   \n",
      "1132                                                NaN       NaN   \n",
      "1133                                                NaN       NaN   \n",
      "1134                                                NaN       NaN   \n",
      "\n",
      "                                                  Title  \\\n",
      "0     Are the stories of \"Malay pricing\" and \"non-Ma...   \n",
      "1     Mediacorp, STOP airing these non malay shows o...   \n",
      "2     Debunking the Myth of ‘Malay’ and ‘Non-Malay’ ...   \n",
      "3     Debunking the Myth of ‘Malay’ and ‘Non-Malay’ ...   \n",
      "4     How structural racism penalises minorities: is...   \n",
      "...                                                 ...   \n",
      "1130                                                NaN   \n",
      "1131                                                NaN   \n",
      "1132                                                NaN   \n",
      "1133                                                NaN   \n",
      "1134                                                NaN   \n",
      "\n",
      "                                                Content  ...  \\\n",
      "0     can i suggest culture as opposed to cheat or t...  ...   \n",
      "1     i have always complained about the airing of m...  ...   \n",
      "2     theyre not very good scientists if this is the...  ...   \n",
      "3     non-malay, and guess i do get some long-time c...  ...   \n",
      "4     slight tangent here, but if i'm chinese and my...  ...   \n",
      "...                                                 ...  ...   \n",
      "1130                                                NaN  ...   \n",
      "1131                                                NaN  ...   \n",
      "1132                                                NaN  ...   \n",
      "1133                                                NaN  ...   \n",
      "1134                                                NaN  ...   \n",
      "\n",
      "                    Score  Search_Term Matching_Word Race Related  \\\n",
      "0     2019-09-27 13:14:49    non-malay          True         True   \n",
      "1      2020-06-14 9:47:09    non-malay          True         True   \n",
      "2     2019-10-26 13:37:02    non-malay          True         True   \n",
      "3      2019-10-27 4:57:00    non-malay          True         True   \n",
      "4      2021-06-23 4:28:46  malay quota          True         True   \n",
      "...                   ...          ...           ...          ...   \n",
      "1130                  NaN          NaN           NaN          NaN   \n",
      "1131                  NaN          NaN           NaN          NaN   \n",
      "1132                  NaN          NaN           NaN          NaN   \n",
      "1133                  NaN          NaN           NaN          NaN   \n",
      "1134                  NaN          NaN           NaN          NaN   \n",
      "\n",
      "     Has_Other_Sentiment                                    Target_Sentence  \\\n",
      "0                  False  the notion that the $T$ races are better off i...   \n",
      "1                  False  i have always complained about the airing of m...   \n",
      "2                  False   - besides malay prices, they should also inve...   \n",
      "3                  False  $T$, and guess i do get some long-time custome...   \n",
      "4                  False  slight tangent here, but if i'm chinese and my...   \n",
      "...                  ...                                                ...   \n",
      "1130                 NaN                                                NaN   \n",
      "1131                 NaN                                                NaN   \n",
      "1132                 NaN                                                NaN   \n",
      "1133                 NaN                                                NaN   \n",
      "1134                 NaN                                                NaN   \n",
      "\n",
      "     Is_Relevant  Sentiment  Multiple Sentences? Unnamed: 20  \n",
      "0            1.0       -1.0                  NaN         NaN  \n",
      "1            1.0       -1.0                  NaN         NaN  \n",
      "2            1.0        1.0                  NaN         NaN  \n",
      "3            1.0        1.0                  NaN         NaN  \n",
      "4            1.0        0.0                  NaN         NaN  \n",
      "...          ...        ...                  ...         ...  \n",
      "1130         NaN        NaN                  NaN         NaN  \n",
      "1131         NaN        NaN                  NaN         NaN  \n",
      "1132         NaN        NaN                  NaN         NaN  \n",
      "1133         NaN        NaN                  NaN         NaN  \n",
      "1134         NaN        NaN                  NaN         NaN  \n",
      "\n",
      "[1135 rows x 21 columns]>\n"
     ]
    }
   ],
   "source": [
    "print(source_data.shape)\n",
    "print(source_data.head)"
   ]
  },
  {
   "cell_type": "code",
   "execution_count": 3,
   "metadata": {},
   "outputs": [
    {
     "name": "stdout",
     "output_type": "stream",
     "text": [
      "(714, 21)\n"
     ]
    }
   ],
   "source": [
    "result = source_data[source_data['Is_Relevant'] == 1]\n",
    "print(result.shape)"
   ]
  },
  {
   "cell_type": "code",
   "execution_count": 4,
   "metadata": {},
   "outputs": [],
   "source": [
    "def trainTestSplit(source_data):\n",
    "    training_data = source_data.sample(n = 350, replace = False, random_state = 1)\n",
    "    test_data = source_data.drop(training_data.index)\n",
    "    return training_data, test_data"
   ]
  },
  {
   "cell_type": "code",
   "execution_count": 5,
   "metadata": {},
   "outputs": [],
   "source": [
    "def transformToTrainingFormat(training_data):\n",
    "    res = []\n",
    "\n",
    "    for index, row in training_data.iterrows():\n",
    "        search_term = row.Search_Term\n",
    "        content = row.Target_Sentence\n",
    "        score = row.Sentiment\n",
    "        if (len(content) > 750):\n",
    "            continue\n",
    "        res.append(content)\n",
    "        res.append(search_term)\n",
    "        res.append(score)\n",
    "\n",
    "    return res"
   ]
  },
  {
   "cell_type": "code",
   "execution_count": 6,
   "metadata": {},
   "outputs": [],
   "source": [
    "\n",
    "# training_data, test_data = trainTestSplit(result)\n",
    "res = transformToTrainingFormat(result)\n"
   ]
  },
  {
   "cell_type": "code",
   "execution_count": 7,
   "metadata": {},
   "outputs": [],
   "source": [
    "target_data = pd.DataFrame(res)\n",
    "target_data.to_csv(\"reddit_training_data.csv\", header = False, index = False)\n"
   ]
  },
  {
   "cell_type": "code",
   "execution_count": null,
   "metadata": {},
   "outputs": [],
   "source": []
  }
 ],
 "metadata": {
  "kernelspec": {
   "display_name": "Python 3 (ipykernel)",
   "language": "python",
   "name": "python3"
  },
  "language_info": {
   "codemirror_mode": {
    "name": "ipython",
    "version": 3
   },
   "file_extension": ".py",
   "mimetype": "text/x-python",
   "name": "python",
   "nbconvert_exporter": "python",
   "pygments_lexer": "ipython3",
   "version": "3.9.13"
  }
 },
 "nbformat": 4,
 "nbformat_minor": 4
}

{
 "cells": [
  {
   "cell_type": "code",
   "execution_count": 2,
   "metadata": {},
   "outputs": [],
   "source": [
    "import pandas as pd\n",
    "import numpy as np\n",
    "import re\n",
    "import time\n",
    "import swifter\n",
    "source_data = pd.read_csv(\"hardware_zone_raw_data_with_detail_multithread.csv\")"
   ]
  },
  {
   "cell_type": "code",
   "execution_count": 3,
   "metadata": {},
   "outputs": [
    {
     "name": "stdout",
     "output_type": "stream",
     "text": [
      "(854, 12)\n",
      "(803, 12)\n"
     ]
    }
   ],
   "source": [
    "print(source_data.shape)\n",
    "source_data['Timestamp'] = pd.to_datetime(source_data['Timestamp'])\n",
    "source_data = source_data[(source_data['Timestamp'] > '2017-01-01 00:00:00')]\n",
    "source_data['Search_Term'] = source_data['Search_Term'].astype(str)\n",
    "source_data['Content'] =  source_data['Content'].astype(str)\n",
    "print(source_data.shape)\n"
   ]
  },
  {
   "cell_type": "code",
   "execution_count": 4,
   "metadata": {},
   "outputs": [
    {
     "name": "stdout",
     "output_type": "stream",
     "text": [
      "Start cleaning at Thu Mar 30 00:25:32 2023\n"
     ]
    },
    {
     "data": {
      "application/vnd.jupyter.widget-view+json": {
       "model_id": "a6cc80a04095442b9b3ec33b4ba5150e",
       "version_major": 2,
       "version_minor": 0
      },
      "text/plain": [
       "Pandas Apply:   0%|          | 0/803 [00:00<?, ?it/s]"
      ]
     },
     "metadata": {},
     "output_type": "display_data"
    }
   ],
   "source": [
    "quote_string = \"Click to expand...\"\n",
    "def content_cleaning(row):\n",
    "    final_string = \"\"\n",
    "    quote_index = str(row.Content).find(quote_string)\n",
    "    if quote_index > 0:\n",
    "        final_string = row.Content[quote_index + len(quote_string):]\n",
    "    else:\n",
    "        final_string = row.Content\n",
    "    \n",
    "    #Weird thing have to do this to convert to unicode then removed by ascii\n",
    "    pattern = r\"\\\\u.{4}\"\n",
    "    mod_string = re.sub(pattern, ' ', final_string)\n",
    "\n",
    "    #encode() method\n",
    "    strencode = str(mod_string).encode(\"ascii\", \"ignore\")\n",
    "    #decode() method\n",
    "    strdecode = strencode.decode()\n",
    "\n",
    "    return strdecode\n",
    "print(\"Start cleaning at \" + time.ctime())\n",
    "source_data.loc[:,\"Content\"] = source_data.swifter.apply(content_cleaning, axis=1)"
   ]
  },
  {
   "cell_type": "code",
   "execution_count": 5,
   "metadata": {},
   "outputs": [
    {
     "name": "stdout",
     "output_type": "stream",
     "text": [
      "Start Case Fold at Thu Mar 30 00:25:33 2023\n",
      "End Case Fold at Thu Mar 30 00:25:33 2023\n",
      "(803, 12)\n"
     ]
    }
   ],
   "source": [
    "\n",
    "print(\"Start Case Fold at \" + time.ctime())\n",
    "source_data.loc[:,\"Search_Term\"] = source_data[\"Search_Term\"].str.lower()\n",
    "source_data.loc[:,\"Content\"] = source_data[\"Content\"].str.lower()\n",
    "\n",
    "print(\"End Case Fold at \" + time.ctime())\n",
    "print(source_data.shape)"
   ]
  },
  {
   "cell_type": "code",
   "execution_count": 6,
   "metadata": {},
   "outputs": [],
   "source": [
    "# Find exact match no split\n",
    "\n",
    "def find_exact_match_no_split(row):\n",
    "    search_token = row.Search_Term\n",
    "    matched = True\n",
    "    search_token = r'\\b' + re.escape(search_token) + r'\\b'\n",
    "    found = re.search(search_token, row.Content)\n",
    "    if not found:\n",
    "        matched = False\n",
    "            \n",
    "    return matched\n",
    "\n"
   ]
  },
  {
   "cell_type": "code",
   "execution_count": 7,
   "metadata": {},
   "outputs": [
    {
     "name": "stdout",
     "output_type": "stream",
     "text": [
      "Finding Matching Word Start at Thu Mar 30 00:25:35 2023\n"
     ]
    },
    {
     "data": {
      "application/vnd.jupyter.widget-view+json": {
       "model_id": "579062e1d82440348174497eacd92056",
       "version_major": 2,
       "version_minor": 0
      },
      "text/plain": [
       "Pandas Apply:   0%|          | 0/803 [00:00<?, ?it/s]"
      ]
     },
     "metadata": {},
     "output_type": "display_data"
    },
    {
     "name": "stdout",
     "output_type": "stream",
     "text": [
      "Finding Matching Word End at Thu Mar 30 00:25:35 2023\n"
     ]
    }
   ],
   "source": [
    "print(\"Finding Matching Word Start at \" + time.ctime())\n",
    "\n",
    "source_data.loc[:,\"Matching_Word\"] = source_data.swifter.apply(find_exact_match_no_split, axis=1)\n",
    "print(\"Finding Matching Word End at \" + time.ctime())"
   ]
  },
  {
   "cell_type": "code",
   "execution_count": 8,
   "metadata": {},
   "outputs": [
    {
     "data": {
      "text/html": [
       "<div>\n",
       "<style scoped>\n",
       "    .dataframe tbody tr th:only-of-type {\n",
       "        vertical-align: middle;\n",
       "    }\n",
       "\n",
       "    .dataframe tbody tr th {\n",
       "        vertical-align: top;\n",
       "    }\n",
       "\n",
       "    .dataframe thead th {\n",
       "        text-align: right;\n",
       "    }\n",
       "</style>\n",
       "<table border=\"1\" class=\"dataframe\">\n",
       "  <thead>\n",
       "    <tr style=\"text-align: right;\">\n",
       "      <th></th>\n",
       "      <th>Unnamed: 0</th>\n",
       "      <th>User_id</th>\n",
       "      <th>Type</th>\n",
       "      <th>Content_id</th>\n",
       "      <th>Url</th>\n",
       "      <th>Reply_to_content_id</th>\n",
       "      <th>Thread_id</th>\n",
       "      <th>Subforum</th>\n",
       "      <th>Title</th>\n",
       "      <th>Content</th>\n",
       "      <th>Timestamp</th>\n",
       "      <th>Search_Term</th>\n",
       "      <th>Matching_Word</th>\n",
       "    </tr>\n",
       "  </thead>\n",
       "  <tbody>\n",
       "    <tr>\n",
       "      <th>8</th>\n",
       "      <td>8</td>\n",
       "      <td>827388</td>\n",
       "      <td>Post</td>\n",
       "      <td>['145950620']</td>\n",
       "      <td>https://forums.hardwarezone.com.sg/threads/tax...</td>\n",
       "      <td>NaN</td>\n",
       "      <td>6865220.0</td>\n",
       "      <td>Eat-Drink-Man-Woman</td>\n",
       "      <td>Tax Generational Wealth Gao Gao to reduce ineq...</td>\n",
       "      <td>see many people in singapore with rich parents...</td>\n",
       "      <td>2023-01-24 14:14:11</td>\n",
       "      <td>wealth tax</td>\n",
       "      <td>True</td>\n",
       "    </tr>\n",
       "    <tr>\n",
       "      <th>16</th>\n",
       "      <td>16</td>\n",
       "      <td>811324</td>\n",
       "      <td>Post</td>\n",
       "      <td>['146644051']</td>\n",
       "      <td>https://forums.hardwarezone.com.sg/threads/cpf...</td>\n",
       "      <td>NaN</td>\n",
       "      <td>NaN</td>\n",
       "      <td>Eat-Drink-Man-Woman</td>\n",
       "      <td>NaN</td>\n",
       "      <td>if got choice, will you put salary in cpf or b...</td>\n",
       "      <td>2023-03-11 16:23:57</td>\n",
       "      <td>cpf</td>\n",
       "      <td>True</td>\n",
       "    </tr>\n",
       "    <tr>\n",
       "      <th>34</th>\n",
       "      <td>34</td>\n",
       "      <td>757328</td>\n",
       "      <td>Post</td>\n",
       "      <td>['146509937']</td>\n",
       "      <td>https://forums.hardwarezone.com.sg/threads/her...</td>\n",
       "      <td>NaN</td>\n",
       "      <td>6878244.0</td>\n",
       "      <td>Eat-Drink-Man-Woman</td>\n",
       "      <td>Here are my reasons to be grateful for PAP</td>\n",
       "      <td>1) signing many good ftas like ceca which in t...</td>\n",
       "      <td>2023-03-02 12:13:33</td>\n",
       "      <td>meritocracy</td>\n",
       "      <td>True</td>\n",
       "    </tr>\n",
       "    <tr>\n",
       "      <th>60</th>\n",
       "      <td>60</td>\n",
       "      <td>208051</td>\n",
       "      <td>Post</td>\n",
       "      <td>['146816277']</td>\n",
       "      <td>https://forums.hardwarezone.com.sg/threads/acc...</td>\n",
       "      <td>NaN</td>\n",
       "      <td>6885498.0</td>\n",
       "      <td>Eat-Drink-Man-Woman</td>\n",
       "      <td>According to MOM, the median gross monthly inc...</td>\n",
       "      <td>age (years) median gross monthly income from w...</td>\n",
       "      <td>2023-03-23 19:35:59</td>\n",
       "      <td>cpf</td>\n",
       "      <td>True</td>\n",
       "    </tr>\n",
       "    <tr>\n",
       "      <th>64</th>\n",
       "      <td>64</td>\n",
       "      <td>663307</td>\n",
       "      <td>Post</td>\n",
       "      <td>['146398419']</td>\n",
       "      <td>https://forums.hardwarezone.com.sg/threads/any...</td>\n",
       "      <td>NaN</td>\n",
       "      <td>6875619.0</td>\n",
       "      <td>Eat-Drink-Man-Woman</td>\n",
       "      <td>Any hope for a divorced PR to live a quiet lif...</td>\n",
       "      <td>need some advice please. i'm a pr and recently...</td>\n",
       "      <td>2023-02-22 19:09:04</td>\n",
       "      <td>low income</td>\n",
       "      <td>True</td>\n",
       "    </tr>\n",
       "  </tbody>\n",
       "</table>\n",
       "</div>"
      ],
      "text/plain": [
       "    Unnamed: 0  User_id  Type     Content_id  \\\n",
       "8            8   827388  Post  ['145950620']   \n",
       "16          16   811324  Post  ['146644051']   \n",
       "34          34   757328  Post  ['146509937']   \n",
       "60          60   208051  Post  ['146816277']   \n",
       "64          64   663307  Post  ['146398419']   \n",
       "\n",
       "                                                  Url  Reply_to_content_id  \\\n",
       "8   https://forums.hardwarezone.com.sg/threads/tax...                  NaN   \n",
       "16  https://forums.hardwarezone.com.sg/threads/cpf...                  NaN   \n",
       "34  https://forums.hardwarezone.com.sg/threads/her...                  NaN   \n",
       "60  https://forums.hardwarezone.com.sg/threads/acc...                  NaN   \n",
       "64  https://forums.hardwarezone.com.sg/threads/any...                  NaN   \n",
       "\n",
       "    Thread_id             Subforum  \\\n",
       "8   6865220.0  Eat-Drink-Man-Woman   \n",
       "16        NaN  Eat-Drink-Man-Woman   \n",
       "34  6878244.0  Eat-Drink-Man-Woman   \n",
       "60  6885498.0  Eat-Drink-Man-Woman   \n",
       "64  6875619.0  Eat-Drink-Man-Woman   \n",
       "\n",
       "                                                Title  \\\n",
       "8   Tax Generational Wealth Gao Gao to reduce ineq...   \n",
       "16                                                NaN   \n",
       "34         Here are my reasons to be grateful for PAP   \n",
       "60  According to MOM, the median gross monthly inc...   \n",
       "64  Any hope for a divorced PR to live a quiet lif...   \n",
       "\n",
       "                                              Content           Timestamp  \\\n",
       "8   see many people in singapore with rich parents... 2023-01-24 14:14:11   \n",
       "16  if got choice, will you put salary in cpf or b... 2023-03-11 16:23:57   \n",
       "34  1) signing many good ftas like ceca which in t... 2023-03-02 12:13:33   \n",
       "60  age (years) median gross monthly income from w... 2023-03-23 19:35:59   \n",
       "64  need some advice please. i'm a pr and recently... 2023-02-22 19:09:04   \n",
       "\n",
       "    Search_Term  Matching_Word  \n",
       "8    wealth tax           True  \n",
       "16          cpf           True  \n",
       "34  meritocracy           True  \n",
       "60          cpf           True  \n",
       "64   low income           True  "
      ]
     },
     "execution_count": 8,
     "metadata": {},
     "output_type": "execute_result"
    }
   ],
   "source": [
    "source_data = source_data[source_data['Matching_Word'] == True]\n",
    "source_data.head()\n"
   ]
  },
  {
   "cell_type": "code",
   "execution_count": 11,
   "metadata": {},
   "outputs": [
    {
     "name": "stdout",
     "output_type": "stream",
     "text": [
      "(70, 13)\n"
     ]
    }
   ],
   "source": [
    "print(source_data.shape)\n"
   ]
  },
  {
   "cell_type": "code",
   "execution_count": 12,
   "metadata": {},
   "outputs": [],
   "source": [
    "keywords = ['middle income', 'high income', 'low income', 'income inequality', 'disposable income', 'household annual income',\n",
    "            'wealth tax', 'unemployment insurance', 'meritocracy', 'occupation mobility', 'elite education', 'education subsidies', 'Mendaki',\n",
    "            'CDAC', 'less educated', 'health insurance', 'medical expenses', 'medical resources', 'upper class', 'lower class',\n",
    "           'middle class', 'central provident fund', 'CPF']\n",
    "\n",
    "keywords = set([x.lower() for x in keywords])\n"
   ]
  },
  {
   "cell_type": "code",
   "execution_count": 13,
   "metadata": {},
   "outputs": [
    {
     "name": "stdout",
     "output_type": "stream",
     "text": [
      "{'meritocracy', 'occupation mobility', 'middle class', 'medical expenses', 'elite education', 'income inequality', 'wealth tax', 'lower class', 'education subsidies', 'less educated', 'central provident fund', 'cdac', 'mendaki', 'medical resources', 'low income', 'upper class', 'high income', 'health insurance', 'middle income', 'unemployment insurance', 'disposable income', 'cpf', 'household annual income'}\n"
     ]
    }
   ],
   "source": [
    "print(keywords)\n",
    "\n",
    "def hasOtherSentiment(row, keyword):\n",
    "    if row.Search_Term != keyword and keyword in row.Content:\n",
    "        return True\n",
    "    else:\n",
    "        return False\n",
    "\n",
    "\n",
    "\n",
    "\n",
    "\n"
   ]
  },
  {
   "cell_type": "code",
   "execution_count": 14,
   "metadata": {},
   "outputs": [
    {
     "data": {
      "application/vnd.jupyter.widget-view+json": {
       "model_id": "46e9a43489bf4b2f9ac14ed3c86645de",
       "version_major": 2,
       "version_minor": 0
      },
      "text/plain": [
       "Pandas Apply:   0%|          | 0/70 [00:00<?, ?it/s]"
      ]
     },
     "metadata": {},
     "output_type": "display_data"
    },
    {
     "name": "stdout",
     "output_type": "stream",
     "text": [
      "No additional search term meritocracy\n"
     ]
    },
    {
     "name": "stderr",
     "output_type": "stream",
     "text": [
      "C:\\Users\\Chuan Wu\\AppData\\Local\\Temp\\ipykernel_23928\\1100374070.py:7: SettingWithCopyWarning: \n",
      "A value is trying to be set on a copy of a slice from a DataFrame.\n",
      "Try using .loc[row_indexer,col_indexer] = value instead\n",
      "\n",
      "See the caveats in the documentation: https://pandas.pydata.org/pandas-docs/stable/user_guide/indexing.html#returning-a-view-versus-a-copy\n",
      "  source_data.loc[:,\"Has_Other_Sentiment\"] = source_data.swifter.apply(hasOtherSentiment, keyword=keyword, axis=1)\n"
     ]
    },
    {
     "data": {
      "application/vnd.jupyter.widget-view+json": {
       "model_id": "856bcd1f928a4eb4973295931e8408a0",
       "version_major": 2,
       "version_minor": 0
      },
      "text/plain": [
       "Pandas Apply:   0%|          | 0/70 [00:00<?, ?it/s]"
      ]
     },
     "metadata": {},
     "output_type": "display_data"
    },
    {
     "name": "stdout",
     "output_type": "stream",
     "text": [
      "No additional search term occupation mobility\n"
     ]
    },
    {
     "name": "stderr",
     "output_type": "stream",
     "text": [
      "C:\\Users\\Chuan Wu\\AppData\\Local\\Temp\\ipykernel_23928\\1100374070.py:7: SettingWithCopyWarning: \n",
      "A value is trying to be set on a copy of a slice from a DataFrame.\n",
      "Try using .loc[row_indexer,col_indexer] = value instead\n",
      "\n",
      "See the caveats in the documentation: https://pandas.pydata.org/pandas-docs/stable/user_guide/indexing.html#returning-a-view-versus-a-copy\n",
      "  source_data.loc[:,\"Has_Other_Sentiment\"] = source_data.swifter.apply(hasOtherSentiment, keyword=keyword, axis=1)\n"
     ]
    },
    {
     "data": {
      "application/vnd.jupyter.widget-view+json": {
       "model_id": "474e2555a5c14f73982c3788d28b4366",
       "version_major": 2,
       "version_minor": 0
      },
      "text/plain": [
       "Pandas Apply:   0%|          | 0/70 [00:00<?, ?it/s]"
      ]
     },
     "metadata": {},
     "output_type": "display_data"
    },
    {
     "name": "stdout",
     "output_type": "stream",
     "text": [
      "No additional search term middle class\n"
     ]
    },
    {
     "name": "stderr",
     "output_type": "stream",
     "text": [
      "C:\\Users\\Chuan Wu\\AppData\\Local\\Temp\\ipykernel_23928\\1100374070.py:7: SettingWithCopyWarning: \n",
      "A value is trying to be set on a copy of a slice from a DataFrame.\n",
      "Try using .loc[row_indexer,col_indexer] = value instead\n",
      "\n",
      "See the caveats in the documentation: https://pandas.pydata.org/pandas-docs/stable/user_guide/indexing.html#returning-a-view-versus-a-copy\n",
      "  source_data.loc[:,\"Has_Other_Sentiment\"] = source_data.swifter.apply(hasOtherSentiment, keyword=keyword, axis=1)\n"
     ]
    },
    {
     "data": {
      "application/vnd.jupyter.widget-view+json": {
       "model_id": "cf45e04426a1458ca58bec8536b55dc6",
       "version_major": 2,
       "version_minor": 0
      },
      "text/plain": [
       "Pandas Apply:   0%|          | 0/70 [00:00<?, ?it/s]"
      ]
     },
     "metadata": {},
     "output_type": "display_data"
    },
    {
     "name": "stderr",
     "output_type": "stream",
     "text": [
      "C:\\Users\\Chuan Wu\\AppData\\Local\\Temp\\ipykernel_23928\\1100374070.py:7: SettingWithCopyWarning: \n",
      "A value is trying to be set on a copy of a slice from a DataFrame.\n",
      "Try using .loc[row_indexer,col_indexer] = value instead\n",
      "\n",
      "See the caveats in the documentation: https://pandas.pydata.org/pandas-docs/stable/user_guide/indexing.html#returning-a-view-versus-a-copy\n",
      "  source_data.loc[:,\"Has_Other_Sentiment\"] = source_data.swifter.apply(hasOtherSentiment, keyword=keyword, axis=1)\n"
     ]
    },
    {
     "name": "stdout",
     "output_type": "stream",
     "text": [
      "No additional search term medical expenses\n"
     ]
    },
    {
     "data": {
      "application/vnd.jupyter.widget-view+json": {
       "model_id": "48d57b94a30f4c9eaaacc3e1e615d393",
       "version_major": 2,
       "version_minor": 0
      },
      "text/plain": [
       "Pandas Apply:   0%|          | 0/70 [00:00<?, ?it/s]"
      ]
     },
     "metadata": {},
     "output_type": "display_data"
    },
    {
     "name": "stdout",
     "output_type": "stream",
     "text": [
      "No additional search term elite education\n"
     ]
    },
    {
     "name": "stderr",
     "output_type": "stream",
     "text": [
      "C:\\Users\\Chuan Wu\\AppData\\Local\\Temp\\ipykernel_23928\\1100374070.py:7: SettingWithCopyWarning: \n",
      "A value is trying to be set on a copy of a slice from a DataFrame.\n",
      "Try using .loc[row_indexer,col_indexer] = value instead\n",
      "\n",
      "See the caveats in the documentation: https://pandas.pydata.org/pandas-docs/stable/user_guide/indexing.html#returning-a-view-versus-a-copy\n",
      "  source_data.loc[:,\"Has_Other_Sentiment\"] = source_data.swifter.apply(hasOtherSentiment, keyword=keyword, axis=1)\n"
     ]
    },
    {
     "data": {
      "application/vnd.jupyter.widget-view+json": {
       "model_id": "6f50202ada09431380cd46213da3d835",
       "version_major": 2,
       "version_minor": 0
      },
      "text/plain": [
       "Pandas Apply:   0%|          | 0/70 [00:00<?, ?it/s]"
      ]
     },
     "metadata": {},
     "output_type": "display_data"
    },
    {
     "name": "stdout",
     "output_type": "stream",
     "text": [
      "No additional search term income inequality\n"
     ]
    },
    {
     "name": "stderr",
     "output_type": "stream",
     "text": [
      "C:\\Users\\Chuan Wu\\AppData\\Local\\Temp\\ipykernel_23928\\1100374070.py:7: SettingWithCopyWarning: \n",
      "A value is trying to be set on a copy of a slice from a DataFrame.\n",
      "Try using .loc[row_indexer,col_indexer] = value instead\n",
      "\n",
      "See the caveats in the documentation: https://pandas.pydata.org/pandas-docs/stable/user_guide/indexing.html#returning-a-view-versus-a-copy\n",
      "  source_data.loc[:,\"Has_Other_Sentiment\"] = source_data.swifter.apply(hasOtherSentiment, keyword=keyword, axis=1)\n"
     ]
    },
    {
     "data": {
      "application/vnd.jupyter.widget-view+json": {
       "model_id": "c9902b911dec480788c2d503a3cb4ece",
       "version_major": 2,
       "version_minor": 0
      },
      "text/plain": [
       "Pandas Apply:   0%|          | 0/70 [00:00<?, ?it/s]"
      ]
     },
     "metadata": {},
     "output_type": "display_data"
    },
    {
     "name": "stderr",
     "output_type": "stream",
     "text": [
      "C:\\Users\\Chuan Wu\\AppData\\Local\\Temp\\ipykernel_23928\\1100374070.py:7: SettingWithCopyWarning: \n",
      "A value is trying to be set on a copy of a slice from a DataFrame.\n",
      "Try using .loc[row_indexer,col_indexer] = value instead\n",
      "\n",
      "See the caveats in the documentation: https://pandas.pydata.org/pandas-docs/stable/user_guide/indexing.html#returning-a-view-versus-a-copy\n",
      "  source_data.loc[:,\"Has_Other_Sentiment\"] = source_data.swifter.apply(hasOtherSentiment, keyword=keyword, axis=1)\n"
     ]
    },
    {
     "name": "stdout",
     "output_type": "stream",
     "text": [
      "No additional search term wealth tax\n"
     ]
    },
    {
     "data": {
      "application/vnd.jupyter.widget-view+json": {
       "model_id": "40166c9cf4ac40daba6128569afc02fe",
       "version_major": 2,
       "version_minor": 0
      },
      "text/plain": [
       "Pandas Apply:   0%|          | 0/70 [00:00<?, ?it/s]"
      ]
     },
     "metadata": {},
     "output_type": "display_data"
    },
    {
     "name": "stdout",
     "output_type": "stream",
     "text": [
      "No additional search term lower class\n"
     ]
    },
    {
     "name": "stderr",
     "output_type": "stream",
     "text": [
      "C:\\Users\\Chuan Wu\\AppData\\Local\\Temp\\ipykernel_23928\\1100374070.py:7: SettingWithCopyWarning: \n",
      "A value is trying to be set on a copy of a slice from a DataFrame.\n",
      "Try using .loc[row_indexer,col_indexer] = value instead\n",
      "\n",
      "See the caveats in the documentation: https://pandas.pydata.org/pandas-docs/stable/user_guide/indexing.html#returning-a-view-versus-a-copy\n",
      "  source_data.loc[:,\"Has_Other_Sentiment\"] = source_data.swifter.apply(hasOtherSentiment, keyword=keyword, axis=1)\n"
     ]
    },
    {
     "data": {
      "application/vnd.jupyter.widget-view+json": {
       "model_id": "57a871895ca84a008743f0b683bdcc39",
       "version_major": 2,
       "version_minor": 0
      },
      "text/plain": [
       "Pandas Apply:   0%|          | 0/70 [00:00<?, ?it/s]"
      ]
     },
     "metadata": {},
     "output_type": "display_data"
    },
    {
     "name": "stderr",
     "output_type": "stream",
     "text": [
      "C:\\Users\\Chuan Wu\\AppData\\Local\\Temp\\ipykernel_23928\\1100374070.py:7: SettingWithCopyWarning: \n",
      "A value is trying to be set on a copy of a slice from a DataFrame.\n",
      "Try using .loc[row_indexer,col_indexer] = value instead\n",
      "\n",
      "See the caveats in the documentation: https://pandas.pydata.org/pandas-docs/stable/user_guide/indexing.html#returning-a-view-versus-a-copy\n",
      "  source_data.loc[:,\"Has_Other_Sentiment\"] = source_data.swifter.apply(hasOtherSentiment, keyword=keyword, axis=1)\n"
     ]
    },
    {
     "name": "stdout",
     "output_type": "stream",
     "text": [
      "No additional search term education subsidies\n"
     ]
    },
    {
     "data": {
      "application/vnd.jupyter.widget-view+json": {
       "model_id": "c56c5d219ba94bbb9feae013a948e511",
       "version_major": 2,
       "version_minor": 0
      },
      "text/plain": [
       "Pandas Apply:   0%|          | 0/70 [00:00<?, ?it/s]"
      ]
     },
     "metadata": {},
     "output_type": "display_data"
    },
    {
     "name": "stdout",
     "output_type": "stream",
     "text": [
      "No additional search term less educated\n"
     ]
    },
    {
     "data": {
      "application/vnd.jupyter.widget-view+json": {
       "model_id": "0cd96b2f85f7458190f7b147a0ab4131",
       "version_major": 2,
       "version_minor": 0
      },
      "text/plain": [
       "Pandas Apply:   0%|          | 0/70 [00:00<?, ?it/s]"
      ]
     },
     "metadata": {},
     "output_type": "display_data"
    },
    {
     "name": "stderr",
     "output_type": "stream",
     "text": [
      "C:\\Users\\Chuan Wu\\AppData\\Local\\Temp\\ipykernel_23928\\1100374070.py:10: SettingWithCopyWarning: \n",
      "A value is trying to be set on a copy of a slice from a DataFrame.\n",
      "Try using .loc[row_indexer,col_indexer] = value instead\n",
      "\n",
      "See the caveats in the documentation: https://pandas.pydata.org/pandas-docs/stable/user_guide/indexing.html#returning-a-view-versus-a-copy\n",
      "  other_df.loc[:,\"Search_Term\"] = keyword\n"
     ]
    },
    {
     "name": "stdout",
     "output_type": "stream",
     "text": [
      "Found additional search term central provident fund\n"
     ]
    },
    {
     "data": {
      "application/vnd.jupyter.widget-view+json": {
       "model_id": "482b918c90be437f82acabb079c65bcc",
       "version_major": 2,
       "version_minor": 0
      },
      "text/plain": [
       "Pandas Apply:   0%|          | 0/70 [00:00<?, ?it/s]"
      ]
     },
     "metadata": {},
     "output_type": "display_data"
    },
    {
     "name": "stdout",
     "output_type": "stream",
     "text": [
      "No additional search term cdac\n"
     ]
    },
    {
     "data": {
      "application/vnd.jupyter.widget-view+json": {
       "model_id": "0c8cd2c1e6024b289543b761a7ef4d81",
       "version_major": 2,
       "version_minor": 0
      },
      "text/plain": [
       "Pandas Apply:   0%|          | 0/70 [00:00<?, ?it/s]"
      ]
     },
     "metadata": {},
     "output_type": "display_data"
    },
    {
     "name": "stdout",
     "output_type": "stream",
     "text": [
      "No additional search term mendaki\n"
     ]
    },
    {
     "data": {
      "application/vnd.jupyter.widget-view+json": {
       "model_id": "7fb33d579b444f2ca9f459effb6739eb",
       "version_major": 2,
       "version_minor": 0
      },
      "text/plain": [
       "Pandas Apply:   0%|          | 0/70 [00:00<?, ?it/s]"
      ]
     },
     "metadata": {},
     "output_type": "display_data"
    },
    {
     "name": "stdout",
     "output_type": "stream",
     "text": [
      "No additional search term medical resources\n"
     ]
    },
    {
     "data": {
      "application/vnd.jupyter.widget-view+json": {
       "model_id": "a36890ecc873481bb649e1aa01b9cc68",
       "version_major": 2,
       "version_minor": 0
      },
      "text/plain": [
       "Pandas Apply:   0%|          | 0/70 [00:00<?, ?it/s]"
      ]
     },
     "metadata": {},
     "output_type": "display_data"
    },
    {
     "name": "stdout",
     "output_type": "stream",
     "text": [
      "Found additional search term low income\n"
     ]
    },
    {
     "name": "stderr",
     "output_type": "stream",
     "text": [
      "C:\\Users\\Chuan Wu\\AppData\\Local\\Temp\\ipykernel_23928\\1100374070.py:10: SettingWithCopyWarning: \n",
      "A value is trying to be set on a copy of a slice from a DataFrame.\n",
      "Try using .loc[row_indexer,col_indexer] = value instead\n",
      "\n",
      "See the caveats in the documentation: https://pandas.pydata.org/pandas-docs/stable/user_guide/indexing.html#returning-a-view-versus-a-copy\n",
      "  other_df.loc[:,\"Search_Term\"] = keyword\n"
     ]
    },
    {
     "data": {
      "application/vnd.jupyter.widget-view+json": {
       "model_id": "d32a5ea11aec414bb26f559de65001f3",
       "version_major": 2,
       "version_minor": 0
      },
      "text/plain": [
       "Pandas Apply:   0%|          | 0/70 [00:00<?, ?it/s]"
      ]
     },
     "metadata": {},
     "output_type": "display_data"
    },
    {
     "name": "stdout",
     "output_type": "stream",
     "text": [
      "No additional search term upper class\n"
     ]
    },
    {
     "data": {
      "application/vnd.jupyter.widget-view+json": {
       "model_id": "9c76382f4d90481dbe59b7c68fcdd6a5",
       "version_major": 2,
       "version_minor": 0
      },
      "text/plain": [
       "Pandas Apply:   0%|          | 0/70 [00:00<?, ?it/s]"
      ]
     },
     "metadata": {},
     "output_type": "display_data"
    },
    {
     "name": "stdout",
     "output_type": "stream",
     "text": [
      "Found additional search term high income\n"
     ]
    },
    {
     "name": "stderr",
     "output_type": "stream",
     "text": [
      "C:\\Users\\Chuan Wu\\AppData\\Local\\Temp\\ipykernel_23928\\1100374070.py:10: SettingWithCopyWarning: \n",
      "A value is trying to be set on a copy of a slice from a DataFrame.\n",
      "Try using .loc[row_indexer,col_indexer] = value instead\n",
      "\n",
      "See the caveats in the documentation: https://pandas.pydata.org/pandas-docs/stable/user_guide/indexing.html#returning-a-view-versus-a-copy\n",
      "  other_df.loc[:,\"Search_Term\"] = keyword\n"
     ]
    },
    {
     "data": {
      "application/vnd.jupyter.widget-view+json": {
       "model_id": "aa139355e8c94653adbd42e82879f2b1",
       "version_major": 2,
       "version_minor": 0
      },
      "text/plain": [
       "Pandas Apply:   0%|          | 0/70 [00:00<?, ?it/s]"
      ]
     },
     "metadata": {},
     "output_type": "display_data"
    },
    {
     "name": "stdout",
     "output_type": "stream",
     "text": [
      "No additional search term health insurance\n"
     ]
    },
    {
     "data": {
      "application/vnd.jupyter.widget-view+json": {
       "model_id": "6fa8bdf6253c49809dba98ac5888f94e",
       "version_major": 2,
       "version_minor": 0
      },
      "text/plain": [
       "Pandas Apply:   0%|          | 0/70 [00:00<?, ?it/s]"
      ]
     },
     "metadata": {},
     "output_type": "display_data"
    },
    {
     "name": "stdout",
     "output_type": "stream",
     "text": [
      "Found additional search term middle income\n"
     ]
    },
    {
     "name": "stderr",
     "output_type": "stream",
     "text": [
      "C:\\Users\\Chuan Wu\\AppData\\Local\\Temp\\ipykernel_23928\\1100374070.py:10: SettingWithCopyWarning: \n",
      "A value is trying to be set on a copy of a slice from a DataFrame.\n",
      "Try using .loc[row_indexer,col_indexer] = value instead\n",
      "\n",
      "See the caveats in the documentation: https://pandas.pydata.org/pandas-docs/stable/user_guide/indexing.html#returning-a-view-versus-a-copy\n",
      "  other_df.loc[:,\"Search_Term\"] = keyword\n"
     ]
    },
    {
     "data": {
      "application/vnd.jupyter.widget-view+json": {
       "model_id": "7466407b71b6435c9511ab58c6c55e63",
       "version_major": 2,
       "version_minor": 0
      },
      "text/plain": [
       "Pandas Apply:   0%|          | 0/70 [00:00<?, ?it/s]"
      ]
     },
     "metadata": {},
     "output_type": "display_data"
    },
    {
     "name": "stdout",
     "output_type": "stream",
     "text": [
      "No additional search term unemployment insurance\n"
     ]
    },
    {
     "data": {
      "application/vnd.jupyter.widget-view+json": {
       "model_id": "1f11861900c040f096a4009c90c7de38",
       "version_major": 2,
       "version_minor": 0
      },
      "text/plain": [
       "Pandas Apply:   0%|          | 0/70 [00:00<?, ?it/s]"
      ]
     },
     "metadata": {},
     "output_type": "display_data"
    },
    {
     "name": "stdout",
     "output_type": "stream",
     "text": [
      "No additional search term disposable income\n"
     ]
    },
    {
     "data": {
      "application/vnd.jupyter.widget-view+json": {
       "model_id": "e63abff628a74ef4be7ebd76e66c14ca",
       "version_major": 2,
       "version_minor": 0
      },
      "text/plain": [
       "Pandas Apply:   0%|          | 0/70 [00:00<?, ?it/s]"
      ]
     },
     "metadata": {},
     "output_type": "display_data"
    },
    {
     "name": "stdout",
     "output_type": "stream",
     "text": [
      "Found additional search term cpf\n"
     ]
    },
    {
     "name": "stderr",
     "output_type": "stream",
     "text": [
      "C:\\Users\\Chuan Wu\\AppData\\Local\\Temp\\ipykernel_23928\\1100374070.py:10: SettingWithCopyWarning: \n",
      "A value is trying to be set on a copy of a slice from a DataFrame.\n",
      "Try using .loc[row_indexer,col_indexer] = value instead\n",
      "\n",
      "See the caveats in the documentation: https://pandas.pydata.org/pandas-docs/stable/user_guide/indexing.html#returning-a-view-versus-a-copy\n",
      "  other_df.loc[:,\"Search_Term\"] = keyword\n"
     ]
    },
    {
     "data": {
      "application/vnd.jupyter.widget-view+json": {
       "model_id": "e6a12d622c3a4e0199b79bb915e4243e",
       "version_major": 2,
       "version_minor": 0
      },
      "text/plain": [
       "Pandas Apply:   0%|          | 0/70 [00:00<?, ?it/s]"
      ]
     },
     "metadata": {},
     "output_type": "display_data"
    },
    {
     "name": "stdout",
     "output_type": "stream",
     "text": [
      "No additional search term household annual income\n"
     ]
    }
   ],
   "source": [
    "frames = []\n",
    "frames.append(source_data)\n",
    "backup = source_data\n",
    "\n",
    "for keyword in keywords:\n",
    "    source_date = backup\n",
    "    source_data.loc[:,\"Has_Other_Sentiment\"] = source_data.swifter.apply(hasOtherSentiment, keyword=keyword, axis=1)\n",
    "    other_df = source_data[source_data['Has_Other_Sentiment'] == True]\n",
    "    if not other_df.empty:\n",
    "        other_df.loc[:,\"Search_Term\"] = keyword\n",
    "        other_df.head()\n",
    "        frames.append(other_df)\n",
    "        print(\"Found additional search term \" + keyword)\n",
    "    else:\n",
    "        print(\"No additional search term \" + keyword)\n"
   ]
  },
  {
   "cell_type": "code",
   "execution_count": 15,
   "metadata": {},
   "outputs": [
    {
     "name": "stdout",
     "output_type": "stream",
     "text": [
      "(91, 14)\n"
     ]
    },
    {
     "data": {
      "text/html": [
       "<div>\n",
       "<style scoped>\n",
       "    .dataframe tbody tr th:only-of-type {\n",
       "        vertical-align: middle;\n",
       "    }\n",
       "\n",
       "    .dataframe tbody tr th {\n",
       "        vertical-align: top;\n",
       "    }\n",
       "\n",
       "    .dataframe thead th {\n",
       "        text-align: right;\n",
       "    }\n",
       "</style>\n",
       "<table border=\"1\" class=\"dataframe\">\n",
       "  <thead>\n",
       "    <tr style=\"text-align: right;\">\n",
       "      <th></th>\n",
       "      <th>Unnamed: 0</th>\n",
       "      <th>User_id</th>\n",
       "      <th>Type</th>\n",
       "      <th>Content_id</th>\n",
       "      <th>Url</th>\n",
       "      <th>Reply_to_content_id</th>\n",
       "      <th>Thread_id</th>\n",
       "      <th>Subforum</th>\n",
       "      <th>Title</th>\n",
       "      <th>Content</th>\n",
       "      <th>Timestamp</th>\n",
       "      <th>Search_Term</th>\n",
       "      <th>Matching_Word</th>\n",
       "      <th>Has_Other_Sentiment</th>\n",
       "    </tr>\n",
       "  </thead>\n",
       "  <tbody>\n",
       "    <tr>\n",
       "      <th>8</th>\n",
       "      <td>8</td>\n",
       "      <td>827388</td>\n",
       "      <td>Post</td>\n",
       "      <td>['145950620']</td>\n",
       "      <td>https://forums.hardwarezone.com.sg/threads/tax...</td>\n",
       "      <td>NaN</td>\n",
       "      <td>6865220.0</td>\n",
       "      <td>Eat-Drink-Man-Woman</td>\n",
       "      <td>Tax Generational Wealth Gao Gao to reduce ineq...</td>\n",
       "      <td>see many people in singapore with rich parents...</td>\n",
       "      <td>2023-01-24 14:14:11</td>\n",
       "      <td>wealth tax</td>\n",
       "      <td>True</td>\n",
       "      <td>False</td>\n",
       "    </tr>\n",
       "    <tr>\n",
       "      <th>16</th>\n",
       "      <td>16</td>\n",
       "      <td>811324</td>\n",
       "      <td>Post</td>\n",
       "      <td>['146644051']</td>\n",
       "      <td>https://forums.hardwarezone.com.sg/threads/cpf...</td>\n",
       "      <td>NaN</td>\n",
       "      <td>NaN</td>\n",
       "      <td>Eat-Drink-Man-Woman</td>\n",
       "      <td>NaN</td>\n",
       "      <td>if got choice, will you put salary in cpf or b...</td>\n",
       "      <td>2023-03-11 16:23:57</td>\n",
       "      <td>cpf</td>\n",
       "      <td>True</td>\n",
       "      <td>False</td>\n",
       "    </tr>\n",
       "    <tr>\n",
       "      <th>34</th>\n",
       "      <td>34</td>\n",
       "      <td>757328</td>\n",
       "      <td>Post</td>\n",
       "      <td>['146509937']</td>\n",
       "      <td>https://forums.hardwarezone.com.sg/threads/her...</td>\n",
       "      <td>NaN</td>\n",
       "      <td>6878244.0</td>\n",
       "      <td>Eat-Drink-Man-Woman</td>\n",
       "      <td>Here are my reasons to be grateful for PAP</td>\n",
       "      <td>1) signing many good ftas like ceca which in t...</td>\n",
       "      <td>2023-03-02 12:13:33</td>\n",
       "      <td>meritocracy</td>\n",
       "      <td>True</td>\n",
       "      <td>False</td>\n",
       "    </tr>\n",
       "    <tr>\n",
       "      <th>60</th>\n",
       "      <td>60</td>\n",
       "      <td>208051</td>\n",
       "      <td>Post</td>\n",
       "      <td>['146816277']</td>\n",
       "      <td>https://forums.hardwarezone.com.sg/threads/acc...</td>\n",
       "      <td>NaN</td>\n",
       "      <td>6885498.0</td>\n",
       "      <td>Eat-Drink-Man-Woman</td>\n",
       "      <td>According to MOM, the median gross monthly inc...</td>\n",
       "      <td>age (years) median gross monthly income from w...</td>\n",
       "      <td>2023-03-23 19:35:59</td>\n",
       "      <td>cpf</td>\n",
       "      <td>True</td>\n",
       "      <td>False</td>\n",
       "    </tr>\n",
       "    <tr>\n",
       "      <th>64</th>\n",
       "      <td>64</td>\n",
       "      <td>663307</td>\n",
       "      <td>Post</td>\n",
       "      <td>['146398419']</td>\n",
       "      <td>https://forums.hardwarezone.com.sg/threads/any...</td>\n",
       "      <td>NaN</td>\n",
       "      <td>6875619.0</td>\n",
       "      <td>Eat-Drink-Man-Woman</td>\n",
       "      <td>Any hope for a divorced PR to live a quiet lif...</td>\n",
       "      <td>need some advice please. i'm a pr and recently...</td>\n",
       "      <td>2023-02-22 19:09:04</td>\n",
       "      <td>low income</td>\n",
       "      <td>True</td>\n",
       "      <td>False</td>\n",
       "    </tr>\n",
       "  </tbody>\n",
       "</table>\n",
       "</div>"
      ],
      "text/plain": [
       "    Unnamed: 0  User_id  Type     Content_id  \\\n",
       "8            8   827388  Post  ['145950620']   \n",
       "16          16   811324  Post  ['146644051']   \n",
       "34          34   757328  Post  ['146509937']   \n",
       "60          60   208051  Post  ['146816277']   \n",
       "64          64   663307  Post  ['146398419']   \n",
       "\n",
       "                                                  Url  Reply_to_content_id  \\\n",
       "8   https://forums.hardwarezone.com.sg/threads/tax...                  NaN   \n",
       "16  https://forums.hardwarezone.com.sg/threads/cpf...                  NaN   \n",
       "34  https://forums.hardwarezone.com.sg/threads/her...                  NaN   \n",
       "60  https://forums.hardwarezone.com.sg/threads/acc...                  NaN   \n",
       "64  https://forums.hardwarezone.com.sg/threads/any...                  NaN   \n",
       "\n",
       "    Thread_id             Subforum  \\\n",
       "8   6865220.0  Eat-Drink-Man-Woman   \n",
       "16        NaN  Eat-Drink-Man-Woman   \n",
       "34  6878244.0  Eat-Drink-Man-Woman   \n",
       "60  6885498.0  Eat-Drink-Man-Woman   \n",
       "64  6875619.0  Eat-Drink-Man-Woman   \n",
       "\n",
       "                                                Title  \\\n",
       "8   Tax Generational Wealth Gao Gao to reduce ineq...   \n",
       "16                                                NaN   \n",
       "34         Here are my reasons to be grateful for PAP   \n",
       "60  According to MOM, the median gross monthly inc...   \n",
       "64  Any hope for a divorced PR to live a quiet lif...   \n",
       "\n",
       "                                              Content           Timestamp  \\\n",
       "8   see many people in singapore with rich parents... 2023-01-24 14:14:11   \n",
       "16  if got choice, will you put salary in cpf or b... 2023-03-11 16:23:57   \n",
       "34  1) signing many good ftas like ceca which in t... 2023-03-02 12:13:33   \n",
       "60  age (years) median gross monthly income from w... 2023-03-23 19:35:59   \n",
       "64  need some advice please. i'm a pr and recently... 2023-02-22 19:09:04   \n",
       "\n",
       "    Search_Term  Matching_Word  Has_Other_Sentiment  \n",
       "8    wealth tax           True                False  \n",
       "16          cpf           True                False  \n",
       "34  meritocracy           True                False  \n",
       "60          cpf           True                False  \n",
       "64   low income           True                False  "
      ]
     },
     "execution_count": 15,
     "metadata": {},
     "output_type": "execute_result"
    }
   ],
   "source": [
    "result = pd.concat(frames)\n",
    "print(result.shape)\n",
    "result.head()"
   ]
  },
  {
   "cell_type": "code",
   "execution_count": 16,
   "metadata": {},
   "outputs": [],
   "source": [
    "result.to_csv(\"hardware_zone_clean_data_with_detail.csv\", index=False)"
   ]
  },
  {
   "cell_type": "code",
   "execution_count": null,
   "metadata": {},
   "outputs": [],
   "source": []
  },
  {
   "cell_type": "code",
   "execution_count": null,
   "metadata": {},
   "outputs": [],
   "source": []
  },
  {
   "cell_type": "code",
   "execution_count": null,
   "metadata": {},
   "outputs": [],
   "source": []
  }
 ],
 "metadata": {
  "kernelspec": {
   "display_name": "Python 3 (ipykernel)",
   "language": "python",
   "name": "python3"
  },
  "language_info": {
   "codemirror_mode": {
    "name": "ipython",
    "version": 3
   },
   "file_extension": ".py",
   "mimetype": "text/x-python",
   "name": "python",
   "nbconvert_exporter": "python",
   "pygments_lexer": "ipython3",
   "version": "3.9.13"
  }
 },
 "nbformat": 4,
 "nbformat_minor": 4
}

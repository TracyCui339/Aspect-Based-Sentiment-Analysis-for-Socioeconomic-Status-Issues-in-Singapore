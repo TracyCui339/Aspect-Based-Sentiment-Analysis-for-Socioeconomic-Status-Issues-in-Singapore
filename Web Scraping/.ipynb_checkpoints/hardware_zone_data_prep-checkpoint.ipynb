{
 "cells": [
  {
   "cell_type": "code",
   "execution_count": 1,
   "metadata": {},
   "outputs": [],
   "source": [
    "import pandas as pd\n",
    "import numpy as np\n",
    "source_data = pd.read_csv(\"hardware_zone_processed_data.csv\")\n"
   ]
  },
  {
   "cell_type": "code",
   "execution_count": 2,
   "metadata": {},
   "outputs": [
    {
     "name": "stdout",
     "output_type": "stream",
     "text": [
      "(170, 16)\n",
      "<bound method NDFrame.head of      Unnamed: 0  User_id  Type     Content_id  \\\n",
      "0             8   827388  Post  ['145950620']   \n",
      "1            16   811324  Post  ['146644051']   \n",
      "2            34   757328  Post  ['146509937']   \n",
      "3            60   208051  Post  ['146816277']   \n",
      "4            64   663307  Post  ['146398419']   \n",
      "..          ...      ...   ...            ...   \n",
      "165         677   204542  Post  ['146298050']   \n",
      "166         677   204542  Post  ['146298050']   \n",
      "167         677   204542  Post  ['146298050']   \n",
      "168         677   204542  Post  ['146298050']   \n",
      "169         685   204542  Post  ['146188473']   \n",
      "\n",
      "                                                   Url  Reply_to_content_id  \\\n",
      "0    https://forums.hardwarezone.com.sg/threads/tax...                  NaN   \n",
      "1    https://forums.hardwarezone.com.sg/threads/cpf...                  NaN   \n",
      "2    https://forums.hardwarezone.com.sg/threads/her...                  NaN   \n",
      "3    https://forums.hardwarezone.com.sg/threads/acc...                  NaN   \n",
      "4    https://forums.hardwarezone.com.sg/threads/any...                  NaN   \n",
      "..                                                 ...                  ...   \n",
      "165  https://forums.hardwarezone.com.sg/threads/a-f...                  NaN   \n",
      "166  https://forums.hardwarezone.com.sg/threads/a-f...                  NaN   \n",
      "167  https://forums.hardwarezone.com.sg/threads/a-f...                  NaN   \n",
      "168  https://forums.hardwarezone.com.sg/threads/a-f...                  NaN   \n",
      "169  https://forums.hardwarezone.com.sg/threads/hou...                  NaN   \n",
      "\n",
      "     Thread_id             Subforum  \\\n",
      "0    6865220.0  Eat-Drink-Man-Woman   \n",
      "1          NaN  Eat-Drink-Man-Woman   \n",
      "2    6878244.0  Eat-Drink-Man-Woman   \n",
      "3    6885498.0  Eat-Drink-Man-Woman   \n",
      "4    6875619.0  Eat-Drink-Man-Woman   \n",
      "..         ...                  ...   \n",
      "165        NaN  Eat-Drink-Man-Woman   \n",
      "166        NaN  Eat-Drink-Man-Woman   \n",
      "167        NaN  Eat-Drink-Man-Woman   \n",
      "168        NaN  Eat-Drink-Man-Woman   \n",
      "169  6870671.0  Eat-Drink-Man-Woman   \n",
      "\n",
      "                                                 Title  \\\n",
      "0    Tax Generational Wealth Gao Gao to reduce ineq...   \n",
      "1                                                  NaN   \n",
      "2           Here are my reasons to be grateful for PAP   \n",
      "3    According to MOM, the median gross monthly inc...   \n",
      "4    Any hope for a divorced PR to live a quiet lif...   \n",
      "..                                                 ...   \n",
      "165                                                NaN   \n",
      "166                                                NaN   \n",
      "167                                                NaN   \n",
      "168                                                NaN   \n",
      "169  Household incomes rose in 2022, income inequal...   \n",
      "\n",
      "                                               Content            Timestamp  \\\n",
      "0    see many people in singapore with rich parents...  2023-01-24 14:14:11   \n",
      "1    if got choice, will you put salary in cpf or b...  2023-03-11 16:23:57   \n",
      "2    1) signing many good ftas like ceca which in t...  2023-03-02 12:13:33   \n",
      "3    age (years) median gross monthly income from w...  2023-03-23 19:35:59   \n",
      "4    need some advice please. i'm a pr and recently...  2023-02-22 19:09:04   \n",
      "..                                                 ...                  ...   \n",
      "165  singapore: the raising of the central providen...  2023-02-16 10:42:01   \n",
      "166  singapore: the raising of the central providen...  2023-02-16 10:42:01   \n",
      "167  singapore: the raising of the central providen...  2023-02-16 10:42:01   \n",
      "168  singapore: the raising of the central providen...  2023-02-16 10:42:01   \n",
      "169  singapore - median household income grew in 20...  2023-02-09 10:21:12   \n",
      "\n",
      "     Search_Term  Matching_Word  Has_Other_Sentiment  \\\n",
      "0     wealth tax           True                False   \n",
      "1            cpf           True                False   \n",
      "2    meritocracy           True                False   \n",
      "3            cpf           True                False   \n",
      "4     low income           True                False   \n",
      "..           ...            ...                  ...   \n",
      "165          cpf           True                 True   \n",
      "166          cpf           True                 True   \n",
      "167          cpf           True                 True   \n",
      "168          cpf           True                 True   \n",
      "169          cpf           True                 True   \n",
      "\n",
      "                                       Target_Sentence  Is_Relevant  \n",
      "0     propose a 20-30% generational $T$ to re-circu...           -1  \n",
      "1    if got choice, will you put salary in $T$ or b...           -1  \n",
      "2     6) $T$ where everyone has a chance to progres...           -1  \n",
      "3    age (years) median gross monthly income from w...           -1  \n",
      "4     am i missing anything or is that all for my o...           -1  \n",
      "..                                                 ...          ...  \n",
      "165   it was also announced in budget 2023 that the...           -1  \n",
      "166   from next year, the total $T$ contribution ra...           -1  \n",
      "167   'a financial burden': higher $T$ salary ceili...           -1  \n",
      "168   'a financial burden': higher cpf salary ceili...           -1  \n",
      "169   household income from work includes employer ...           -1  \n",
      "\n",
      "[170 rows x 16 columns]>\n"
     ]
    }
   ],
   "source": [
    "print(source_data.shape)\n",
    "print(source_data.head)"
   ]
  },
  {
   "cell_type": "code",
   "execution_count": 3,
   "metadata": {},
   "outputs": [
    {
     "name": "stdout",
     "output_type": "stream",
     "text": [
      "(0, 16)\n"
     ]
    }
   ],
   "source": [
    "result = source_data[source_data['Is_Relevant'] == 1]\n",
    "print(result.shape)"
   ]
  },
  {
   "cell_type": "code",
   "execution_count": 4,
   "metadata": {},
   "outputs": [],
   "source": [
    "def trainTestSplit(source_data):\n",
    "    training_data = source_data.sample(n = 350, replace = False, random_state = 1)\n",
    "    test_data = source_data.drop(training_data.index)\n",
    "    return training_data, test_data"
   ]
  },
  {
   "cell_type": "code",
   "execution_count": 5,
   "metadata": {},
   "outputs": [],
   "source": [
    "def transformToTrainingFormat(training_data):\n",
    "    res = []\n",
    "\n",
    "    for index, row in training_data.iterrows():\n",
    "        search_term = row.Search_Term\n",
    "        content = row.Target_Sentence\n",
    "        score = row.Sentiment\n",
    "        if (len(content) > 750):\n",
    "            continue\n",
    "        res.append(content)\n",
    "        res.append(search_term)\n",
    "        res.append(score)\n",
    "\n",
    "    return res"
   ]
  },
  {
   "cell_type": "code",
   "execution_count": 6,
   "metadata": {},
   "outputs": [],
   "source": [
    "\n",
    "# training_data, test_data = trainTestSplit(result)\n",
    "res = transformToTrainingFormat(result)\n"
   ]
  },
  {
   "cell_type": "code",
   "execution_count": 7,
   "metadata": {},
   "outputs": [],
   "source": [
    "target_data = pd.DataFrame(res)\n",
    "target_data.to_csv(\"hardware_zone_training_data.csv\", header = False, index = False)\n"
   ]
  },
  {
   "cell_type": "code",
   "execution_count": null,
   "metadata": {},
   "outputs": [],
   "source": []
  },
  {
   "cell_type": "code",
   "execution_count": null,
   "metadata": {},
   "outputs": [],
   "source": []
  }
 ],
 "metadata": {
  "kernelspec": {
   "display_name": "Python 3 (ipykernel)",
   "language": "python",
   "name": "python3"
  },
  "language_info": {
   "codemirror_mode": {
    "name": "ipython",
    "version": 3
   },
   "file_extension": ".py",
   "mimetype": "text/x-python",
   "name": "python",
   "nbconvert_exporter": "python",
   "pygments_lexer": "ipython3",
   "version": "3.9.13"
  }
 },
 "nbformat": 4,
 "nbformat_minor": 4
}

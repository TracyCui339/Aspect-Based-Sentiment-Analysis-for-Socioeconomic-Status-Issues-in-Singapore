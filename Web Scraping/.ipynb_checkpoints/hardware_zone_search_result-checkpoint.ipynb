{
 "cells": [
  {
   "cell_type": "code",
   "execution_count": null,
   "metadata": {},
   "outputs": [],
   "source": [
    "!pip install selenium\n",
    "from selenium import webdriver\n",
    "from selenium.webdriver.common.action_chains import ActionChains\n",
    "from selenium.webdriver.common.keys import Keys\n",
    "from selenium.common.exceptions import NoSuchElementException\n",
    "from selenium.common.exceptions import TimeoutException\n",
    "from selenium.common.exceptions import MoveTargetOutOfBoundsException\n",
    "from selenium.webdriver.chrome.options import Options\n",
    "from selenium.webdriver.common.by import By\n",
    "import time\n",
    "import os\n",
    "import pandas as pd"
   ]
  },
  {
   "cell_type": "code",
   "execution_count": null,
   "metadata": {},
   "outputs": [],
   "source": [
    "def click_by_time(driver,xpath,maxTime):\n",
    "    t=0\n",
    "    while t<=maxTime:\n",
    "        if driver.find_element(By.XPATH, xpath)!=None:  \n",
    "            driver.find_element(By.XPATH, xpath).click()\n",
    "            break\n",
    "        time.sleep(1)\n",
    "        t+=1  "
   ]
  },
  {
   "cell_type": "code",
   "execution_count": null,
   "metadata": {},
   "outputs": [],
   "source": [
    "\n",
    "# First Round\n",
    "# keywords = ['chinese privilege', 'malay privilege', 'indian privilege', 'majority privilege', 'meritocracy',\n",
    "#             'chinese majority', 'underprivileged family', 'subsidies', 'subsidy', 'mendaki', 'CDAC', 'malay subject',\n",
    "#             'student', 'Education gap', 'Education Background', 'SINDA', 'University-Educated Malay', 'ceca', 'influx',\n",
    "#             'speak mandarin', 'chinese speaking', 'Malay coworker', 'Denied Jobs', 'Career success', 'career choices',\n",
    "#             'Chinese Speakers', 'Indian IT', 'rental', 'rent', 'Living in HDB', 'Household incomes', 'HDB',\n",
    "#             'colored people', 'colored kids', 'skin black', 'skin color', 'black skin', 'yellow skin', 'brown skin',\n",
    "#             'darked-skinned', 'dark skin', 'tanned skin', 'fair skin', 'faired skin', 'keling kia', 'local chinese',\n",
    "#             'low ses', 'Victim Card', 'High SES', 'Chinese speaking', 'Chinese language', 'Speaking Mandarin',\n",
    "#             'Speak Malay', 'Speak Indian', 'Speak Tamil', 'sinkie chinese', 'chinese culture', 'chinese paper',\n",
    "#             'chinese majority', 'chinese in singapore', 'Malay Culture', 'Indian Culture', 'CMIO', 'CMIO Model',\n",
    "#             'Malay Community', 'Lazy Malay', 'Indian IT', 'Stereotypes minorities', 'Poor Chinese', 'rich Malay',\n",
    "#             'rich Indian', 'rich Chinese', 'Poor Malay', 'Poor Indian', 'lifestyle preference']\n",
    "\n",
    "\n",
    "# Second Round\n",
    "keywords = ['middle income', 'high income', 'low income', 'income inequality', 'disposable income', 'household annual income',\n",
    "            'wealth tax', 'unemployment insurance', 'meritocracy', 'occupation mobility', 'elite education', 'education subsidies', 'Mendaki',\n",
    "            'CDAC', 'less educated', 'health insurance', 'medical expenses', 'medical resources', 'upper class', 'lower class',\n",
    "           'middle class', 'central provident fund', 'CPF']\n",
    "\n",
    "\n",
    "print(keywords)\n",
    "        \n",
    "search_root_url = 'https://www.bing.com/search?q=site%3Aforums.hardwarezone.com.sg%2F+'\n"
   ]
  },
  {
   "cell_type": "code",
   "execution_count": null,
   "metadata": {},
   "outputs": [],
   "source": [
    "\n",
    "def search_by_key_word(search_term):\n",
    "    search_url = search_root_url + search_term\n",
    "    company_urls = []\n",
    "\n",
    "    driver = webdriver.Chrome() \n",
    "    driver.get(search_url)\n",
    "    click_by_time(driver,'//*[@id=\"sb_form_go\"]',10) \n",
    "\n",
    "    count = 0\n",
    "    records = 0\n",
    "    no_valid_result_count = 0\n",
    "    prev_valid_result = -1\n",
    "    while(no_valid_result_count < 4):\n",
    "        count += 1\n",
    "        time.sleep(5)\n",
    "\n",
    "        if len(company_urls) == prev_valid_result:\n",
    "            no_valid_result_count += 1\n",
    "        else:\n",
    "            no_valid_result_count = 0\n",
    "\n",
    "        prev_valid_result = len(company_urls)\n",
    "\n",
    "        titles = driver.find_elements(By.CLASS_NAME, 'b_algo') \n",
    "        for title in titles:\n",
    "            result = title.find_element(By.TAG_NAME, 'a') \n",
    "\n",
    "            spans = title.find_elements(By.TAG_NAME, 'a')\n",
    "            for span in spans:\n",
    "                href = span.get_attribute('href')\n",
    "                if 'threads' in str(href) :\n",
    "                    print(str(href))\n",
    "                    company_urls.append(str(href)) \n",
    "\n",
    "\n",
    "        company_urls = list(set(company_urls)) \n",
    "        print(count,'page','total',len(company_urls),' valid results for term ' + search_term)\n",
    "        try:\n",
    "            pagebar = driver.find_element(By.CLASS_NAME, 'b_pag') \n",
    "            next_page = pagebar.find_elements(By.TAG_NAME, 'a')[-1]\n",
    "            next_page.click()\n",
    "        except:\n",
    "            print('Search bar error for term ' + search_term)\n",
    "                \n",
    "    output_dict = {'URL': company_urls}\n",
    "    output_df = pd.DataFrame(output_dict, columns = output_dict.keys())\n",
    "    output_df['Search_Term'] = search_term\n",
    "    driver.close()\n",
    "    time.sleep(5)\n",
    "\n",
    "    return output_df"
   ]
  },
  {
   "cell_type": "code",
   "execution_count": null,
   "metadata": {},
   "outputs": [],
   "source": [
    "df = pd.DataFrame()\n",
    "\n",
    "frames = []\n",
    "for key_word in keywords:\n",
    "    try:\n",
    "        tmp = search_by_key_word(key_word)\n",
    "        frames.append(tmp)\n",
    "    except Exception as e:\n",
    "        print(\"An exception occurred for \" + key_word + \" error: \" + str(e))\n",
    "resultDf = pd.concat(frames)\n",
    "resultDf.to_csv('hardware_zone_raw_data_without_detail.csv')"
   ]
  },
  {
   "cell_type": "code",
   "execution_count": null,
   "metadata": {},
   "outputs": [],
   "source": [
    "print('End of scrapping')"
   ]
  },
  {
   "cell_type": "code",
   "execution_count": null,
   "metadata": {},
   "outputs": [],
   "source": []
  }
 ],
 "metadata": {
  "kernelspec": {
   "display_name": "Python 3 (ipykernel)",
   "language": "python",
   "name": "python3"
  },
  "language_info": {
   "codemirror_mode": {
    "name": "ipython",
    "version": 3
   },
   "file_extension": ".py",
   "mimetype": "text/x-python",
   "name": "python",
   "nbconvert_exporter": "python",
   "pygments_lexer": "ipython3",
   "version": "3.9.13"
  }
 },
 "nbformat": 4,
 "nbformat_minor": 4
}

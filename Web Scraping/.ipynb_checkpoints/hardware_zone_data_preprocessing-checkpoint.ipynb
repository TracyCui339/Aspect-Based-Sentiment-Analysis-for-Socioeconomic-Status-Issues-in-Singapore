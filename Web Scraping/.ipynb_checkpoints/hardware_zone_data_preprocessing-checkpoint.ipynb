{
 "cells": [
  {
   "cell_type": "code",
   "execution_count": 2,
   "metadata": {},
   "outputs": [
    {
     "name": "stdout",
     "output_type": "stream",
     "text": [
      "(139, 14)\n"
     ]
    }
   ],
   "source": [
    "import pandas as pd\n",
    "import numpy as np\n",
    "import re\n",
    "import time\n",
    "import swifter\n",
    "source_data = pd.read_csv(\"hardware_zone_clean_data_with_detail.csv\")\n",
    "print(source_data.shape)"
   ]
  },
  {
   "cell_type": "code",
   "execution_count": 3,
   "metadata": {},
   "outputs": [
    {
     "name": "stdout",
     "output_type": "stream",
     "text": [
      "(115, 14)\n"
     ]
    }
   ],
   "source": [
    "result = source_data.drop_duplicates(\n",
    "  subset = ['Content', 'Search_Term'],\n",
    "  keep = 'first').reset_index(drop = True)\n",
    "print(result.shape)"
   ]
  },
  {
   "cell_type": "code",
   "execution_count": 4,
   "metadata": {},
   "outputs": [],
   "source": [
    "def search_sentiment_in_sentence(row):\n",
    "    search_token = str(row.Search_Term)\n",
    "    search_token = r'\\b' + re.escape(search_token) + r'\\b'\n",
    "    if re.search(search_token, row.Target_Sentence):\n",
    "        return row.Target_Sentence\n",
    "    \n",
    "def break_sentence(row):\n",
    "    sentences = str(row.Content).split('.')\n",
    "    #sentences = re.split('[.?!]', str(row.Content))\n",
    "    return sentences\n",
    "\n"
   ]
  },
  {
   "cell_type": "code",
   "execution_count": 5,
   "metadata": {},
   "outputs": [
    {
     "data": {
      "application/vnd.jupyter.widget-view+json": {
       "model_id": "6065044c755f4c2da25ba409f3347622",
       "version_major": 2,
       "version_minor": 0
      },
      "text/plain": [
       "Pandas Apply:   0%|          | 0/115 [00:00<?, ?it/s]"
      ]
     },
     "metadata": {},
     "output_type": "display_data"
    },
    {
     "name": "stdout",
     "output_type": "stream",
     "text": [
      "(1888, 15)\n"
     ]
    }
   ],
   "source": [
    "\n",
    "result[\"Target_Sentence\"] = result.swifter.apply(break_sentence, axis=1)\n",
    "result = result.explode(\"Target_Sentence\")\n",
    "print(result.shape)\n"
   ]
  },
  {
   "cell_type": "code",
   "execution_count": 6,
   "metadata": {},
   "outputs": [
    {
     "data": {
      "application/vnd.jupyter.widget-view+json": {
       "model_id": "d868569e1ade41eeaea1965fab33e919",
       "version_major": 2,
       "version_minor": 0
      },
      "text/plain": [
       "Pandas Apply:   0%|          | 0/1888 [00:00<?, ?it/s]"
      ]
     },
     "metadata": {},
     "output_type": "display_data"
    },
    {
     "name": "stdout",
     "output_type": "stream",
     "text": [
      "(1888, 15)\n"
     ]
    }
   ],
   "source": [
    "result = result.reset_index(drop=True)\n",
    "result[\"Target_Sentence\"] = result.swifter.apply(search_sentiment_in_sentence, axis=1)\n",
    "print(result.shape)\n"
   ]
  },
  {
   "cell_type": "code",
   "execution_count": 7,
   "metadata": {},
   "outputs": [
    {
     "name": "stdout",
     "output_type": "stream",
     "text": [
      "(223, 15)\n"
     ]
    },
    {
     "data": {
      "text/html": [
       "<div>\n",
       "<style scoped>\n",
       "    .dataframe tbody tr th:only-of-type {\n",
       "        vertical-align: middle;\n",
       "    }\n",
       "\n",
       "    .dataframe tbody tr th {\n",
       "        vertical-align: top;\n",
       "    }\n",
       "\n",
       "    .dataframe thead th {\n",
       "        text-align: right;\n",
       "    }\n",
       "</style>\n",
       "<table border=\"1\" class=\"dataframe\">\n",
       "  <thead>\n",
       "    <tr style=\"text-align: right;\">\n",
       "      <th></th>\n",
       "      <th>Unnamed: 0</th>\n",
       "      <th>User_id</th>\n",
       "      <th>Type</th>\n",
       "      <th>Content_id</th>\n",
       "      <th>Url</th>\n",
       "      <th>Reply_to_content_id</th>\n",
       "      <th>Thread_id</th>\n",
       "      <th>Subforum</th>\n",
       "      <th>Title</th>\n",
       "      <th>Content</th>\n",
       "      <th>Timestamp</th>\n",
       "      <th>Search_Term</th>\n",
       "      <th>Matching_Word</th>\n",
       "      <th>Has_Other_Sentiment</th>\n",
       "      <th>Target_Sentence</th>\n",
       "    </tr>\n",
       "  </thead>\n",
       "  <tbody>\n",
       "    <tr>\n",
       "      <th>39</th>\n",
       "      <td>1</td>\n",
       "      <td>204542</td>\n",
       "      <td>Post</td>\n",
       "      <td>['146188473']</td>\n",
       "      <td>https://forums.hardwarezone.com.sg/threads/hou...</td>\n",
       "      <td>NaN</td>\n",
       "      <td>6870671.0</td>\n",
       "      <td>Forums</td>\n",
       "      <td>Household incomes rose in 2022, income inequal...</td>\n",
       "      <td>singapore - median household income grew in 20...</td>\n",
       "      <td>2023-02-09 10:21:12</td>\n",
       "      <td>income inequality</td>\n",
       "      <td>True</td>\n",
       "      <td>False</td>\n",
       "      <td>income inequality is measured by the gini coe...</td>\n",
       "    </tr>\n",
       "    <tr>\n",
       "      <th>57</th>\n",
       "      <td>2</td>\n",
       "      <td>474880</td>\n",
       "      <td>Post</td>\n",
       "      <td>['115313181']</td>\n",
       "      <td>https://forums.hardwarezone.com.sg/threads/bac...</td>\n",
       "      <td>NaN</td>\n",
       "      <td>NaN</td>\n",
       "      <td>Forums</td>\n",
       "      <td>NaN</td>\n",
       "      <td>hi, want to get views from you all. what does ...</td>\n",
       "      <td>2018-07-05 15:55:32</td>\n",
       "      <td>upper class</td>\n",
       "      <td>True</td>\n",
       "      <td>False</td>\n",
       "      <td>what does it mean if you got a second upper c...</td>\n",
       "    </tr>\n",
       "    <tr>\n",
       "      <th>59</th>\n",
       "      <td>10</td>\n",
       "      <td>664200</td>\n",
       "      <td>Post</td>\n",
       "      <td>['113150442']</td>\n",
       "      <td>https://forums.hardwarezone.com.sg/threads/cpf...</td>\n",
       "      <td>NaN</td>\n",
       "      <td>5787403.0</td>\n",
       "      <td>Forums</td>\n",
       "      <td>CPF questions : Medisave after 55 &amp; RA Topup</td>\n",
       "      <td>1. medisave after 55 as i understand excess in...</td>\n",
       "      <td>2018-03-06 23:26:17</td>\n",
       "      <td>medisave</td>\n",
       "      <td>True</td>\n",
       "      <td>False</td>\n",
       "      <td>medisave after 55 as i understand excess in m...</td>\n",
       "    </tr>\n",
       "    <tr>\n",
       "      <th>63</th>\n",
       "      <td>16</td>\n",
       "      <td>815074</td>\n",
       "      <td>Post</td>\n",
       "      <td>['145992640']</td>\n",
       "      <td>https://forums.hardwarezone.com.sg/threads/can...</td>\n",
       "      <td>NaN</td>\n",
       "      <td>6866152.0</td>\n",
       "      <td>Forums</td>\n",
       "      <td>Can CDAC directors OYK, Sun XL, Koh PK, Chee H...</td>\n",
       "      <td>cdac audited report fy 2021 read cdac audited ...</td>\n",
       "      <td>2023-01-27 00:43:39</td>\n",
       "      <td>cdac</td>\n",
       "      <td>True</td>\n",
       "      <td>False</td>\n",
       "      <td>cdac audited report fy 2021 read cdac audited ...</td>\n",
       "    </tr>\n",
       "    <tr>\n",
       "      <th>65</th>\n",
       "      <td>16</td>\n",
       "      <td>815074</td>\n",
       "      <td>Post</td>\n",
       "      <td>['145992640']</td>\n",
       "      <td>https://forums.hardwarezone.com.sg/threads/can...</td>\n",
       "      <td>NaN</td>\n",
       "      <td>6866152.0</td>\n",
       "      <td>Forums</td>\n",
       "      <td>Can CDAC directors OYK, Sun XL, Koh PK, Chee H...</td>\n",
       "      <td>cdac audited report fy 2021 read cdac audited ...</td>\n",
       "      <td>2023-01-27 00:43:39</td>\n",
       "      <td>cdac</td>\n",
       "      <td>True</td>\n",
       "      <td>False</td>\n",
       "      <td>com thought cdac is to help the poor? how does...</td>\n",
       "    </tr>\n",
       "    <tr>\n",
       "      <th>...</th>\n",
       "      <td>...</td>\n",
       "      <td>...</td>\n",
       "      <td>...</td>\n",
       "      <td>...</td>\n",
       "      <td>...</td>\n",
       "      <td>...</td>\n",
       "      <td>...</td>\n",
       "      <td>...</td>\n",
       "      <td>...</td>\n",
       "      <td>...</td>\n",
       "      <td>...</td>\n",
       "      <td>...</td>\n",
       "      <td>...</td>\n",
       "      <td>...</td>\n",
       "      <td>...</td>\n",
       "    </tr>\n",
       "    <tr>\n",
       "      <th>1743</th>\n",
       "      <td>16</td>\n",
       "      <td>815074</td>\n",
       "      <td>Post</td>\n",
       "      <td>['145992640']</td>\n",
       "      <td>https://forums.hardwarezone.com.sg/threads/can...</td>\n",
       "      <td>NaN</td>\n",
       "      <td>6866152.0</td>\n",
       "      <td>Forums</td>\n",
       "      <td>Can CDAC directors OYK, Sun XL, Koh PK, Chee H...</td>\n",
       "      <td>cdac audited report fy 2021 read cdac audited ...</td>\n",
       "      <td>2023-01-27 00:43:39</td>\n",
       "      <td>low income</td>\n",
       "      <td>True</td>\n",
       "      <td>True</td>\n",
       "      <td>com thought cdac is to help the poor? how does...</td>\n",
       "    </tr>\n",
       "    <tr>\n",
       "      <th>1745</th>\n",
       "      <td>40</td>\n",
       "      <td>640173</td>\n",
       "      <td>Post</td>\n",
       "      <td>['136514949']</td>\n",
       "      <td>https://forums.hardwarezone.com.sg/threads/why...</td>\n",
       "      <td>NaN</td>\n",
       "      <td>6595859.0</td>\n",
       "      <td>Forums</td>\n",
       "      <td>Why are we paying CDAC $1 per month from our s...</td>\n",
       "      <td>to help the low income? seems like it is easy ...</td>\n",
       "      <td>2021-09-10 17:27:16</td>\n",
       "      <td>low income</td>\n",
       "      <td>True</td>\n",
       "      <td>True</td>\n",
       "      <td>to help the low income? seems like it is easy ...</td>\n",
       "    </tr>\n",
       "    <tr>\n",
       "      <th>1758</th>\n",
       "      <td>1</td>\n",
       "      <td>204542</td>\n",
       "      <td>Post</td>\n",
       "      <td>['146188473']</td>\n",
       "      <td>https://forums.hardwarezone.com.sg/threads/hou...</td>\n",
       "      <td>NaN</td>\n",
       "      <td>6870671.0</td>\n",
       "      <td>Forums</td>\n",
       "      <td>Household incomes rose in 2022, income inequal...</td>\n",
       "      <td>singapore - median household income grew in 20...</td>\n",
       "      <td>2023-02-09 10:21:12</td>\n",
       "      <td>central provident fund</td>\n",
       "      <td>True</td>\n",
       "      <td>True</td>\n",
       "      <td>household income from work includes employer ...</td>\n",
       "    </tr>\n",
       "    <tr>\n",
       "      <th>1827</th>\n",
       "      <td>220</td>\n",
       "      <td>338874</td>\n",
       "      <td>Post</td>\n",
       "      <td>['146405416']</td>\n",
       "      <td>https://forums.hardwarezone.com.sg/threads/com...</td>\n",
       "      <td>NaN</td>\n",
       "      <td>NaN</td>\n",
       "      <td>Forums</td>\n",
       "      <td>NaN</td>\n",
       "      <td>commentary: singapore residents must save for ...</td>\n",
       "      <td>2023-02-23 09:09:32</td>\n",
       "      <td>central provident fund</td>\n",
       "      <td>True</td>\n",
       "      <td>True</td>\n",
       "      <td>while the government has kept the rate of con...</td>\n",
       "    </tr>\n",
       "    <tr>\n",
       "      <th>1878</th>\n",
       "      <td>425</td>\n",
       "      <td>492144</td>\n",
       "      <td>Post</td>\n",
       "      <td>['139474856']</td>\n",
       "      <td>https://forums.hardwarezone.com.sg/threads/how...</td>\n",
       "      <td>NaN</td>\n",
       "      <td>6686519.0</td>\n",
       "      <td>Forums</td>\n",
       "      <td>How retiree in Singapore saved over $1.6m in h...</td>\n",
       "      <td>a 67-year-old retiree holds a record of sorts ...</td>\n",
       "      <td>2022-01-28 13:43:37</td>\n",
       "      <td>central provident fund</td>\n",
       "      <td>True</td>\n",
       "      <td>True</td>\n",
       "      <td>2 million in her ordinary account (oa) of the ...</td>\n",
       "    </tr>\n",
       "  </tbody>\n",
       "</table>\n",
       "<p>223 rows × 15 columns</p>\n",
       "</div>"
      ],
      "text/plain": [
       "      Unnamed: 0  User_id  Type     Content_id  \\\n",
       "39             1   204542  Post  ['146188473']   \n",
       "57             2   474880  Post  ['115313181']   \n",
       "59            10   664200  Post  ['113150442']   \n",
       "63            16   815074  Post  ['145992640']   \n",
       "65            16   815074  Post  ['145992640']   \n",
       "...          ...      ...   ...            ...   \n",
       "1743          16   815074  Post  ['145992640']   \n",
       "1745          40   640173  Post  ['136514949']   \n",
       "1758           1   204542  Post  ['146188473']   \n",
       "1827         220   338874  Post  ['146405416']   \n",
       "1878         425   492144  Post  ['139474856']   \n",
       "\n",
       "                                                    Url  Reply_to_content_id  \\\n",
       "39    https://forums.hardwarezone.com.sg/threads/hou...                  NaN   \n",
       "57    https://forums.hardwarezone.com.sg/threads/bac...                  NaN   \n",
       "59    https://forums.hardwarezone.com.sg/threads/cpf...                  NaN   \n",
       "63    https://forums.hardwarezone.com.sg/threads/can...                  NaN   \n",
       "65    https://forums.hardwarezone.com.sg/threads/can...                  NaN   \n",
       "...                                                 ...                  ...   \n",
       "1743  https://forums.hardwarezone.com.sg/threads/can...                  NaN   \n",
       "1745  https://forums.hardwarezone.com.sg/threads/why...                  NaN   \n",
       "1758  https://forums.hardwarezone.com.sg/threads/hou...                  NaN   \n",
       "1827  https://forums.hardwarezone.com.sg/threads/com...                  NaN   \n",
       "1878  https://forums.hardwarezone.com.sg/threads/how...                  NaN   \n",
       "\n",
       "      Thread_id Subforum                                              Title  \\\n",
       "39    6870671.0   Forums  Household incomes rose in 2022, income inequal...   \n",
       "57          NaN   Forums                                                NaN   \n",
       "59    5787403.0   Forums       CPF questions : Medisave after 55 & RA Topup   \n",
       "63    6866152.0   Forums  Can CDAC directors OYK, Sun XL, Koh PK, Chee H...   \n",
       "65    6866152.0   Forums  Can CDAC directors OYK, Sun XL, Koh PK, Chee H...   \n",
       "...         ...      ...                                                ...   \n",
       "1743  6866152.0   Forums  Can CDAC directors OYK, Sun XL, Koh PK, Chee H...   \n",
       "1745  6595859.0   Forums  Why are we paying CDAC $1 per month from our s...   \n",
       "1758  6870671.0   Forums  Household incomes rose in 2022, income inequal...   \n",
       "1827        NaN   Forums                                                NaN   \n",
       "1878  6686519.0   Forums  How retiree in Singapore saved over $1.6m in h...   \n",
       "\n",
       "                                                Content            Timestamp  \\\n",
       "39    singapore - median household income grew in 20...  2023-02-09 10:21:12   \n",
       "57    hi, want to get views from you all. what does ...  2018-07-05 15:55:32   \n",
       "59    1. medisave after 55 as i understand excess in...  2018-03-06 23:26:17   \n",
       "63    cdac audited report fy 2021 read cdac audited ...  2023-01-27 00:43:39   \n",
       "65    cdac audited report fy 2021 read cdac audited ...  2023-01-27 00:43:39   \n",
       "...                                                 ...                  ...   \n",
       "1743  cdac audited report fy 2021 read cdac audited ...  2023-01-27 00:43:39   \n",
       "1745  to help the low income? seems like it is easy ...  2021-09-10 17:27:16   \n",
       "1758  singapore - median household income grew in 20...  2023-02-09 10:21:12   \n",
       "1827  commentary: singapore residents must save for ...  2023-02-23 09:09:32   \n",
       "1878  a 67-year-old retiree holds a record of sorts ...  2022-01-28 13:43:37   \n",
       "\n",
       "                 Search_Term  Matching_Word  Has_Other_Sentiment  \\\n",
       "39         income inequality           True                False   \n",
       "57               upper class           True                False   \n",
       "59                  medisave           True                False   \n",
       "63                      cdac           True                False   \n",
       "65                      cdac           True                False   \n",
       "...                      ...            ...                  ...   \n",
       "1743              low income           True                 True   \n",
       "1745              low income           True                 True   \n",
       "1758  central provident fund           True                 True   \n",
       "1827  central provident fund           True                 True   \n",
       "1878  central provident fund           True                 True   \n",
       "\n",
       "                                        Target_Sentence  \n",
       "39     income inequality is measured by the gini coe...  \n",
       "57     what does it mean if you got a second upper c...  \n",
       "59     medisave after 55 as i understand excess in m...  \n",
       "63    cdac audited report fy 2021 read cdac audited ...  \n",
       "65    com thought cdac is to help the poor? how does...  \n",
       "...                                                 ...  \n",
       "1743  com thought cdac is to help the poor? how does...  \n",
       "1745  to help the low income? seems like it is easy ...  \n",
       "1758   household income from work includes employer ...  \n",
       "1827   while the government has kept the rate of con...  \n",
       "1878  2 million in her ordinary account (oa) of the ...  \n",
       "\n",
       "[223 rows x 15 columns]"
      ]
     },
     "execution_count": 7,
     "metadata": {},
     "output_type": "execute_result"
    }
   ],
   "source": [
    "result = result[~result['Target_Sentence'].isnull()].copy()\n",
    "print(result.shape)\n",
    "result"
   ]
  },
  {
   "cell_type": "code",
   "execution_count": 8,
   "metadata": {},
   "outputs": [],
   "source": [
    "def tranform_format(row):\n",
    "    res = []\n",
    "    sentence = str(row.Target_Sentence)\n",
    "    train_token = '$T$'\n",
    "    aspect_term = str(row.Search_Term)\n",
    "    search_token = r'\\b' + re.escape(aspect_term) + r'\\b'\n",
    "    first_part = \"\"\n",
    "    second_part = sentence\n",
    "    \n",
    "    occurence = len(re.findall(search_token, sentence))\n",
    "    while occurence > 0:\n",
    "        newline = re.sub(search_token, train_token, second_part, 1)\n",
    "        res = res + [first_part + newline]\n",
    "        start_index = newline.find(train_token)\n",
    "        first_part = sentence[:start_index + len(aspect_term)]\n",
    "        second_part = sentence[start_index + len(aspect_term):]\n",
    "        occurence -= 1\n",
    "        \n",
    "    return res\n",
    "\n",
    "        "
   ]
  },
  {
   "cell_type": "code",
   "execution_count": 9,
   "metadata": {},
   "outputs": [
    {
     "data": {
      "application/vnd.jupyter.widget-view+json": {
       "model_id": "11405ed620964263ae8463688f44a672",
       "version_major": 2,
       "version_minor": 0
      },
      "text/plain": [
       "Pandas Apply:   0%|          | 0/223 [00:00<?, ?it/s]"
      ]
     },
     "metadata": {},
     "output_type": "display_data"
    },
    {
     "name": "stdout",
     "output_type": "stream",
     "text": [
      "(262, 15)\n"
     ]
    }
   ],
   "source": [
    "result[\"Target_Sentence\"] = result.swifter.apply(tranform_format, axis=1)\n",
    "result = result.explode(\"Target_Sentence\")\n",
    "print(result.shape)"
   ]
  },
  {
   "cell_type": "code",
   "execution_count": 10,
   "metadata": {},
   "outputs": [],
   "source": [
    "result.to_csv(\"hardware_zone_processed_data.csv\", index=False)"
   ]
  },
  {
   "cell_type": "code",
   "execution_count": null,
   "metadata": {},
   "outputs": [],
   "source": []
  },
  {
   "cell_type": "code",
   "execution_count": null,
   "metadata": {},
   "outputs": [],
   "source": []
  },
  {
   "cell_type": "code",
   "execution_count": null,
   "metadata": {},
   "outputs": [],
   "source": []
  }
 ],
 "metadata": {
  "kernelspec": {
   "display_name": "Python 3 (ipykernel)",
   "language": "python",
   "name": "python3"
  },
  "language_info": {
   "codemirror_mode": {
    "name": "ipython",
    "version": 3
   },
   "file_extension": ".py",
   "mimetype": "text/x-python",
   "name": "python",
   "nbconvert_exporter": "python",
   "pygments_lexer": "ipython3",
   "version": "3.9.13"
  }
 },
 "nbformat": 4,
 "nbformat_minor": 4
}

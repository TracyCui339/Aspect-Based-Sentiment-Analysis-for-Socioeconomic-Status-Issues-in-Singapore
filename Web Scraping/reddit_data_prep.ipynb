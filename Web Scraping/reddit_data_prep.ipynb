{
 "cells": [
  {
   "cell_type": "code",
   "execution_count": 6,
   "metadata": {},
   "outputs": [],
   "source": [
    "import pandas as pd\n",
    "import numpy as np\n",
    "source_data = pd.read_csv(\"reddit_train_data.csv\")\n"
   ]
  },
  {
   "cell_type": "code",
   "execution_count": 7,
   "metadata": {},
   "outputs": [
    {
     "name": "stdout",
     "output_type": "stream",
     "text": [
      "(2944, 18)\n",
      "<bound method NDFrame.head of       Unnamed: 0.1  Unnamed: 0           User ID    Type Content ID  \\\n",
      "0             3405       53900    barnaclegirl93  Thread     nr0z1v   \n",
      "1             3437       54678   TweetArchiveBot  Thread     m2queg   \n",
      "2            10733       47439       NarwhalOk95  Thread    10yvdnt   \n",
      "3             3436       54674   TweetArchiveBot  Thread     m2oq6p   \n",
      "4             3409       54003        thedabarry  Thread     9jwf17   \n",
      "...            ...         ...               ...     ...        ...   \n",
      "2939          1622       27366   thatrightwinger  Thread    10k7omw   \n",
      "2940          1625       27402  RocketUndercover  Thread    11tolft   \n",
      "2941          1528       26613  Miserable-Lizard  Thread    11qnfhb   \n",
      "2942          1578       27218          Codydoc4  Thread     zpls8l   \n",
      "2943          1784       28614         biggill77  Thread     zxotos   \n",
      "\n",
      "                                                    URL Reply to Content ID  \\\n",
      "0     /r/asklatinamerica/comments/nr0z1v/do_you_have...             h0dxywi   \n",
      "1     /r/LibertyRSA/comments/m2queg/unathi_kwaza_rt_...             gqknunk   \n",
      "2     /r/Buttcoin/comments/10yvdnt/new_study_suggest...             j80to2t   \n",
      "3     /r/LibertyRSA/comments/m2oq6p/unathi_kwaza_rt_...             gqkcm0j   \n",
      "4     /r/worldnews/comments/9jwf17/emmanuel_macron_m...             e6upt0p   \n",
      "...                                                 ...                 ...   \n",
      "2939  /r/Conservative/comments/10k7omw/california_de...             j5r53o3   \n",
      "2940  /r/Socialism_101/comments/11tolft/how_exactly_...             jclfrpe   \n",
      "2941  /r/canada/comments/11qnfhb/opinion_income_taxe...             jc503sc   \n",
      "2942  /r/unitedkingdom/comments/zpls8l/call_for_weal...             j0twe6b   \n",
      "2943  /r/antiwork/comments/zxotos/if_a_country_were_...             j2588wx   \n",
      "\n",
      "                                        Thread Selftext Subreddit  \\\n",
      "0     My friend’s grandfather dropped out of school ...       all   \n",
      "1                                                   NaN       all   \n",
      "2                                                   NaN       all   \n",
      "3                                                   NaN       all   \n",
      "4                                                   NaN       all   \n",
      "...                                                 ...       ...   \n",
      "2939                                                NaN       all   \n",
      "2940  I have been trying to understand it but still ...       all   \n",
      "2941                                                NaN       all   \n",
      "2942                                                NaN       all   \n",
      "2943  What's stopping them from laying off thousands...       all   \n",
      "\n",
      "                                                  Title  \\\n",
      "0     Do you have better access to education than yo...   \n",
      "1     Unathi Kwaza RT from Democratic Alliance: The ...   \n",
      "2     New study suggests that between 5% and 14% of ...   \n",
      "3     Unathi Kwaza RT from Ray Mahlaka: Remind me ag...   \n",
      "4     Emmanuel Macron: 'More choice would mean fewer...   \n",
      "...                                                 ...   \n",
      "2939  California Democrats consider wealth tax — inc...   \n",
      "2940               How exactly would a wealth tax work?   \n",
      "2941  Opinion | Income taxes won’t cut it: we desper...   \n",
      "2942  Call for wealth tax as UK billionaire numbers ...   \n",
      "2943  if a country were to implement a wealth tax, w...   \n",
      "\n",
      "                                                Content         Timestamp  \\\n",
      "0     yeah, definitely. no one of my grandparents wa...     2021/6/3 0:51   \n",
      "1     >the interventions announced by blade nzimande...   2021/3/11 14:08   \n",
      "2     the \"less educated\" may as well be the \"more v...   2023/2/10 15:52   \n",
      "3     rt @raymahlaka: remind me again. which party h...   2021/3/11 12:10   \n",
      "4     this is the best tl;dr i could make, [original...   2018/9/29 12:56   \n",
      "...                                                 ...               ...   \n",
      "2939  the accounting for a wealth tax is a nightmare...   2023/1/24 15:13   \n",
      "2940  well, realistically, it means the people with ...   2023/3/17 11:37   \n",
      "2941  literally what is the pitch for staying in can...   2023/3/13 22:05   \n",
      "2942  a wealth tax is not necessary. we just need bi...   2022/12/19 8:08   \n",
      "2943  can anyone even explain to me how a wealth tax...  2022/12/28 23:34   \n",
      "\n",
      "                 Score          Search_Term  Matching_Word  \\\n",
      "0        2021/6/3 1:31  access to education           True   \n",
      "1      2021/3/11 14:08  access to education           True   \n",
      "2      2023/2/10 20:07  access to education           True   \n",
      "3      2021/3/11 12:10  access to education           True   \n",
      "4      2018/9/29 14:01  access to education           True   \n",
      "...                ...                  ...            ...   \n",
      "2939   2023/1/24 23:53           wealth tax           True   \n",
      "2940   2023/3/17 18:04           wealth tax           True   \n",
      "2941    2023/3/14 2:01           wealth tax           True   \n",
      "2942  2022/12/19 11:28           wealth tax           True   \n",
      "2943  2022/12/29 19:21           wealth tax           True   \n",
      "\n",
      "      Has_Other_Sentiment                                    Target_Sentence  \\\n",
      "0                   False   in that sense, it's possible to say that my g...   \n",
      "1                   False  >the da will soon make public a plan to turn n...   \n",
      "2                    True  \" let's make no mistake - crypto is entirely p...   \n",
      "3                   False   which party has dominated sa politics since 1...   \n",
      "4                   False   (i'm a bot)*****> emmanuel macron has said ma...   \n",
      "...                   ...                                                ...   \n",
      "2939                False  the accounting for a $T$ is a nightmare, with ...   \n",
      "2940                False    usually stuff like a $T$ is a compromise mad...   \n",
      "2941                False   $T$ also the perfect way to cut incentives fo...   \n",
      "2942                False                             a $T$ is not necessary   \n",
      "2943                False  can anyone even explain to me how a wealth tax...   \n",
      "\n",
      "      Sentiment  \n",
      "0             1  \n",
      "1             1  \n",
      "2            -1  \n",
      "3             0  \n",
      "4             0  \n",
      "...         ...  \n",
      "2939         -1  \n",
      "2940         -1  \n",
      "2941          1  \n",
      "2942         -1  \n",
      "2943         -1  \n",
      "\n",
      "[2944 rows x 18 columns]>\n"
     ]
    }
   ],
   "source": [
    "print(source_data.shape)\n",
    "print(source_data.head)"
   ]
  },
  {
   "cell_type": "code",
   "execution_count": 8,
   "metadata": {},
   "outputs": [],
   "source": [
    "def trainTestSplit(source_data):\n",
    "    training_data = source_data.sample(n = 2944, replace = False, random_state = 1)\n",
    "    test_data = source_data.drop(training_data.index)\n",
    "    return training_data, test_data"
   ]
  },
  {
   "cell_type": "code",
   "execution_count": 9,
   "metadata": {},
   "outputs": [],
   "source": [
    "def transformToTrainingFormat(training_data):\n",
    "    res = []\n",
    "\n",
    "    for index, row in training_data.iterrows():\n",
    "        search_term = row.Search_Term\n",
    "        content = row.Target_Sentence\n",
    "        score = row.Sentiment\n",
    "        if (len(content) > 750):\n",
    "            continue\n",
    "        res.append(content)\n",
    "        res.append(search_term)\n",
    "        res.append(score)\n",
    "\n",
    "    return res"
   ]
  },
  {
   "cell_type": "code",
   "execution_count": 10,
   "metadata": {},
   "outputs": [
    {
     "ename": "NameError",
     "evalue": "name 'result' is not defined",
     "output_type": "error",
     "traceback": [
      "\u001b[1;31m---------------------------------------------------------------------------\u001b[0m",
      "\u001b[1;31mNameError\u001b[0m                                 Traceback (most recent call last)",
      "\u001b[1;32m~\\AppData\\Local\\Temp\\ipykernel_17412\\209777371.py\u001b[0m in \u001b[0;36m<module>\u001b[1;34m\u001b[0m\n\u001b[0;32m      1\u001b[0m \u001b[1;31m# training_data, test_data = trainTestSplit(result)\u001b[0m\u001b[1;33m\u001b[0m\u001b[1;33m\u001b[0m\u001b[0m\n\u001b[1;32m----> 2\u001b[1;33m \u001b[0mres\u001b[0m \u001b[1;33m=\u001b[0m \u001b[0mtransformToTrainingFormat\u001b[0m\u001b[1;33m(\u001b[0m\u001b[0mresult\u001b[0m\u001b[1;33m)\u001b[0m\u001b[1;33m\u001b[0m\u001b[1;33m\u001b[0m\u001b[0m\n\u001b[0m",
      "\u001b[1;31mNameError\u001b[0m: name 'result' is not defined"
     ]
    }
   ],
   "source": [
    "\n",
    "# training_data, test_data = trainTestSplit(result)\n",
    "res = transformToTrainingFormat(result)\n"
   ]
  },
  {
   "cell_type": "code",
   "execution_count": null,
   "metadata": {},
   "outputs": [],
   "source": [
    "target_data = pd.DataFrame(res)\n",
    "target_data.to_csv(\"reddit_training_data.csv\", header = False, index = False)\n"
   ]
  },
  {
   "cell_type": "code",
   "execution_count": null,
   "metadata": {},
   "outputs": [],
   "source": []
  }
 ],
 "metadata": {
  "kernelspec": {
   "display_name": "Python 3 (ipykernel)",
   "language": "python",
   "name": "python3"
  },
  "language_info": {
   "codemirror_mode": {
    "name": "ipython",
    "version": 3
   },
   "file_extension": ".py",
   "mimetype": "text/x-python",
   "name": "python",
   "nbconvert_exporter": "python",
   "pygments_lexer": "ipython3",
   "version": "3.9.13"
  }
 },
 "nbformat": 4,
 "nbformat_minor": 4
}

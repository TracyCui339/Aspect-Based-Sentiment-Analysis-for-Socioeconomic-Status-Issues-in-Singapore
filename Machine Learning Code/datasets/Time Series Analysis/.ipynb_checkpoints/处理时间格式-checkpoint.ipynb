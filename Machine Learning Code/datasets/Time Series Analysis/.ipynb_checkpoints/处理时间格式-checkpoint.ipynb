{
 "cells": [
  {
   "cell_type": "code",
   "execution_count": 4,
   "id": "a8730260",
   "metadata": {},
   "outputs": [],
   "source": [
    "import pandas as pd\n",
    "\n",
    "data = pd.read_csv('all_data.csv')\n",
    "\n",
    "def process_timestamp(timestamp):\n",
    "    return pd.to_datetime(timestamp).year\n",
    "\n",
    "data['Year'] = data['Timestamp'].apply(lambda x: process_timestamp(x))\n",
    "\n",
    "data.to_csv('predictdata_with_year.csv', index=False)"
   ]
  },
  {
   "cell_type": "code",
   "execution_count": 5,
   "id": "5851cbda",
   "metadata": {},
   "outputs": [],
   "source": [
    "from datetime import datetime\n",
    "\n",
    "timestamps = data[\"Timestamp\"]\n",
    "years_months = []\n",
    "for ts in timestamps:\n",
    "    dt = datetime.strptime(ts, \"%Y/%m/%d %H:%M\")\n",
    "    year_month = dt.strftime(\"%Y-%m\")\n",
    "    years_months.append(year_month)\n",
    "\n",
    "data[\"Year_Month\"] = years_months\n",
    "\n",
    "data.to_csv(\"new_predictdata.csv\", index=False)"
   ]
  },
  {
   "cell_type": "code",
   "execution_count": null,
   "id": "12fd4089",
   "metadata": {},
   "outputs": [],
   "source": []
  }
 ],
 "metadata": {
  "kernelspec": {
   "display_name": "Python 3 (ipykernel)",
   "language": "python",
   "name": "python3"
  },
  "language_info": {
   "codemirror_mode": {
    "name": "ipython",
    "version": 3
   },
   "file_extension": ".py",
   "mimetype": "text/x-python",
   "name": "python",
   "nbconvert_exporter": "python",
   "pygments_lexer": "ipython3",
   "version": "3.10.9"
  }
 },
 "nbformat": 4,
 "nbformat_minor": 5
}

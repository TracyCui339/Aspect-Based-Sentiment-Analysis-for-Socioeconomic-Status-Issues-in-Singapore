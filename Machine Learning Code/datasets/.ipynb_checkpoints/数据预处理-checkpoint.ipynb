{
 "cells": [
  {
   "cell_type": "code",
   "execution_count": 3,
   "metadata": {
    "colab": {
     "base_uri": "https://localhost:8080/"
    },
    "executionInfo": {
     "elapsed": 401,
     "status": "ok",
     "timestamp": 1682223901094,
     "user": {
      "displayName": "Tracy Cui",
      "userId": "16412396047916717499"
     },
     "user_tz": -480
    },
    "id": "v2PtHPGoVtKZ",
    "outputId": "0a6b5df8-f37f-4d8d-c9a3-a0dd74b54aca"
   },
   "outputs": [
    {
     "name": "stderr",
     "output_type": "stream",
     "text": [
      "[nltk_data] Downloading package stopwords to /root/nltk_data...\n",
      "[nltk_data]   Package stopwords is already up-to-date!\n"
     ]
    },
    {
     "name": "stdout",
     "output_type": "stream",
     "text": [
      "There are 0 rows without '$T$' symbol.\n"
     ]
    }
   ],
   "source": [
    "import pandas as pd\n",
    "import re\n",
    "import nltk\n",
    "from nltk.corpus import stopwords\n",
    "\n",
    "nltk.download('stopwords')\n",
    "stop_words = set(stopwords.words('english'))\n",
    "\n",
    "df = pd.read_csv('/content/drive/MyDrive/Machine Learning Code2/Machine Learning Code/datasets/semeval14/test2.csv')\n",
    "\n",
    "def clean_text(text):\n",
    "    text = re.sub('<[^>]*>', '', text)  \n",
    "    text = re.sub('[^a-zA-Z0-9$]+', ' ', text)   \n",
    "    text = ' '.join([word for word in text.split() if word.lower() not in stop_words])  \n",
    "    text = text.replace('>', '')  \n",
    "    return text\n",
    "\n",
    "df['Target_Sentence'] = df['Target_Sentence'].apply(clean_text)\n",
    "\n",
    "missing_T = df.loc[~df['Target_Sentence'].str.contains('\\$T\\$')]\n",
    "print(f\"There are {len(missing_T)} rows without '$T$' symbol.\")\n",
    "\n",
    "df.to_csv('/content/drive/MyDrive/Machine Learning Code2/Machine Learning Code/datasets/semeval14/testclean.csv', index=False)"
   ]
  },
  {
   "cell_type": "code",
   "execution_count": null,
   "metadata": {
    "id": "hzgXYKJqWltD"
   },
   "outputs": [],
   "source": []
  }
 ],
 "metadata": {
  "colab": {
   "authorship_tag": "ABX9TyMQ3X4fyK+aL144oYYY/2iB",
   "mount_file_id": "13gfcETv-Oya3qME2YAnQ6qtFwQQqVDzz",
   "provenance": []
  },
  "kernelspec": {
   "display_name": "Python 3 (ipykernel)",
   "language": "python",
   "name": "python3"
  },
  "language_info": {
   "codemirror_mode": {
    "name": "ipython",
    "version": 3
   },
   "file_extension": ".py",
   "mimetype": "text/x-python",
   "name": "python",
   "nbconvert_exporter": "python",
   "pygments_lexer": "ipython3",
   "version": "3.10.9"
  }
 },
 "nbformat": 4,
 "nbformat_minor": 1
}

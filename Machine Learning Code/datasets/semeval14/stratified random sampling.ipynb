{
 "cells": [
  {
   "cell_type": "code",
   "execution_count": 1,
   "id": "d40f9c83",
   "metadata": {},
   "outputs": [
    {
     "data": {
      "text/html": [
       "<div>\n",
       "<style scoped>\n",
       "    .dataframe tbody tr th:only-of-type {\n",
       "        vertical-align: middle;\n",
       "    }\n",
       "\n",
       "    .dataframe tbody tr th {\n",
       "        vertical-align: top;\n",
       "    }\n",
       "\n",
       "    .dataframe thead th {\n",
       "        text-align: right;\n",
       "    }\n",
       "</style>\n",
       "<table border=\"1\" class=\"dataframe\">\n",
       "  <thead>\n",
       "    <tr style=\"text-align: right;\">\n",
       "      <th></th>\n",
       "      <th>Term</th>\n",
       "      <th>Platform</th>\n",
       "      <th>Target_Sentence</th>\n",
       "      <th>Sentiment</th>\n",
       "    </tr>\n",
       "  </thead>\n",
       "  <tbody>\n",
       "    <tr>\n",
       "      <th>0</th>\n",
       "      <td>access to education</td>\n",
       "      <td>Reddit</td>\n",
       "      <td>in that sense, it's possible to say that my g...</td>\n",
       "      <td>1</td>\n",
       "    </tr>\n",
       "    <tr>\n",
       "      <th>1</th>\n",
       "      <td>access to education</td>\n",
       "      <td>Reddit</td>\n",
       "      <td>&gt;the da will soon make public a plan to turn n...</td>\n",
       "      <td>1</td>\n",
       "    </tr>\n",
       "    <tr>\n",
       "      <th>2</th>\n",
       "      <td>access to education</td>\n",
       "      <td>Reddit</td>\n",
       "      <td>\" let's make no mistake - crypto is entirely p...</td>\n",
       "      <td>-1</td>\n",
       "    </tr>\n",
       "    <tr>\n",
       "      <th>3</th>\n",
       "      <td>access to education</td>\n",
       "      <td>Reddit</td>\n",
       "      <td>which party has dominated sa politics since 1...</td>\n",
       "      <td>0</td>\n",
       "    </tr>\n",
       "    <tr>\n",
       "      <th>4</th>\n",
       "      <td>access to education</td>\n",
       "      <td>Reddit</td>\n",
       "      <td>(i'm a bot)*****&gt; emmanuel macron has said ma...</td>\n",
       "      <td>0</td>\n",
       "    </tr>\n",
       "  </tbody>\n",
       "</table>\n",
       "</div>"
      ],
      "text/plain": [
       "                  Term Platform  \\\n",
       "0  access to education   Reddit   \n",
       "1  access to education   Reddit   \n",
       "2  access to education   Reddit   \n",
       "3  access to education   Reddit   \n",
       "4  access to education   Reddit   \n",
       "\n",
       "                                     Target_Sentence  Sentiment  \n",
       "0   in that sense, it's possible to say that my g...          1  \n",
       "1  >the da will soon make public a plan to turn n...          1  \n",
       "2  \" let's make no mistake - crypto is entirely p...         -1  \n",
       "3   which party has dominated sa politics since 1...          0  \n",
       "4   (i'm a bot)*****> emmanuel macron has said ma...          0  "
      ]
     },
     "execution_count": 1,
     "metadata": {},
     "output_type": "execute_result"
    }
   ],
   "source": [
    "import pandas as pd\n",
    "import random\n",
    "\n",
    "df = pd.read_csv('chuanwu.csv')\n",
    "df.head()"
   ]
  },
  {
   "cell_type": "code",
   "execution_count": 2,
   "id": "1fe7e0b1",
   "metadata": {},
   "outputs": [],
   "source": [
    "grouped = df.groupby('Term')\n",
    "\n",
    "train_df = pd.DataFrame(columns=df.columns)\n",
    "test_df = pd.DataFrame(columns=df.columns)\n",
    "\n",
    "for name, group in grouped:\n",
    "\n",
    "    sample_size = int(len(group) * 0.2)\n",
    "    \n",
    "    sample_indices = random.sample(range(len(group)), sample_size)\n",
    "    train_indices = set(range(len(group))) - set(sample_indices)\n",
    "    \n",
    "    train_df = pd.concat([train_df, group.iloc[list(train_indices)]])\n",
    "    test_df = pd.concat([test_df, group.iloc[sample_indices]])\n",
    "\n",
    "train_df.to_csv('train2.csv', index=False)\n",
    "test_df.to_csv('test2.csv', index=False)"
   ]
  },
  {
   "cell_type": "code",
   "execution_count": null,
   "id": "6aa43df0",
   "metadata": {},
   "outputs": [],
   "source": []
  }
 ],
 "metadata": {
  "kernelspec": {
   "display_name": "Python 3 (ipykernel)",
   "language": "python",
   "name": "python3"
  },
  "language_info": {
   "codemirror_mode": {
    "name": "ipython",
    "version": 3
   },
   "file_extension": ".py",
   "mimetype": "text/x-python",
   "name": "python",
   "nbconvert_exporter": "python",
   "pygments_lexer": "ipython3",
   "version": "3.10.9"
  }
 },
 "nbformat": 4,
 "nbformat_minor": 5
}

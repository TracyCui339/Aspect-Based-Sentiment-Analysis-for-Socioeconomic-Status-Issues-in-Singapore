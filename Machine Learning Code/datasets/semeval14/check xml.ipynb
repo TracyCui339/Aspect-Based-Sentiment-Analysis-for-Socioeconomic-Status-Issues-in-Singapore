{
 "cells": [
  {
   "cell_type": "code",
   "execution_count": 6,
   "id": "986889e8",
   "metadata": {},
   "outputs": [],
   "source": [
    "with open(\"traindata2.xml.seg\", \"r\") as f:\n",
    "    lines = f.readlines()\n",
    "\n",
    "for i in range(2, len(lines), 3):\n",
    "    try:\n",
    "        val = int(lines[i].strip())\n",
    "        if val not in [-1, 0, 1]:\n",
    "            print(f\"Invalid integer on line {i+1}: {lines[i]}\")\n",
    "    except ValueError:\n",
    "        print(f\"Non-integer value on line {i+1}: {lines[i]}\")"
   ]
  },
  {
   "cell_type": "code",
   "execution_count": null,
   "id": "2a0e2e0d",
   "metadata": {},
   "outputs": [],
   "source": []
  }
 ],
 "metadata": {
  "kernelspec": {
   "display_name": "Python 3 (ipykernel)",
   "language": "python",
   "name": "python3"
  },
  "language_info": {
   "codemirror_mode": {
    "name": "ipython",
    "version": 3
   },
   "file_extension": ".py",
   "mimetype": "text/x-python",
   "name": "python",
   "nbconvert_exporter": "python",
   "pygments_lexer": "ipython3",
   "version": "3.10.9"
  }
 },
 "nbformat": 4,
 "nbformat_minor": 5
}

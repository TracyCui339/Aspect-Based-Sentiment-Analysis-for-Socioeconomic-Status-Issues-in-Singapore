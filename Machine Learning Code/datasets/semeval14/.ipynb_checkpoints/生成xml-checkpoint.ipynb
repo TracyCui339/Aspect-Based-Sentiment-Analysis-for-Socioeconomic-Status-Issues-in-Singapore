{
 "cells": [
  {
   "cell_type": "code",
   "execution_count": 2,
   "id": "f6e48ef7",
   "metadata": {},
   "outputs": [],
   "source": [
    "import csv"
   ]
  },
  {
   "cell_type": "code",
   "execution_count": 4,
   "id": "50257c84",
   "metadata": {},
   "outputs": [],
   "source": [
    "with open('test2.csv', newline='') as csvfile:\n",
    "    reader = csv.DictReader(csvfile)\n",
    "\n",
    "    xml_text = \"\"\n",
    "\n",
    "    for row in reader:\n",
    "\n",
    "        content = row['Target_Sentence']\n",
    "        term = row['Term']\n",
    "        sentiment = row['Sentiment']\n",
    "\n",
    "        xml_text += f\"{content}\\n{term}\\n{sentiment}\\n\"\n",
    "\n",
    "with open('testdata2.xml.seg', 'w') as xmlfile:\n",
    "    xmlfile.write(xml_text)"
   ]
  },
  {
   "cell_type": "code",
   "execution_count": null,
   "id": "4a87e778",
   "metadata": {},
   "outputs": [],
   "source": []
  }
 ],
 "metadata": {
  "kernelspec": {
   "display_name": "Python 3 (ipykernel)",
   "language": "python",
   "name": "python3"
  },
  "language_info": {
   "codemirror_mode": {
    "name": "ipython",
    "version": 3
   },
   "file_extension": ".py",
   "mimetype": "text/x-python",
   "name": "python",
   "nbconvert_exporter": "python",
   "pygments_lexer": "ipython3",
   "version": "3.10.9"
  }
 },
 "nbformat": 4,
 "nbformat_minor": 5
}

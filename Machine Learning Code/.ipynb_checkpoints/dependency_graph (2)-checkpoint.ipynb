{
 "cells": [
  {
   "cell_type": "code",
   "execution_count": 8,
   "metadata": {},
   "outputs": [],
   "source": [
    "# -*- coding: utf-8 -*-\n",
    "\n",
    "import numpy as np\n",
    "import spacy\n",
    "import pickle\n",
    "import argparse\n",
    "\n",
    "\n",
    "from spacy.tokens import Doc\n",
    "\n",
    "class WhitespaceTokenizer(object):\n",
    "    def __init__(self, vocab):\n",
    "        self.vocab = vocab\n",
    "\n",
    "    def __call__(self, text):\n",
    "        words = text.split()\n",
    "        # All tokens 'own' a subsequent space character in this tokenizer\n",
    "        spaces = [True] * len(words)\n",
    "        return Doc(self.vocab, words=words, spaces=spaces)\n",
    "\n",
    "#nlp = spacy.load('en_core_web_sm')\n",
    "##import en_core_web_sm\n",
    "#nlp = en_core_web_sm.load()\n",
    "\n",
    "import spacy\n",
    "\n",
    "spacy.prefer_gpu()\n",
    "nlp = spacy.load(\"en_core_web_sm\")\n",
    "\n",
    "nlp.tokenizer = WhitespaceTokenizer(nlp.vocab)\n",
    "\n",
    "def dependency_adj_matrix(text):\n",
    "    # https://spacy.io/docs/usage/processing-text\n",
    "    tokens = nlp(text)\n",
    "    words = text.split()\n",
    "    matrix = np.zeros((len(words), len(words))).astype('float32')\n",
    "    assert len(words) == len(list(tokens))\n",
    "\n",
    "    for token in tokens:\n",
    "        matrix[token.i][token.i] = 1\n",
    "        for child in token.children:\n",
    "            matrix[token.i][child.i] = 1\n",
    "            matrix[child.i][token.i] = 1\n",
    "\n",
    "    return matrix\n",
    "\n",
    "def process(filename):\n",
    "    fin = open(filename, 'r', encoding='utf-8', newline='\\n', errors='ignore')\n",
    "    lines = fin.readlines()\n",
    "    fin.close()\n",
    "    idx2graph = {}\n",
    "    fout = open(filename+'.graph', 'wb')\n",
    "    for i in range(0, len(lines), 3):\n",
    "        text_left, _, text_right = [s.strip() for s in lines[i].partition(\"$T$\")]\n",
    "        aspect = lines[i + 1].strip()\n",
    "        adj_matrix = dependency_adj_matrix(text_left+' '+aspect+' '+text_right)\n",
    "        idx2graph[i] = adj_matrix\n",
    "    pickle.dump(idx2graph, fout)        \n",
    "    fout.close() "
   ]
  },
  {
   "cell_type": "code",
   "execution_count": null,
   "metadata": {},
   "outputs": [],
   "source": [
    "    #parser = argparse.ArgumentParser()\n",
    "    #parser.add_argument('--dataset', default=None, type=str, help='path to dataset')\n",
    "    #opt = parser.parse_args()\n",
    "    #process(opt.dataset)\n",
    "\n",
    "    # process('./datasets/acl-14-short-data/train.raw')\n",
    "    # process('./datasets/acl-14-short-data/test.raw')\n",
    "    #process('./datasets/semeval14/Restaurants_Train.xml.seg')\n",
    "    # process('./datasets/semeval14/Restaurants_Test_Gold.xml.seg')\n",
    "    #process('./datasets/semeval14/Laptops_Train.xml.seg')\n",
    "    # process('./datasets/semeval14/Laptops_Test_Gold.xml.seg')\n",
    "    #process('./datasets/semeval14/hardware_reddit_train.xml.seg')\n",
    "    #process('./datasets/semeval14/hardware_reddit_test.xml.seg')\n",
    "    process('./datasets/semeval14/traindata.xml.seg')\n",
    "    #process('./datasets/semeval14/testdata.xml.seg')"
   ]
  },
  {
   "cell_type": "code",
   "execution_count": null,
   "metadata": {},
   "outputs": [],
   "source": []
  }
 ],
 "metadata": {
  "kernelspec": {
   "display_name": "Python 3 (ipykernel)",
   "language": "python",
   "name": "python3"
  },
  "language_info": {
   "codemirror_mode": {
    "name": "ipython",
    "version": 3
   },
   "file_extension": ".py",
   "mimetype": "text/x-python",
   "name": "python",
   "nbconvert_exporter": "python",
   "pygments_lexer": "ipython3",
   "version": "3.9.13"
  },
  "vscode": {
   "interpreter": {
    "hash": "31f2aee4e71d21fbe5cf8b01ff0e069b9275f58929596ceb00d14d90e3e16cd6"
   }
  }
 },
 "nbformat": 4,
 "nbformat_minor": 2
}
